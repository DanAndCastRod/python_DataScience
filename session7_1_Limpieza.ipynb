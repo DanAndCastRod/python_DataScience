{
 "cells": [
  {
   "cell_type": "markdown",
   "metadata": {},
   "source": [
    "# Preprocesamiento de datos y estadísticas"
   ]
  },
  {
   "cell_type": "markdown",
   "metadata": {},
   "source": [
    "## 1. Introducción"
   ]
  },
  {
   "cell_type": "markdown",
   "metadata": {},
   "source": [
    "La calidad de los datos es fundamental en proyectos de ciencia de datos por varias razones:"
   ]
  },
  {
   "cell_type": "markdown",
   "metadata": {},
   "source": [
    "1. **Exactitud y completitud:** La calidad de los datos se mide hasta qué punto cumplen los conjuntos de datos con los criterios de exactitud, completitud, validez, coherencia, unicidad, oportunidad y adecuación a un propósito.\n",
    "2. **Toma de decisiones:** Los estándares de claidad de datos garantizan que las empresas tomen las decisiones basadas en datos que les permitan cumplir sus objetivos del negocio.\n",
    "3. **Costos asociados a mala calidad:** No atender adecuadamente los problemas de datos. como datos duplicados, valores omitidos o valores atípicos, incrementa el riesgo de obtener resultados negativos en la empresa, según Gatner, los datos de mala calidad suponen a las organizaciones un coste medio anual de 12.9 millones de dolares.\n",
    "4. **Confianza en los datos:** Si la calidad de los datos cumple en su estándar de uso previsto, los consumidores de los datos pueden cofiar en ellos y utilizarlos para mejorar la toma de dicisiones.\n",
    "5. **Inteligencia artificial y machine learning:** A medida que las empresas vayan intefrando la inteligencia artificial (IA) y las tecnologías automatización en sus flujos de trabajo. los datos de alta calidad serán cruciales para la adopción efectiva de estas herramientas.\n",
    "6. **Análisis de datos:** La calidad de los datos es clave para realizar análisis que verdaderamente agreguen valor con el fin de garantizar el correcto funcionamiento de la compañía.\n",
    "\n",
    "[1] [Calidad IBM](https://www.ibm.com/mx-es/topics/what-is-data-quality)"
   ]
  },
  {
   "cell_type": "markdown",
   "metadata": {},
   "source": [
    "## 2. Limpieza y transformación de datos"
   ]
  },
  {
   "cell_type": "markdown",
   "metadata": {},
   "source": [
    "### 2.1. Definición y relevancia"
   ]
  },
  {
   "cell_type": "markdown",
   "metadata": {},
   "source": [
    "La calidad del modelo depende de la calidad de los datos. La limpieza debe garantizar que trabajemos con datos precisos y relevantes.\n",
    "Los datos crudos rara vez están listos para los analisis. A menudo contienen, errores, omisiones, duplicados y otros problemas que pueden distorsionar los resultados y llevar a interpretaciones incorrectas."
   ]
  },
  {
   "cell_type": "markdown",
   "metadata": {},
   "source": [
    "#### Beneficios de la limpieza de datos\n",
    "\n",
    "* **Eficiencia en el análisis:** Los datos limpios y bien estructurados facilitan la implementación de algoritmos y técnicas de análisis.\n",
    "* **Resultados más precisos:** La precisión de cualquer análisis o modelo está directamente relacionada con la calidad de los datos de entrada."
   ]
  },
  {
   "cell_type": "markdown",
   "metadata": {},
   "source": [
    "### 2.2. Técnicas de limpieza"
   ]
  },
  {
   "cell_type": "markdown",
   "metadata": {},
   "source": [
    "#### 2.2.1. Eliminación de registros duplicados\n",
    "Estos pueden surgir debido a errores en la recopilación de datos o en la combinación de múltiples fuentes de datos. Herramientas como pandas en python que facilitan la identificación y eleminación de duplicados con métodos como `drop_duplicates()`"
   ]
  },
  {
   "cell_type": "code",
   "execution_count": 3,
   "metadata": {},
   "outputs": [
    {
     "data": {
      "text/plain": [
       "100"
      ]
     },
     "execution_count": 3,
     "metadata": {},
     "output_type": "execute_result"
    }
   ],
   "source": [
    "import pandas as pd\n",
    "import numpy as np\n",
    "\n",
    "dt=[np.random.choice([\"A\",\"B\",\"C\"],100) for i in range(3)]\n",
    "df = pd.DataFrame(dt).transpose()\n",
    "df.__len__()"
   ]
  },
  {
   "cell_type": "code",
   "execution_count": 4,
   "metadata": {},
   "outputs": [
    {
     "data": {
      "text/plain": [
       "27"
      ]
     },
     "execution_count": 4,
     "metadata": {},
     "output_type": "execute_result"
    }
   ],
   "source": [
    "df.drop_duplicates(inplace=True)\n",
    "df.__len__()\n"
   ]
  },
  {
   "cell_type": "markdown",
   "metadata": {},
   "source": [
    "#### 2.2.2. Datos irrelevantes"
   ]
  },
  {
   "cell_type": "markdown",
   "metadata": {},
   "source": [
    "No todos los datos recopilados serán utiles para el análisis. es esencial identificar y descartar información que no aporte valor al análisis o modelo específico."
   ]
  },
  {
   "cell_type": "markdown",
   "metadata": {},
   "source": [
    "**Ejemplo:**"
   ]
  },
  {
   "cell_type": "code",
   "execution_count": 5,
   "metadata": {},
   "outputs": [
    {
     "data": {
      "text/html": [
       "<div>\n",
       "<style scoped>\n",
       "    .dataframe tbody tr th:only-of-type {\n",
       "        vertical-align: middle;\n",
       "    }\n",
       "\n",
       "    .dataframe tbody tr th {\n",
       "        vertical-align: top;\n",
       "    }\n",
       "\n",
       "    .dataframe thead th {\n",
       "        text-align: right;\n",
       "    }\n",
       "</style>\n",
       "<table border=\"1\" class=\"dataframe\">\n",
       "  <thead>\n",
       "    <tr style=\"text-align: right;\">\n",
       "      <th></th>\n",
       "      <th>Nombre</th>\n",
       "      <th>Edad</th>\n",
       "      <th>Ciudad</th>\n",
       "      <th>ID</th>\n",
       "      <th>Color de ojos</th>\n",
       "      <th>Codigo Postal</th>\n",
       "    </tr>\n",
       "  </thead>\n",
       "  <tbody>\n",
       "    <tr>\n",
       "      <th>0</th>\n",
       "      <td>Juan</td>\n",
       "      <td>32</td>\n",
       "      <td>Bogota</td>\n",
       "      <td>1</td>\n",
       "      <td>Azul</td>\n",
       "      <td>110111</td>\n",
       "    </tr>\n",
       "    <tr>\n",
       "      <th>1</th>\n",
       "      <td>Ana</td>\n",
       "      <td>28</td>\n",
       "      <td>Medellin</td>\n",
       "      <td>2</td>\n",
       "      <td>Verde</td>\n",
       "      <td>050021</td>\n",
       "    </tr>\n",
       "    <tr>\n",
       "      <th>2</th>\n",
       "      <td>Carlos</td>\n",
       "      <td>45</td>\n",
       "      <td>Cali</td>\n",
       "      <td>3</td>\n",
       "      <td>Marron</td>\n",
       "      <td>760001</td>\n",
       "    </tr>\n",
       "    <tr>\n",
       "      <th>3</th>\n",
       "      <td>Maria</td>\n",
       "      <td>38</td>\n",
       "      <td>Barranquilla</td>\n",
       "      <td>4</td>\n",
       "      <td>Negro</td>\n",
       "      <td>080002</td>\n",
       "    </tr>\n",
       "  </tbody>\n",
       "</table>\n",
       "</div>"
      ],
      "text/plain": [
       "   Nombre  Edad        Ciudad  ID Color de ojos Codigo Postal\n",
       "0    Juan    32        Bogota   1          Azul        110111\n",
       "1     Ana    28      Medellin   2         Verde        050021\n",
       "2  Carlos    45          Cali   3        Marron        760001\n",
       "3   Maria    38  Barranquilla   4         Negro        080002"
      ]
     },
     "execution_count": 5,
     "metadata": {},
     "output_type": "execute_result"
    }
   ],
   "source": [
    "data = {\n",
    "    \"Nombre\": [\"Juan\", \"Ana\", \"Carlos\", \"Maria\"],\n",
    "    \"Edad\":[32,28,45, 38],\n",
    "    \"Ciudad\":[\"Bogota\",\"Medellin\",\"Cali\", \"Barranquilla\"],\n",
    "    \"ID\":[1,2,3,4],\n",
    "    \"Color de ojos\":[\"Azul\",\"Verde\",\"Marron\",\"Negro\"],\n",
    "    \"Codigo Postal\":[\"110111\",\"050021\",\"760001\",\"080002\"]\n",
    "}\n",
    "df = pd.DataFrame(data)\n",
    "df"
   ]
  },
  {
   "cell_type": "markdown",
   "metadata": {},
   "source": [
    "Este DataFrame contiene varias columnas: `Nombre`,`Edad`,`Ciudad`,`ID`,`Color de ojos` y `Codigo Postal`.\n",
    "\n",
    "Si se está realizando un análisis en el que solo interesen las características demográficas de estas personas (como nombre, edad, ciudad y codigo postal), entonces las columnas ID y color de ojos podrían considerarse irrelevantes. Estas columnas no aportan nada al analisis y solo ocupan un espacio en memoria. En este caso, podrías eliminar estas columnas para limpiar los datos"
   ]
  },
  {
   "cell_type": "code",
   "execution_count": 6,
   "metadata": {},
   "outputs": [
    {
     "data": {
      "text/html": [
       "<div>\n",
       "<style scoped>\n",
       "    .dataframe tbody tr th:only-of-type {\n",
       "        vertical-align: middle;\n",
       "    }\n",
       "\n",
       "    .dataframe tbody tr th {\n",
       "        vertical-align: top;\n",
       "    }\n",
       "\n",
       "    .dataframe thead th {\n",
       "        text-align: right;\n",
       "    }\n",
       "</style>\n",
       "<table border=\"1\" class=\"dataframe\">\n",
       "  <thead>\n",
       "    <tr style=\"text-align: right;\">\n",
       "      <th></th>\n",
       "      <th>Nombre</th>\n",
       "      <th>Edad</th>\n",
       "      <th>Ciudad</th>\n",
       "      <th>Codigo Postal</th>\n",
       "    </tr>\n",
       "  </thead>\n",
       "  <tbody>\n",
       "    <tr>\n",
       "      <th>0</th>\n",
       "      <td>Juan</td>\n",
       "      <td>32</td>\n",
       "      <td>Bogota</td>\n",
       "      <td>110111</td>\n",
       "    </tr>\n",
       "    <tr>\n",
       "      <th>1</th>\n",
       "      <td>Ana</td>\n",
       "      <td>28</td>\n",
       "      <td>Medellin</td>\n",
       "      <td>050021</td>\n",
       "    </tr>\n",
       "    <tr>\n",
       "      <th>2</th>\n",
       "      <td>Carlos</td>\n",
       "      <td>45</td>\n",
       "      <td>Cali</td>\n",
       "      <td>760001</td>\n",
       "    </tr>\n",
       "    <tr>\n",
       "      <th>3</th>\n",
       "      <td>Maria</td>\n",
       "      <td>38</td>\n",
       "      <td>Barranquilla</td>\n",
       "      <td>080002</td>\n",
       "    </tr>\n",
       "  </tbody>\n",
       "</table>\n",
       "</div>"
      ],
      "text/plain": [
       "   Nombre  Edad        Ciudad Codigo Postal\n",
       "0    Juan    32        Bogota        110111\n",
       "1     Ana    28      Medellin        050021\n",
       "2  Carlos    45          Cali        760001\n",
       "3   Maria    38  Barranquilla        080002"
      ]
     },
     "execution_count": 6,
     "metadata": {},
     "output_type": "execute_result"
    }
   ],
   "source": [
    "df_clean = df.drop([\"ID\",\"Color de ojos\"], axis = 1)\n",
    "df_clean"
   ]
  },
  {
   "cell_type": "markdown",
   "metadata": {},
   "source": [
    "#### 2.2.3. Errores en los datos"
   ]
  },
  {
   "cell_type": "markdown",
   "metadata": {},
   "source": [
    "Estos pueden incluir datos mal registrados, datos que no cumplen con un formato específico o datos que están fuera de un rango aceptable"
   ]
  },
  {
   "cell_type": "markdown",
   "metadata": {},
   "source": [
    "**Ejemplo:**"
   ]
  },
  {
   "cell_type": "code",
   "execution_count": 7,
   "metadata": {},
   "outputs": [
    {
     "data": {
      "text/html": [
       "<div>\n",
       "<style scoped>\n",
       "    .dataframe tbody tr th:only-of-type {\n",
       "        vertical-align: middle;\n",
       "    }\n",
       "\n",
       "    .dataframe tbody tr th {\n",
       "        vertical-align: top;\n",
       "    }\n",
       "\n",
       "    .dataframe thead th {\n",
       "        text-align: right;\n",
       "    }\n",
       "</style>\n",
       "<table border=\"1\" class=\"dataframe\">\n",
       "  <thead>\n",
       "    <tr style=\"text-align: right;\">\n",
       "      <th></th>\n",
       "      <th>Nombre</th>\n",
       "      <th>Edad</th>\n",
       "      <th>Ciudad</th>\n",
       "    </tr>\n",
       "  </thead>\n",
       "  <tbody>\n",
       "    <tr>\n",
       "      <th>0</th>\n",
       "      <td>Juan</td>\n",
       "      <td>32</td>\n",
       "      <td>bogotá</td>\n",
       "    </tr>\n",
       "    <tr>\n",
       "      <th>1</th>\n",
       "      <td>Ana</td>\n",
       "      <td>28</td>\n",
       "      <td>Medellin</td>\n",
       "    </tr>\n",
       "    <tr>\n",
       "      <th>2</th>\n",
       "      <td>Carlos</td>\n",
       "      <td>230</td>\n",
       "      <td>cali</td>\n",
       "    </tr>\n",
       "    <tr>\n",
       "      <th>3</th>\n",
       "      <td>Maria</td>\n",
       "      <td>38</td>\n",
       "      <td>Barranquilla</td>\n",
       "    </tr>\n",
       "    <tr>\n",
       "      <th>4</th>\n",
       "      <td>NaN</td>\n",
       "      <td>veinticinco</td>\n",
       "      <td>Bogota</td>\n",
       "    </tr>\n",
       "  </tbody>\n",
       "</table>\n",
       "</div>"
      ],
      "text/plain": [
       "   Nombre         Edad        Ciudad\n",
       "0    Juan           32        bogotá\n",
       "1     Ana           28      Medellin\n",
       "2  Carlos          230          cali\n",
       "3   Maria           38  Barranquilla\n",
       "4     NaN  veinticinco        Bogota"
      ]
     },
     "execution_count": 7,
     "metadata": {},
     "output_type": "execute_result"
    }
   ],
   "source": [
    "data = {\n",
    "    \"Nombre\":[\"Juan\", \"Ana\", \"Carlos\",\"Maria\", np.nan],\n",
    "    \"Edad\":[32,28,230,38,\"veinticinco\"],\n",
    "    \"Ciudad\":[\"bogotá\", \"Medellin\",\"cali\", \"Barranquilla\", \"Bogota\"]\n",
    "}\n",
    "df = pd.DataFrame(data)\n",
    "df"
   ]
  },
  {
   "cell_type": "code",
   "execution_count": 8,
   "metadata": {},
   "outputs": [
    {
     "data": {
      "text/html": [
       "<div>\n",
       "<style scoped>\n",
       "    .dataframe tbody tr th:only-of-type {\n",
       "        vertical-align: middle;\n",
       "    }\n",
       "\n",
       "    .dataframe tbody tr th {\n",
       "        vertical-align: top;\n",
       "    }\n",
       "\n",
       "    .dataframe thead th {\n",
       "        text-align: right;\n",
       "    }\n",
       "</style>\n",
       "<table border=\"1\" class=\"dataframe\">\n",
       "  <thead>\n",
       "    <tr style=\"text-align: right;\">\n",
       "      <th></th>\n",
       "      <th>Nombre</th>\n",
       "      <th>Edad</th>\n",
       "      <th>Ciudad</th>\n",
       "    </tr>\n",
       "  </thead>\n",
       "  <tbody>\n",
       "    <tr>\n",
       "      <th>0</th>\n",
       "      <td>Juan</td>\n",
       "      <td>32</td>\n",
       "      <td>bogotá</td>\n",
       "    </tr>\n",
       "    <tr>\n",
       "      <th>1</th>\n",
       "      <td>Ana</td>\n",
       "      <td>28</td>\n",
       "      <td>Medellin</td>\n",
       "    </tr>\n",
       "    <tr>\n",
       "      <th>2</th>\n",
       "      <td>Carlos</td>\n",
       "      <td>230</td>\n",
       "      <td>cali</td>\n",
       "    </tr>\n",
       "    <tr>\n",
       "      <th>3</th>\n",
       "      <td>Maria</td>\n",
       "      <td>38</td>\n",
       "      <td>Barranquilla</td>\n",
       "    </tr>\n",
       "    <tr>\n",
       "      <th>4</th>\n",
       "      <td>Desconocido</td>\n",
       "      <td>veinticinco</td>\n",
       "      <td>Bogota</td>\n",
       "    </tr>\n",
       "  </tbody>\n",
       "</table>\n",
       "</div>"
      ],
      "text/plain": [
       "        Nombre         Edad        Ciudad\n",
       "0         Juan           32        bogotá\n",
       "1          Ana           28      Medellin\n",
       "2       Carlos          230          cali\n",
       "3        Maria           38  Barranquilla\n",
       "4  Desconocido  veinticinco        Bogota"
      ]
     },
     "execution_count": 8,
     "metadata": {},
     "output_type": "execute_result"
    }
   ],
   "source": [
    "df[\"Nombre\"] = df[\"Nombre\"].replace(np.nan, \"Desconocido\")\n",
    "df"
   ]
  },
  {
   "cell_type": "code",
   "execution_count": 9,
   "metadata": {},
   "outputs": [
    {
     "data": {
      "text/plain": [
       "82.0"
      ]
     },
     "execution_count": 9,
     "metadata": {},
     "output_type": "execute_result"
    }
   ],
   "source": [
    "df[\"Edad\"] = pd.to_numeric(df[\"Edad\"], errors = \"coerce\")\n",
    "df[\"Edad\"].mean()"
   ]
  },
  {
   "cell_type": "code",
   "execution_count": 13,
   "metadata": {},
   "outputs": [
    {
     "data": {
      "text/html": [
       "<div>\n",
       "<style scoped>\n",
       "    .dataframe tbody tr th:only-of-type {\n",
       "        vertical-align: middle;\n",
       "    }\n",
       "\n",
       "    .dataframe tbody tr th {\n",
       "        vertical-align: top;\n",
       "    }\n",
       "\n",
       "    .dataframe thead th {\n",
       "        text-align: right;\n",
       "    }\n",
       "</style>\n",
       "<table border=\"1\" class=\"dataframe\">\n",
       "  <thead>\n",
       "    <tr style=\"text-align: right;\">\n",
       "      <th></th>\n",
       "      <th>Nombre</th>\n",
       "      <th>Edad</th>\n",
       "      <th>Ciudad</th>\n",
       "    </tr>\n",
       "  </thead>\n",
       "  <tbody>\n",
       "    <tr>\n",
       "      <th>0</th>\n",
       "      <td>Juan</td>\n",
       "      <td>32.0</td>\n",
       "      <td>bogotá</td>\n",
       "    </tr>\n",
       "    <tr>\n",
       "      <th>1</th>\n",
       "      <td>Ana</td>\n",
       "      <td>28.0</td>\n",
       "      <td>Medellin</td>\n",
       "    </tr>\n",
       "    <tr>\n",
       "      <th>2</th>\n",
       "      <td>Carlos</td>\n",
       "      <td>23.0</td>\n",
       "      <td>cali</td>\n",
       "    </tr>\n",
       "    <tr>\n",
       "      <th>3</th>\n",
       "      <td>Maria</td>\n",
       "      <td>38.0</td>\n",
       "      <td>Barranquilla</td>\n",
       "    </tr>\n",
       "    <tr>\n",
       "      <th>4</th>\n",
       "      <td>Desconocido</td>\n",
       "      <td>NaN</td>\n",
       "      <td>Bogota</td>\n",
       "    </tr>\n",
       "  </tbody>\n",
       "</table>\n",
       "</div>"
      ],
      "text/plain": [
       "        Nombre  Edad        Ciudad\n",
       "0         Juan  32.0        bogotá\n",
       "1          Ana  28.0      Medellin\n",
       "2       Carlos  23.0          cali\n",
       "3        Maria  38.0  Barranquilla\n",
       "4  Desconocido   NaN        Bogota"
      ]
     },
     "execution_count": 13,
     "metadata": {},
     "output_type": "execute_result"
    }
   ],
   "source": [
    "df[\"Edad\"] = [i/10 if edad_max < i else i for i in df[\"Edad\"]]\n",
    "df"
   ]
  },
  {
   "cell_type": "code",
   "execution_count": 14,
   "metadata": {},
   "outputs": [
    {
     "data": {
      "text/plain": [
       "['bogota', 'medellin', 'cali', 'barranquilla', 'bogota']"
      ]
     },
     "execution_count": 14,
     "metadata": {},
     "output_type": "execute_result"
    }
   ],
   "source": [
    "df[\"Ciudad\"] = df[\"Ciudad\"].str.lower()\n",
    "import unicodedata\n",
    "\n",
    "\n",
    "[''.join([c for c in unicodedata.normalize(\"NFKD\",texto) if unicodedata.category(c) in [\"Lu\",\"Ll\"]]) for texto in df[\"Ciudad\"]]"
   ]
  },
  {
   "cell_type": "code",
   "execution_count": 15,
   "metadata": {},
   "outputs": [
    {
     "data": {
      "text/plain": [
       "'bogota'"
      ]
     },
     "execution_count": 15,
     "metadata": {},
     "output_type": "execute_result"
    }
   ],
   "source": [
    "\"\".join([c.lower() for c in unicodedata.normalize(\"NFKD\",\"@Bog~òt+á\") if unicodedata.bidirectional(c)=='L'])"
   ]
  },
  {
   "cell_type": "markdown",
   "metadata": {},
   "source": [
    "Más información acerca de `unicodedata` en [doc](https://docs.python.org/es/3/library/unicodedata.html)"
   ]
  },
  {
   "cell_type": "code",
   "execution_count": 16,
   "metadata": {},
   "outputs": [
    {
     "data": {
      "text/html": [
       "<div>\n",
       "<style scoped>\n",
       "    .dataframe tbody tr th:only-of-type {\n",
       "        vertical-align: middle;\n",
       "    }\n",
       "\n",
       "    .dataframe tbody tr th {\n",
       "        vertical-align: top;\n",
       "    }\n",
       "\n",
       "    .dataframe thead th {\n",
       "        text-align: right;\n",
       "    }\n",
       "</style>\n",
       "<table border=\"1\" class=\"dataframe\">\n",
       "  <thead>\n",
       "    <tr style=\"text-align: right;\">\n",
       "      <th></th>\n",
       "      <th>Nombre</th>\n",
       "      <th>Edad</th>\n",
       "      <th>Ciudad</th>\n",
       "    </tr>\n",
       "  </thead>\n",
       "  <tbody>\n",
       "    <tr>\n",
       "      <th>0</th>\n",
       "      <td>Juan</td>\n",
       "      <td>32.0</td>\n",
       "      <td>bogotá</td>\n",
       "    </tr>\n",
       "    <tr>\n",
       "      <th>1</th>\n",
       "      <td>Ana</td>\n",
       "      <td>28.0</td>\n",
       "      <td>medellin</td>\n",
       "    </tr>\n",
       "    <tr>\n",
       "      <th>2</th>\n",
       "      <td>Carlos</td>\n",
       "      <td>23.0</td>\n",
       "      <td>cali</td>\n",
       "    </tr>\n",
       "    <tr>\n",
       "      <th>3</th>\n",
       "      <td>Maria</td>\n",
       "      <td>38.0</td>\n",
       "      <td>barranquilla</td>\n",
       "    </tr>\n",
       "    <tr>\n",
       "      <th>4</th>\n",
       "      <td>Desconocido</td>\n",
       "      <td>NaN</td>\n",
       "      <td>bogota</td>\n",
       "    </tr>\n",
       "  </tbody>\n",
       "</table>\n",
       "</div>"
      ],
      "text/plain": [
       "        Nombre  Edad        Ciudad\n",
       "0         Juan  32.0        bogotá\n",
       "1          Ana  28.0      medellin\n",
       "2       Carlos  23.0          cali\n",
       "3        Maria  38.0  barranquilla\n",
       "4  Desconocido   NaN        bogota"
      ]
     },
     "execution_count": 16,
     "metadata": {},
     "output_type": "execute_result"
    }
   ],
   "source": [
    "df"
   ]
  },
  {
   "cell_type": "markdown",
   "metadata": {},
   "source": [
    "#### 2.2.4. Inconsistencias en la codificación"
   ]
  },
  {
   "cell_type": "markdown",
   "metadata": {},
   "source": [
    "Cuando no se tienen definidos estandares dentro de la información recopilada suelen aparecer inconsistencias en la información, por ejemplo en una columna de datos categóricos, una misma categoría puede estar codificada de diferentes maneras (\"USA\",\"U.S.A\",\"Estados Unidos\").\n",
    "Para corregir estos errores se suelen usar estrategias como las anteriores o librerías de Procesamiento de Lenguaje Natural y Machine Learning"
   ]
  },
  {
   "cell_type": "markdown",
   "metadata": {},
   "source": [
    "### 2.3. Técnicas de Transformación"
   ]
  },
  {
   "cell_type": "markdown",
   "metadata": {},
   "source": [
    "#### 2.3.1. Normalización"
   ]
  },
  {
   "cell_type": "markdown",
   "metadata": {},
   "source": [
    "La normalización hace referencia a cambiar los valores en el conjunto de datos a una escala común, sin distorisonar las diferencias en los rangos de valores. Una técnica común es escalar características entre 0 y 1.\n",
    "\n",
    "$$x' = \\frac{x-\\min(x)}{max(x)-min(x)}$$"
   ]
  },
  {
   "cell_type": "markdown",
   "metadata": {},
   "source": [
    "#### 2.3.2. Estandarización"
   ]
  },
  {
   "cell_type": "markdown",
   "metadata": {},
   "source": [
    "A menudo llamado escalamiento Z-score, implica la reescala de las características de modo que tengan una media de 0 y una desviación estandar de 1\n",
    "$$x' = \\frac{x-\\mu}{\\sigma}$$"
   ]
  },
  {
   "cell_type": "markdown",
   "metadata": {},
   "source": [
    "#### Usos \n",
    "* La normalización es útil cuando se conoce que los datos de una característica siguen una distribución no gaussiana o si se necesita convertir una característica a una esca común sin distorsionar las diferencias en los rangos de valores.\n",
    "* La estandarización es util cuando de entrada ya se conoce que los datos siguen una distribución gaussiana. Adrmás, es escencial cuando se usan algoritmos de aprendizaje automático que asumen que todas las características están centradas al rededor del cero y tienen varianza en la misma orden. "
   ]
  },
  {
   "cell_type": "code",
   "execution_count": 17,
   "metadata": {},
   "outputs": [
    {
     "data": {
      "text/html": [
       "<div>\n",
       "<style scoped>\n",
       "    .dataframe tbody tr th:only-of-type {\n",
       "        vertical-align: middle;\n",
       "    }\n",
       "\n",
       "    .dataframe tbody tr th {\n",
       "        vertical-align: top;\n",
       "    }\n",
       "\n",
       "    .dataframe thead th {\n",
       "        text-align: right;\n",
       "    }\n",
       "</style>\n",
       "<table border=\"1\" class=\"dataframe\">\n",
       "  <thead>\n",
       "    <tr style=\"text-align: right;\">\n",
       "      <th></th>\n",
       "      <th>A</th>\n",
       "      <th>B</th>\n",
       "      <th>AN</th>\n",
       "      <th>BN</th>\n",
       "      <th>AS</th>\n",
       "      <th>AB</th>\n",
       "    </tr>\n",
       "  </thead>\n",
       "  <tbody>\n",
       "    <tr>\n",
       "      <th>0</th>\n",
       "      <td>99.144086</td>\n",
       "      <td>6.321927</td>\n",
       "      <td>0.428721</td>\n",
       "      <td>0.243788</td>\n",
       "      <td>-0.177525</td>\n",
       "      <td>-1.935863</td>\n",
       "    </tr>\n",
       "    <tr>\n",
       "      <th>1</th>\n",
       "      <td>93.677077</td>\n",
       "      <td>8.476866</td>\n",
       "      <td>0.206312</td>\n",
       "      <td>0.453903</td>\n",
       "      <td>-1.364465</td>\n",
       "      <td>-0.713126</td>\n",
       "    </tr>\n",
       "    <tr>\n",
       "      <th>2</th>\n",
       "      <td>102.370851</td>\n",
       "      <td>8.422602</td>\n",
       "      <td>0.559992</td>\n",
       "      <td>0.448612</td>\n",
       "      <td>0.523037</td>\n",
       "      <td>-0.743916</td>\n",
       "    </tr>\n",
       "    <tr>\n",
       "      <th>3</th>\n",
       "      <td>99.027030</td>\n",
       "      <td>9.411279</td>\n",
       "      <td>0.423959</td>\n",
       "      <td>0.545012</td>\n",
       "      <td>-0.202939</td>\n",
       "      <td>-0.182929</td>\n",
       "    </tr>\n",
       "    <tr>\n",
       "      <th>4</th>\n",
       "      <td>93.290439</td>\n",
       "      <td>9.834778</td>\n",
       "      <td>0.190583</td>\n",
       "      <td>0.586305</td>\n",
       "      <td>-1.448408</td>\n",
       "      <td>0.057368</td>\n",
       "    </tr>\n",
       "  </tbody>\n",
       "</table>\n",
       "</div>"
      ],
      "text/plain": [
       "            A         B        AN        BN        AS        AB\n",
       "0   99.144086  6.321927  0.428721  0.243788 -0.177525 -1.935863\n",
       "1   93.677077  8.476866  0.206312  0.453903 -1.364465 -0.713126\n",
       "2  102.370851  8.422602  0.559992  0.448612  0.523037 -0.743916\n",
       "3   99.027030  9.411279  0.423959  0.545012 -0.202939 -0.182929\n",
       "4   93.290439  9.834778  0.190583  0.586305 -1.448408  0.057368"
      ]
     },
     "execution_count": 17,
     "metadata": {},
     "output_type": "execute_result"
    }
   ],
   "source": [
    "import pandas as pd\n",
    "import numpy as np\n",
    "\n",
    "# Creando un DataFrame de ejemplo\n",
    "data = {\n",
    "    'A': np.random.randn(100) * 4 + 100,\n",
    "    'B': np.random.randn(100) * 2 + 10,\n",
    "}\n",
    "df_consolidated = pd.DataFrame()\n",
    "df = pd.DataFrame(data)\n",
    "df_consolidated = df.copy()\n",
    "# print(df)\n",
    "# Normalización: Cambiando los datos al rango [0, 1]\n",
    "df_normalized = (df - df.min()) / (df.max() - df.min())\n",
    "df_consolidated[\"AN\"] = df_normalized[\"A\"]\n",
    "df_consolidated[\"BN\"] = df_normalized[\"B\"]\n",
    "# print(\"Datos normalizados:\\n\", df_normalized.head())\n",
    "\n",
    "# Estandarización: Cambiando los datos para tener media = 0 y desviación estándar = 1\n",
    "df_standardized = (df - df.mean()) / df.std()\n",
    "df_consolidated[\"AS\"] = df_standardized[\"A\"]\n",
    "df_consolidated[\"AB\"] = df_standardized[\"B\"]\n",
    "\n",
    "# print(\"\\nDatos estandarizados:\\n\", df_standardized.head())\n",
    "df_consolidated.head()"
   ]
  },
  {
   "cell_type": "code",
   "execution_count": 18,
   "metadata": {},
   "outputs": [
    {
     "data": {
      "image/png": "[encoded data removed]",
      "text/plain": [
       "<Figure size 1500x500 with 3 Axes>"
      ]
     },
     "metadata": {},
     "output_type": "display_data"
    }
   ],
   "source": [
    "import matplotlib.pyplot as plt\n",
    "\n",
    "fig,ax = plt.subplots(1,3, figsize = (15,5),layout = \"constrained\")\n",
    "\n",
    "ax[0].violinplot(df)\n",
    "ax[0].boxplot(df)\n",
    "ax[0].set(title=\"Data Inicial\")\n",
    "ax[1].violinplot(df_normalized)\n",
    "ax[1].boxplot(df_normalized)\n",
    "ax[1].set(title=\"Data Normalizada\")\n",
    "ax[2].violinplot(df_standardized)\n",
    "ax[2].boxplot(df_standardized)\n",
    "ax[2].set(title=\"Data Estandarizada\")\n",
    "plt.show()"
   ]
  },
  {
   "cell_type": "markdown",
   "metadata": {},
   "source": [
    "#### 2.3.3. Codificación de variables categóricas (One-Hot encoding)"
   ]
  },
  {
   "cell_type": "markdown",
   "metadata": {},
   "source": [
    "One-hot encoding es una técnica de procesamiento que se utiliza para convertir variables categóricas en forma númerica. Es muy útil en el aprendizaje automático, ya que muchos modelos (como la mayoría de los basados en árboles y los modelos lineales) no pueden trabajar directamente con datos de forma categórica."
   ]
  },
  {
   "cell_type": "markdown",
   "metadata": {},
   "source": [
    "##### ¿Cuándo usar One-Hot Encoding?\n",
    "1. Cuando las características categóricas son nominales y no hay relación de orden entre las categórias. Si hay una relación ordinal (como alto, medio, bajo), otros métodos como el \"Label Encoding\" podrían se más adecuados.\n",
    "2. Cuando no hay un número excesivamente grande de categorías en una variable. One-hot encoding aumenta la dimensionalidad de los datos porque agrega nuevas columnas, una para categoría única. Si una variable tiene muchas categórias, esto podría hacer que el conjunto de datos se vuelva muy grande y podría llevar a problemas de memoria y a un rendimiento más lento del modelo."
   ]
  },
  {
   "cell_type": "markdown",
   "metadata": {},
   "source": [
    "**Ejemplo:**"
   ]
  },
  {
   "cell_type": "code",
   "execution_count": 19,
   "metadata": {},
   "outputs": [
    {
     "data": {
      "text/html": [
       "<div>\n",
       "<style scoped>\n",
       "    .dataframe tbody tr th:only-of-type {\n",
       "        vertical-align: middle;\n",
       "    }\n",
       "\n",
       "    .dataframe tbody tr th {\n",
       "        vertical-align: top;\n",
       "    }\n",
       "\n",
       "    .dataframe thead th {\n",
       "        text-align: right;\n",
       "    }\n",
       "</style>\n",
       "<table border=\"1\" class=\"dataframe\">\n",
       "  <thead>\n",
       "    <tr style=\"text-align: right;\">\n",
       "      <th></th>\n",
       "      <th>Nombre</th>\n",
       "      <th>Edad</th>\n",
       "      <th>Codigo Postal</th>\n",
       "      <th>Ciudad_Barranquilla</th>\n",
       "      <th>Ciudad_Bogota</th>\n",
       "      <th>Ciudad_Cali</th>\n",
       "      <th>Ciudad_Medellin</th>\n",
       "    </tr>\n",
       "  </thead>\n",
       "  <tbody>\n",
       "    <tr>\n",
       "      <th>0</th>\n",
       "      <td>Juan</td>\n",
       "      <td>32</td>\n",
       "      <td>110111</td>\n",
       "      <td>False</td>\n",
       "      <td>True</td>\n",
       "      <td>False</td>\n",
       "      <td>False</td>\n",
       "    </tr>\n",
       "    <tr>\n",
       "      <th>1</th>\n",
       "      <td>Ana</td>\n",
       "      <td>28</td>\n",
       "      <td>050021</td>\n",
       "      <td>False</td>\n",
       "      <td>False</td>\n",
       "      <td>False</td>\n",
       "      <td>True</td>\n",
       "    </tr>\n",
       "    <tr>\n",
       "      <th>2</th>\n",
       "      <td>Carlos</td>\n",
       "      <td>45</td>\n",
       "      <td>760001</td>\n",
       "      <td>False</td>\n",
       "      <td>False</td>\n",
       "      <td>True</td>\n",
       "      <td>False</td>\n",
       "    </tr>\n",
       "    <tr>\n",
       "      <th>3</th>\n",
       "      <td>Maria</td>\n",
       "      <td>38</td>\n",
       "      <td>080002</td>\n",
       "      <td>True</td>\n",
       "      <td>False</td>\n",
       "      <td>False</td>\n",
       "      <td>False</td>\n",
       "    </tr>\n",
       "  </tbody>\n",
       "</table>\n",
       "</div>"
      ],
      "text/plain": [
       "   Nombre  Edad Codigo Postal  Ciudad_Barranquilla  Ciudad_Bogota  \\\n",
       "0    Juan    32        110111                False           True   \n",
       "1     Ana    28        050021                False          False   \n",
       "2  Carlos    45        760001                False          False   \n",
       "3   Maria    38        080002                 True          False   \n",
       "\n",
       "   Ciudad_Cali  Ciudad_Medellin  \n",
       "0        False            False  \n",
       "1        False             True  \n",
       "2         True            False  \n",
       "3        False            False  "
      ]
     },
     "execution_count": 19,
     "metadata": {},
     "output_type": "execute_result"
    }
   ],
   "source": [
    "pd.get_dummies(df_clean, columns=[\"Ciudad\"])"
   ]
  },
  {
   "cell_type": "markdown",
   "metadata": {},
   "source": [
    "**Recomendación:**\n",
    "Cuando se trabaje con one-hot encoding en el contexto de un proyecto de aprendizaje automático, debe tener en en cuenta no caer en la \"trampa de las variables ficticias\" si el modelo no puede manejar multicolinealidad. Algunos modelos, como la regresión Lineal, requieren que se elimine una de las columnas codificadas para evitar la multicolinealidad. Otros modelos como los arboles de decisión no requieren esta consideración."
   ]
  },
  {
   "cell_type": "markdown",
   "metadata": {},
   "source": [
    "#### 2.3.4. Binarización"
   ]
  },
  {
   "cell_type": "markdown",
   "metadata": {},
   "source": [
    "Es el proceso de convertir datos númericos en datos binarios (0, 1) basándose en un umbral. Es útil cuando tienes datos que quieres convertir en una característica booleana como parte de la ingeniería de características, o cuando estás trabajando con modelos de aprendizaje automático que requieren o se benefician de características binarias."
   ]
  },
  {
   "cell_type": "markdown",
   "metadata": {},
   "source": [
    "**¿Cuándo usar la binarización?**\n",
    "1. Cuando se tiene una variable númerica que desee convertir en una característica categórica binaria. Por ejemplo, en lugar de tener una característica de \"edad\", se podría contar con una característica de \"mayor de 18\" que sea 1 si la edad es mayor de 18 o 0 de lo contrario.\n",
    "2. Cuando estás trabjando con modelos que solo aceptan entradas binarias como lo es el caso de las máquinas de vectores de soporte, Bayes ingenuo, Arboles de decision, entre otros.\n",
    "3. Cuando quieres hacer una rápida exploración de datos o generar nuevas hipótesis basadas en categorizaciones binarias de características."
   ]
  },
  {
   "cell_type": "markdown",
   "metadata": {},
   "source": [
    "**Ejemplo:**"
   ]
  },
  {
   "cell_type": "code",
   "execution_count": 20,
   "metadata": {},
   "outputs": [
    {
     "data": {
      "text/html": [
       "<div>\n",
       "<style scoped>\n",
       "    .dataframe tbody tr th:only-of-type {\n",
       "        vertical-align: middle;\n",
       "    }\n",
       "\n",
       "    .dataframe tbody tr th {\n",
       "        vertical-align: top;\n",
       "    }\n",
       "\n",
       "    .dataframe thead th {\n",
       "        text-align: right;\n",
       "    }\n",
       "</style>\n",
       "<table border=\"1\" class=\"dataframe\">\n",
       "  <thead>\n",
       "    <tr style=\"text-align: right;\">\n",
       "      <th></th>\n",
       "      <th>Nombre</th>\n",
       "      <th>Edad</th>\n",
       "      <th>Ciudad</th>\n",
       "      <th>Codigo Postal</th>\n",
       "      <th>Mayor de 30</th>\n",
       "    </tr>\n",
       "  </thead>\n",
       "  <tbody>\n",
       "    <tr>\n",
       "      <th>0</th>\n",
       "      <td>Juan</td>\n",
       "      <td>32</td>\n",
       "      <td>Bogota</td>\n",
       "      <td>110111</td>\n",
       "      <td>1</td>\n",
       "    </tr>\n",
       "    <tr>\n",
       "      <th>1</th>\n",
       "      <td>Ana</td>\n",
       "      <td>28</td>\n",
       "      <td>Medellin</td>\n",
       "      <td>050021</td>\n",
       "      <td>0</td>\n",
       "    </tr>\n",
       "    <tr>\n",
       "      <th>2</th>\n",
       "      <td>Carlos</td>\n",
       "      <td>45</td>\n",
       "      <td>Cali</td>\n",
       "      <td>760001</td>\n",
       "      <td>1</td>\n",
       "    </tr>\n",
       "    <tr>\n",
       "      <th>3</th>\n",
       "      <td>Maria</td>\n",
       "      <td>38</td>\n",
       "      <td>Barranquilla</td>\n",
       "      <td>080002</td>\n",
       "      <td>1</td>\n",
       "    </tr>\n",
       "  </tbody>\n",
       "</table>\n",
       "</div>"
      ],
      "text/plain": [
       "   Nombre  Edad        Ciudad Codigo Postal  Mayor de 30\n",
       "0    Juan    32        Bogota        110111            1\n",
       "1     Ana    28      Medellin        050021            0\n",
       "2  Carlos    45          Cali        760001            1\n",
       "3   Maria    38  Barranquilla        080002            1"
      ]
     },
     "execution_count": 20,
     "metadata": {},
     "output_type": "execute_result"
    }
   ],
   "source": [
    "umbral = 30\n",
    "df_clean[\"Mayor de 30\"] = (df_clean[\"Edad\"]>umbral).astype(int)\n",
    "df_clean"
   ]
  },
  {
   "cell_type": "markdown",
   "metadata": {},
   "source": [
    "#### 2.3.5. Creación de características (Feature Engineering):"
   ]
  },
  {
   "cell_type": "markdown",
   "metadata": {},
   "source": [
    "El \"feature engineering\" (ingeniería de características) es un paso crucial en el proceso de modelado de aprendizaje automático. Se refiere al proceso de usar el conocimiento del dominio de los datos para crear características que hacen que los algoritmos de aprendizaje automático funcionen de manera más eficiente. Es beneficioso cuando:\n",
    "\n",
    "1. **Mejoramiento del rendimiento del modelo:** Algunos algoritmos de aprendizaje automático pueden descubrir complejas relaciones no lineales si se les proporciona las características correctas. La ingeniería de características puede ayudar a resaltar estas relaciones que de otro modo no serían evidentes.\n",
    "\n",
    "2. **Reducción de la complejidad del modelo:** Algunas veces, la generación de características puede simplificar un modelo al crear una relación lineal donde antes había una relación no lineal. Un modelo más simple es generalmente más fácil de interpretar y puede tener mejor desempeño.\n",
    "\n",
    "3. **Uso de conocimientos expertos:** La ingeniería de características te permite inyectar conocimientos del dominio en tus datos, posiblemente haciendo más efectivos los modelos de aprendizaje automático."
   ]
  },
  {
   "cell_type": "markdown",
   "metadata": {},
   "source": [
    "**Ejemplo:**"
   ]
  },
  {
   "cell_type": "markdown",
   "metadata": {},
   "source": [
    "Imagine que se tiene un conjunto de datos sobre precios de casas y se quiere predecir el precio de una casa basado en sus características. Supongamos que una de las características es la fecha de construcción de la casa. Esta fecha en sí misma puede no ser muy útil para un modelo, pero se puede convertir en una característica más útil, como la edad de la casa en el momento de la venta."
   ]
  },
  {
   "cell_type": "code",
   "execution_count": 21,
   "metadata": {},
   "outputs": [
    {
     "data": {
      "text/html": [
       "<div>\n",
       "<style scoped>\n",
       "    .dataframe tbody tr th:only-of-type {\n",
       "        vertical-align: middle;\n",
       "    }\n",
       "\n",
       "    .dataframe tbody tr th {\n",
       "        vertical-align: top;\n",
       "    }\n",
       "\n",
       "    .dataframe thead th {\n",
       "        text-align: right;\n",
       "    }\n",
       "</style>\n",
       "<table border=\"1\" class=\"dataframe\">\n",
       "  <thead>\n",
       "    <tr style=\"text-align: right;\">\n",
       "      <th></th>\n",
       "      <th>fecha_construccion</th>\n",
       "      <th>fecha_venta</th>\n",
       "      <th>edad_en_venta</th>\n",
       "    </tr>\n",
       "  </thead>\n",
       "  <tbody>\n",
       "    <tr>\n",
       "      <th>0</th>\n",
       "      <td>2000-01-01</td>\n",
       "      <td>2022-01-01</td>\n",
       "      <td>22</td>\n",
       "    </tr>\n",
       "    <tr>\n",
       "      <th>1</th>\n",
       "      <td>1990-10-12</td>\n",
       "      <td>2000-03-01</td>\n",
       "      <td>10</td>\n",
       "    </tr>\n",
       "    <tr>\n",
       "      <th>2</th>\n",
       "      <td>2021-01-15</td>\n",
       "      <td>2023-01-01</td>\n",
       "      <td>2</td>\n",
       "    </tr>\n",
       "  </tbody>\n",
       "</table>\n",
       "</div>"
      ],
      "text/plain": [
       "  fecha_construccion fecha_venta  edad_en_venta\n",
       "0         2000-01-01  2022-01-01             22\n",
       "1         1990-10-12  2000-03-01             10\n",
       "2         2021-01-15  2023-01-01              2"
      ]
     },
     "execution_count": 21,
     "metadata": {},
     "output_type": "execute_result"
    }
   ],
   "source": [
    "import pandas as pd\n",
    "from datetime import datetime\n",
    "\n",
    "# Crear un DataFrame de ejemplo\n",
    "data = {\n",
    "    'fecha_construccion': ['2000-01-01', '1990-10-12', '2021-01-15'],\n",
    "    'fecha_venta': ['2022-01-01', '2000-03-01', '2023-01-01'],\n",
    "}\n",
    "df = pd.DataFrame(data)\n",
    "\n",
    "# Convertir las columnas de cadena a fechas\n",
    "df['fecha_construccion'] = pd.to_datetime(df['fecha_construccion'])\n",
    "df['fecha_venta'] = pd.to_datetime(df['fecha_venta'])\n",
    "\n",
    "# Calcular la edad de la casa en el momento de la venta\n",
    "df['edad_en_venta'] = df['fecha_venta'].dt.year - df['fecha_construccion'].dt.year\n",
    "\n",
    "df"
   ]
  },
  {
   "cell_type": "markdown",
   "metadata": {},
   "source": [
    "La característica 'edad_en_venta' es probablemente más útil para un modelo de predicción de precios que la fecha de construcción en sí misma, ya que representa de manera más directa cómo la antigüedad de una casa podría afectar su valor."
   ]
  },
  {
   "cell_type": "markdown",
   "metadata": {},
   "source": [
    "## 3. Tratamiento de valores faltantes y Outliers"
   ]
  },
  {
   "cell_type": "markdown",
   "metadata": {},
   "source": [
    "### 3.1. Valores faltantes"
   ]
  },
  {
   "cell_type": "markdown",
   "metadata": {},
   "source": [
    "El tratamiento de valores faltantes es una etapa crucial en el preprocesamiento de datos, ya que la presencia de datos faltantes puede distorsionar el análisis y resultar en un modelo predictivo menos preciso. "
   ]
  },
  {
   "cell_type": "markdown",
   "metadata": {},
   "source": [
    "#### 3.1.1. Identificación:"
   ]
  },
  {
   "cell_type": "markdown",
   "metadata": {},
   "source": [
    "Para identificar los valores faltantes se pueden seguir algunos de los siguientes consejos:\n",
    "* Uso de funciones como isnull() o notnull()"
   ]
  },
  {
   "cell_type": "code",
   "execution_count": 22,
   "metadata": {},
   "outputs": [
    {
     "data": {
      "text/html": [
       "<div>\n",
       "<style scoped>\n",
       "    .dataframe tbody tr th:only-of-type {\n",
       "        vertical-align: middle;\n",
       "    }\n",
       "\n",
       "    .dataframe tbody tr th {\n",
       "        vertical-align: top;\n",
       "    }\n",
       "\n",
       "    .dataframe thead th {\n",
       "        text-align: right;\n",
       "    }\n",
       "</style>\n",
       "<table border=\"1\" class=\"dataframe\">\n",
       "  <thead>\n",
       "    <tr style=\"text-align: right;\">\n",
       "      <th></th>\n",
       "      <th>A</th>\n",
       "      <th>B</th>\n",
       "      <th>C</th>\n",
       "    </tr>\n",
       "  </thead>\n",
       "  <tbody>\n",
       "    <tr>\n",
       "      <th>0</th>\n",
       "      <td>False</td>\n",
       "      <td>False</td>\n",
       "      <td>False</td>\n",
       "    </tr>\n",
       "    <tr>\n",
       "      <th>1</th>\n",
       "      <td>False</td>\n",
       "      <td>True</td>\n",
       "      <td>False</td>\n",
       "    </tr>\n",
       "    <tr>\n",
       "      <th>2</th>\n",
       "      <td>True</td>\n",
       "      <td>False</td>\n",
       "      <td>False</td>\n",
       "    </tr>\n",
       "    <tr>\n",
       "      <th>3</th>\n",
       "      <td>False</td>\n",
       "      <td>False</td>\n",
       "      <td>False</td>\n",
       "    </tr>\n",
       "  </tbody>\n",
       "</table>\n",
       "</div>"
      ],
      "text/plain": [
       "       A      B      C\n",
       "0  False  False  False\n",
       "1  False   True  False\n",
       "2   True  False  False\n",
       "3  False  False  False"
      ]
     },
     "execution_count": 22,
     "metadata": {},
     "output_type": "execute_result"
    }
   ],
   "source": [
    "data = {'A': [1, 2, np.nan, 4], 'B': [5, np.nan, 7, 8], 'C': [9, 10, 11, 12]}\n",
    "df = pd.DataFrame(data)\n",
    "df.isnull()"
   ]
  },
  {
   "cell_type": "code",
   "execution_count": 23,
   "metadata": {},
   "outputs": [
    {
     "data": {
      "text/html": [
       "<div>\n",
       "<style scoped>\n",
       "    .dataframe tbody tr th:only-of-type {\n",
       "        vertical-align: middle;\n",
       "    }\n",
       "\n",
       "    .dataframe tbody tr th {\n",
       "        vertical-align: top;\n",
       "    }\n",
       "\n",
       "    .dataframe thead th {\n",
       "        text-align: right;\n",
       "    }\n",
       "</style>\n",
       "<table border=\"1\" class=\"dataframe\">\n",
       "  <thead>\n",
       "    <tr style=\"text-align: right;\">\n",
       "      <th></th>\n",
       "      <th>A</th>\n",
       "      <th>B</th>\n",
       "      <th>C</th>\n",
       "    </tr>\n",
       "  </thead>\n",
       "  <tbody>\n",
       "    <tr>\n",
       "      <th>0</th>\n",
       "      <td>True</td>\n",
       "      <td>True</td>\n",
       "      <td>True</td>\n",
       "    </tr>\n",
       "    <tr>\n",
       "      <th>1</th>\n",
       "      <td>True</td>\n",
       "      <td>True</td>\n",
       "      <td>True</td>\n",
       "    </tr>\n",
       "    <tr>\n",
       "      <th>2</th>\n",
       "      <td>True</td>\n",
       "      <td>True</td>\n",
       "      <td>True</td>\n",
       "    </tr>\n",
       "    <tr>\n",
       "      <th>3</th>\n",
       "      <td>True</td>\n",
       "      <td>True</td>\n",
       "      <td>True</td>\n",
       "    </tr>\n",
       "  </tbody>\n",
       "</table>\n",
       "</div>"
      ],
      "text/plain": [
       "      A     B     C\n",
       "0  True  True  True\n",
       "1  True  True  True\n",
       "2  True  True  True\n",
       "3  True  True  True"
      ]
     },
     "execution_count": 23,
     "metadata": {},
     "output_type": "execute_result"
    }
   ],
   "source": [
    "df.notnull() != df.isnull()"
   ]
  },
  {
   "cell_type": "markdown",
   "metadata": {},
   "source": [
    "* `info()` y `describe()` para obtener el resumen y detectar columna con valores faltantes"
   ]
  },
  {
   "cell_type": "code",
   "execution_count": 24,
   "metadata": {},
   "outputs": [
    {
     "name": "stdout",
     "output_type": "stream",
     "text": [
      "<class 'pandas.core.frame.DataFrame'>\n",
      "RangeIndex: 4 entries, 0 to 3\n",
      "Data columns (total 3 columns):\n",
      " #   Column  Non-Null Count  Dtype  \n",
      "---  ------  --------------  -----  \n",
      " 0   A       3 non-null      float64\n",
      " 1   B       3 non-null      float64\n",
      " 2   C       4 non-null      int64  \n",
      "dtypes: float64(2), int64(1)\n",
      "memory usage: 224.0 bytes\n"
     ]
    }
   ],
   "source": [
    "df.info()"
   ]
  },
  {
   "cell_type": "code",
   "execution_count": 25,
   "metadata": {},
   "outputs": [
    {
     "data": {
      "text/html": [
       "<div>\n",
       "<style scoped>\n",
       "    .dataframe tbody tr th:only-of-type {\n",
       "        vertical-align: middle;\n",
       "    }\n",
       "\n",
       "    .dataframe tbody tr th {\n",
       "        vertical-align: top;\n",
       "    }\n",
       "\n",
       "    .dataframe thead th {\n",
       "        text-align: right;\n",
       "    }\n",
       "</style>\n",
       "<table border=\"1\" class=\"dataframe\">\n",
       "  <thead>\n",
       "    <tr style=\"text-align: right;\">\n",
       "      <th></th>\n",
       "      <th>A</th>\n",
       "      <th>B</th>\n",
       "      <th>C</th>\n",
       "    </tr>\n",
       "  </thead>\n",
       "  <tbody>\n",
       "    <tr>\n",
       "      <th>count</th>\n",
       "      <td>3.000000</td>\n",
       "      <td>3.000000</td>\n",
       "      <td>4.000000</td>\n",
       "    </tr>\n",
       "    <tr>\n",
       "      <th>mean</th>\n",
       "      <td>2.333333</td>\n",
       "      <td>6.666667</td>\n",
       "      <td>10.500000</td>\n",
       "    </tr>\n",
       "    <tr>\n",
       "      <th>std</th>\n",
       "      <td>1.527525</td>\n",
       "      <td>1.527525</td>\n",
       "      <td>1.290994</td>\n",
       "    </tr>\n",
       "    <tr>\n",
       "      <th>min</th>\n",
       "      <td>1.000000</td>\n",
       "      <td>5.000000</td>\n",
       "      <td>9.000000</td>\n",
       "    </tr>\n",
       "    <tr>\n",
       "      <th>25%</th>\n",
       "      <td>1.500000</td>\n",
       "      <td>6.000000</td>\n",
       "      <td>9.750000</td>\n",
       "    </tr>\n",
       "    <tr>\n",
       "      <th>50%</th>\n",
       "      <td>2.000000</td>\n",
       "      <td>7.000000</td>\n",
       "      <td>10.500000</td>\n",
       "    </tr>\n",
       "    <tr>\n",
       "      <th>75%</th>\n",
       "      <td>3.000000</td>\n",
       "      <td>7.500000</td>\n",
       "      <td>11.250000</td>\n",
       "    </tr>\n",
       "    <tr>\n",
       "      <th>max</th>\n",
       "      <td>4.000000</td>\n",
       "      <td>8.000000</td>\n",
       "      <td>12.000000</td>\n",
       "    </tr>\n",
       "  </tbody>\n",
       "</table>\n",
       "</div>"
      ],
      "text/plain": [
       "              A         B          C\n",
       "count  3.000000  3.000000   4.000000\n",
       "mean   2.333333  6.666667  10.500000\n",
       "std    1.527525  1.527525   1.290994\n",
       "min    1.000000  5.000000   9.000000\n",
       "25%    1.500000  6.000000   9.750000\n",
       "50%    2.000000  7.000000  10.500000\n",
       "75%    3.000000  7.500000  11.250000\n",
       "max    4.000000  8.000000  12.000000"
      ]
     },
     "execution_count": 25,
     "metadata": {},
     "output_type": "execute_result"
    }
   ],
   "source": [
    "df.describe()"
   ]
  },
  {
   "cell_type": "markdown",
   "metadata": {},
   "source": [
    "* Visualización con mapas de calor (heatmap) de valores faltantes para identificar patrones de ausencia."
   ]
  },
  {
   "cell_type": "code",
   "execution_count": 158,
   "metadata": {},
   "outputs": [
    {
     "data": {
      "text/html": [
       "<div>\n",
       "<style scoped>\n",
       "    .dataframe tbody tr th:only-of-type {\n",
       "        vertical-align: middle;\n",
       "    }\n",
       "\n",
       "    .dataframe tbody tr th {\n",
       "        vertical-align: top;\n",
       "    }\n",
       "\n",
       "    .dataframe thead th {\n",
       "        text-align: right;\n",
       "    }\n",
       "</style>\n",
       "<table border=\"1\" class=\"dataframe\">\n",
       "  <thead>\n",
       "    <tr style=\"text-align: right;\">\n",
       "      <th></th>\n",
       "      <th>A</th>\n",
       "      <th>B</th>\n",
       "      <th>C</th>\n",
       "    </tr>\n",
       "  </thead>\n",
       "  <tbody>\n",
       "    <tr>\n",
       "      <th>0</th>\n",
       "      <td>1.0</td>\n",
       "      <td>NaN</td>\n",
       "      <td>11.0</td>\n",
       "    </tr>\n",
       "    <tr>\n",
       "      <th>1</th>\n",
       "      <td>2.0</td>\n",
       "      <td>2.0</td>\n",
       "      <td>NaN</td>\n",
       "    </tr>\n",
       "    <tr>\n",
       "      <th>2</th>\n",
       "      <td>NaN</td>\n",
       "      <td>3.0</td>\n",
       "      <td>NaN</td>\n",
       "    </tr>\n",
       "    <tr>\n",
       "      <th>3</th>\n",
       "      <td>4.0</td>\n",
       "      <td>NaN</td>\n",
       "      <td>14.0</td>\n",
       "    </tr>\n",
       "    <tr>\n",
       "      <th>4</th>\n",
       "      <td>5.0</td>\n",
       "      <td>NaN</td>\n",
       "      <td>15.0</td>\n",
       "    </tr>\n",
       "    <tr>\n",
       "      <th>5</th>\n",
       "      <td>NaN</td>\n",
       "      <td>6.0</td>\n",
       "      <td>16.0</td>\n",
       "    </tr>\n",
       "    <tr>\n",
       "      <th>6</th>\n",
       "      <td>7.0</td>\n",
       "      <td>7.0</td>\n",
       "      <td>17.0</td>\n",
       "    </tr>\n",
       "  </tbody>\n",
       "</table>\n",
       "</div>"
      ],
      "text/plain": [
       "     A    B     C\n",
       "0  1.0  NaN  11.0\n",
       "1  2.0  2.0   NaN\n",
       "2  NaN  3.0   NaN\n",
       "3  4.0  NaN  14.0\n",
       "4  5.0  NaN  15.0\n",
       "5  NaN  6.0  16.0\n",
       "6  7.0  7.0  17.0"
      ]
     },
     "execution_count": 158,
     "metadata": {},
     "output_type": "execute_result"
    }
   ],
   "source": [
    "import missingno as msno\n",
    "import seaborn as sns\n",
    "\n",
    "data = {'A': [1, 2, None, 4, 5, None, 7],\n",
    "        'B': [None, 2, 3, None, None, 6, 7],\n",
    "        'C': [11, None, None, 14, 15, 16, 17]}\n",
    "df = pd.DataFrame(data)\n",
    "df_multi_fault = df.copy()\n",
    "df"
   ]
  },
  {
   "cell_type": "code",
   "execution_count": 27,
   "metadata": {},
   "outputs": [
    {
     "data": {
      "image/png": "[encoded data removed]",
      "text/plain": [
       "<Figure size 1000x600 with 1 Axes>"
      ]
     },
     "metadata": {},
     "output_type": "display_data"
    }
   ],
   "source": [
    "plt.figure(figsize=(10, 6))\n",
    "sns.heatmap(df.isnull(), cbar=False, cmap='viridis', yticklabels=False)\n",
    "plt.title('Mapa de Calor de Valores Faltantes')\n",
    "plt.show()"
   ]
  },
  {
   "cell_type": "code",
   "execution_count": 28,
   "metadata": {},
   "outputs": [
    {
     "data": {
      "image/png": "[encoded data removed]",
      "text/plain": [
       "<Figure size 2500x1000 with 2 Axes>"
      ]
     },
     "metadata": {},
     "output_type": "display_data"
    }
   ],
   "source": [
    "msno.matrix(df)\n",
    "plt.show()"
   ]
  },
  {
   "cell_type": "markdown",
   "metadata": {},
   "source": [
    "La biblioteca `missingno` también proporciona una manera rápida y fácil de visualizar patrones en la falta de datos. La función `msno.matrix` crea una visualización de la densidad de valores no nulos en las columnas."
   ]
  },
  {
   "cell_type": "markdown",
   "metadata": {},
   "source": [
    "Tener un mapa visual de los datos faltantes puede ayudar a decidir cómo manejarlos. Por ejemplo, si se observa que una columna tiene valores faltantes en su mayoría, podría optar por eliminarla. Si hay un patrón en los datos faltantes, esto podría sugerir un problema más amplio con los datos o una oportunidad para la ingeniería de características."
   ]
  },
  {
   "cell_type": "markdown",
   "metadata": {},
   "source": [
    "#### 3.1.2. Tratamiento:"
   ]
  },
  {
   "cell_type": "markdown",
   "metadata": {},
   "source": [
    "1. **Eliminar datos:**\n",
    "Una opción es eliminar las filas o columnas con los valores nulos."
   ]
  },
  {
   "cell_type": "code",
   "execution_count": 29,
   "metadata": {},
   "outputs": [
    {
     "data": {
      "text/html": [
       "<div>\n",
       "<style scoped>\n",
       "    .dataframe tbody tr th:only-of-type {\n",
       "        vertical-align: middle;\n",
       "    }\n",
       "\n",
       "    .dataframe tbody tr th {\n",
       "        vertical-align: top;\n",
       "    }\n",
       "\n",
       "    .dataframe thead th {\n",
       "        text-align: right;\n",
       "    }\n",
       "</style>\n",
       "<table border=\"1\" class=\"dataframe\">\n",
       "  <thead>\n",
       "    <tr style=\"text-align: right;\">\n",
       "      <th></th>\n",
       "      <th>A</th>\n",
       "      <th>B</th>\n",
       "      <th>C</th>\n",
       "    </tr>\n",
       "  </thead>\n",
       "  <tbody>\n",
       "    <tr>\n",
       "      <th>6</th>\n",
       "      <td>7.0</td>\n",
       "      <td>7.0</td>\n",
       "      <td>17.0</td>\n",
       "    </tr>\n",
       "  </tbody>\n",
       "</table>\n",
       "</div>"
      ],
      "text/plain": [
       "     A    B     C\n",
       "6  7.0  7.0  17.0"
      ]
     },
     "execution_count": 29,
     "metadata": {},
     "output_type": "execute_result"
    }
   ],
   "source": [
    "df.dropna()"
   ]
  },
  {
   "cell_type": "markdown",
   "metadata": {},
   "source": [
    " Esta es una solución rápida y fácil, sin embargo esta alternativa no suele ser eficiente cuando se cuenta con muy pocos datos o cuando hay muchos faltantes ya que eliminaría toda la fila o columna lo que puede hacer que se pierda infromación valiosa.\n",
    " \n",
    " Adicionalmente, se debe tener en cuenta la posibilidad de que el mecanismo por el cual se recopile la información admita valores faltantes o que estos valores también tengan un significado dentro del problema."
   ]
  },
  {
   "cell_type": "markdown",
   "metadata": {},
   "source": [
    "2. **Imputación:** Otra opción es reemplazar los valores faltantes con otro valor, colo la media, la mediana o la moda de los datos, Es importante considerar el tipo de variable (numérica o categórica) y la naturaleza de los datos. La media es sensible a los outliears, mientras que la mediana es más robusta. la moda se utiliza para variables categóricas."
   ]
  },
  {
   "cell_type": "code",
   "execution_count": 30,
   "metadata": {},
   "outputs": [
    {
     "data": {
      "image/png": "[encoded data removed]",
      "text/plain": [
       "<Figure size 640x480 with 1 Axes>"
      ]
     },
     "metadata": {},
     "output_type": "display_data"
    },
    {
     "data": {
      "image/png": "[encoded data removed]",
      "text/plain": [
       "<Figure size 1500x500 with 3 Axes>"
      ]
     },
     "metadata": {},
     "output_type": "display_data"
    }
   ],
   "source": [
    "df.plot()\n",
    "fig,ax = plt.subplots(1,3,figsize=(15,5), layout = \"constrained\")\n",
    "ax[0].plot(df.fillna(df.mean()))\n",
    "ax[1].plot(df.fillna(df.median()))\n",
    "ax[2].plot(df.fillna(df.mode().iloc[0]))\n",
    "plt.show()"
   ]
  },
  {
   "cell_type": "markdown",
   "metadata": {},
   "source": [
    "La imputación preserva más los datos, pero puede introducir sesgos si los valores faltantes no son aleatorios."
   ]
  },
  {
   "cell_type": "markdown",
   "metadata": {},
   "source": [
    "3. **Imputación avanzada:**\n",
    "\n",
    "Las técnicas de imputación avanzada se utilizan para manejar valores faltantes en conjuntos de datos, especialmente cuando los datos perdidos son sustanciales y no se pueden descartar sin perder información crítica. Estas técnicas suelen ser preferibles sobre métodos más simples como la imputación por la media o la mediana, ya que pueden preservar la estructura de los datos, como las relaciones entre variables. Aquí se presentan algunas técnicas de imputación avanzada y sus usos típicos:\n",
    "\n"
   ]
  },
  {
   "cell_type": "markdown",
   "metadata": {},
   "source": [
    "* **Imputación Múltiple por Ecuaciones Encadenadas (MICE):**\n",
    "    - **Descripción:** MICE es un enfoque versátil que maneja valores faltantes mediante un proceso iterativo. En cada iteración, MICE imputa los datos faltantes en una variable utilizando el resto de variables como predictores, en un proceso conocido como \"imputación encadenada\".\n",
    "    - **Cuándo usar:** MICE es útil cuando los datos están faltando al azar (MAR, por sus siglas en inglés) y el conjunto de datos contiene múltiples variables predictivas que se pueden usar para imputar los valores faltantes.\n"
   ]
  },
  {
   "cell_type": "code",
   "execution_count": 161,
   "metadata": {},
   "outputs": [
    {
     "data": {
      "text/html": [
       "<div>\n",
       "<style scoped>\n",
       "    .dataframe tbody tr th:only-of-type {\n",
       "        vertical-align: middle;\n",
       "    }\n",
       "\n",
       "    .dataframe tbody tr th {\n",
       "        vertical-align: top;\n",
       "    }\n",
       "\n",
       "    .dataframe thead th {\n",
       "        text-align: right;\n",
       "    }\n",
       "</style>\n",
       "<table border=\"1\" class=\"dataframe\">\n",
       "  <thead>\n",
       "    <tr style=\"text-align: right;\">\n",
       "      <th></th>\n",
       "      <th>A</th>\n",
       "      <th>B</th>\n",
       "      <th>A_mice</th>\n",
       "      <th>B_mice</th>\n",
       "    </tr>\n",
       "  </thead>\n",
       "  <tbody>\n",
       "    <tr>\n",
       "      <th>0</th>\n",
       "      <td>1.0</td>\n",
       "      <td>5.0</td>\n",
       "      <td>1.0</td>\n",
       "      <td>5.0</td>\n",
       "    </tr>\n",
       "    <tr>\n",
       "      <th>1</th>\n",
       "      <td>2.0</td>\n",
       "      <td>NaN</td>\n",
       "      <td>2.0</td>\n",
       "      <td>6.0</td>\n",
       "    </tr>\n",
       "    <tr>\n",
       "      <th>2</th>\n",
       "      <td>NaN</td>\n",
       "      <td>7.0</td>\n",
       "      <td>3.0</td>\n",
       "      <td>7.0</td>\n",
       "    </tr>\n",
       "    <tr>\n",
       "      <th>3</th>\n",
       "      <td>4.0</td>\n",
       "      <td>8.0</td>\n",
       "      <td>4.0</td>\n",
       "      <td>8.0</td>\n",
       "    </tr>\n",
       "  </tbody>\n",
       "</table>\n",
       "</div>"
      ],
      "text/plain": [
       "     A    B  A_mice  B_mice\n",
       "0  1.0  5.0     1.0     5.0\n",
       "1  2.0  NaN     2.0     6.0\n",
       "2  NaN  7.0     3.0     7.0\n",
       "3  4.0  8.0     4.0     8.0"
      ]
     },
     "execution_count": 161,
     "metadata": {},
     "output_type": "execute_result"
    }
   ],
   "source": [
    "import pandas as pd\n",
    "import numpy as np\n",
    "from sklearn.experimental import enable_iterative_imputer\n",
    "from sklearn.impute import IterativeImputer\n",
    "\n",
    "# Crear un DataFrame de ejemplo con valores faltantes\n",
    "data = {'A': [1, 2, np.nan, 4], 'B': [5, np.nan, 7, 8]}\n",
    "df_original = pd.DataFrame(data)\n",
    "df = df_original.copy()\n",
    "# Aplicar MICE\n",
    "imputer = IterativeImputer(max_iter=10, random_state=0)\n",
    "df_imputed = pd.DataFrame(imputer.fit_transform(df), columns=df.columns)\n",
    "df[\"A_mice\"] = df_imputed[\"A\"].round(0)\n",
    "df[\"B_mice\"] = df_imputed[\"B\"].round(0)\n",
    "df"
   ]
  },
  {
   "cell_type": "markdown",
   "metadata": {},
   "source": [
    "* **Imputación K-Vecinos más Cercanos (KNN):**\n",
    "    - **Descripción:** La imputación KNN utiliza los k vecinos más cercanos (basándose en alguna medida de distancia, como la distancia euclidiana) para estimar el valor faltante. No asume ninguna distribución para los datos y puede ser más preciso que la imputación por la media o la mediana.\n",
    "    - **Cuándo usar:** KNN es beneficioso cuando hay relaciones no lineales en los datos, ya que la técnica no asume ninguna forma específica de relación entre las características."
   ]
  },
  {
   "cell_type": "code",
   "execution_count": 162,
   "metadata": {},
   "outputs": [
    {
     "data": {
      "text/html": [
       "<div>\n",
       "<style scoped>\n",
       "    .dataframe tbody tr th:only-of-type {\n",
       "        vertical-align: middle;\n",
       "    }\n",
       "\n",
       "    .dataframe tbody tr th {\n",
       "        vertical-align: top;\n",
       "    }\n",
       "\n",
       "    .dataframe thead th {\n",
       "        text-align: right;\n",
       "    }\n",
       "</style>\n",
       "<table border=\"1\" class=\"dataframe\">\n",
       "  <thead>\n",
       "    <tr style=\"text-align: right;\">\n",
       "      <th></th>\n",
       "      <th>A</th>\n",
       "      <th>B</th>\n",
       "      <th>A_mice</th>\n",
       "      <th>B_mice</th>\n",
       "      <th>A_knn</th>\n",
       "      <th>B_knn</th>\n",
       "    </tr>\n",
       "  </thead>\n",
       "  <tbody>\n",
       "    <tr>\n",
       "      <th>0</th>\n",
       "      <td>1.0</td>\n",
       "      <td>5.0</td>\n",
       "      <td>1.0</td>\n",
       "      <td>5.0</td>\n",
       "      <td>1.0</td>\n",
       "      <td>5.0</td>\n",
       "    </tr>\n",
       "    <tr>\n",
       "      <th>1</th>\n",
       "      <td>2.0</td>\n",
       "      <td>NaN</td>\n",
       "      <td>2.0</td>\n",
       "      <td>6.0</td>\n",
       "      <td>2.0</td>\n",
       "      <td>6.0</td>\n",
       "    </tr>\n",
       "    <tr>\n",
       "      <th>2</th>\n",
       "      <td>NaN</td>\n",
       "      <td>7.0</td>\n",
       "      <td>3.0</td>\n",
       "      <td>7.0</td>\n",
       "      <td>2.0</td>\n",
       "      <td>7.0</td>\n",
       "    </tr>\n",
       "    <tr>\n",
       "      <th>3</th>\n",
       "      <td>4.0</td>\n",
       "      <td>8.0</td>\n",
       "      <td>4.0</td>\n",
       "      <td>8.0</td>\n",
       "      <td>4.0</td>\n",
       "      <td>8.0</td>\n",
       "    </tr>\n",
       "  </tbody>\n",
       "</table>\n",
       "</div>"
      ],
      "text/plain": [
       "     A    B  A_mice  B_mice  A_knn  B_knn\n",
       "0  1.0  5.0     1.0     5.0    1.0    5.0\n",
       "1  2.0  NaN     2.0     6.0    2.0    6.0\n",
       "2  NaN  7.0     3.0     7.0    2.0    7.0\n",
       "3  4.0  8.0     4.0     8.0    4.0    8.0"
      ]
     },
     "execution_count": 162,
     "metadata": {},
     "output_type": "execute_result"
    }
   ],
   "source": [
    "from sklearn.impute import KNNImputer\n",
    "\n",
    "\n",
    "# Aplicar imputación KNN\n",
    "imputer = KNNImputer(n_neighbors=2)\n",
    "df_imputed = pd.DataFrame(imputer.fit_transform(df_original), columns=df_original.columns)\n",
    "df[\"A_knn\"] = df_imputed[\"A\"].round(0)\n",
    "df[\"B_knn\"] = df_imputed[\"B\"].round(0)\n",
    "df"
   ]
  },
  {
   "cell_type": "code",
   "execution_count": 178,
   "metadata": {},
   "outputs": [
    {
     "data": {
      "text/html": [
       "<div>\n",
       "<style scoped>\n",
       "    .dataframe tbody tr th:only-of-type {\n",
       "        vertical-align: middle;\n",
       "    }\n",
       "\n",
       "    .dataframe tbody tr th {\n",
       "        vertical-align: top;\n",
       "    }\n",
       "\n",
       "    .dataframe thead th {\n",
       "        text-align: right;\n",
       "    }\n",
       "</style>\n",
       "<table border=\"1\" class=\"dataframe\">\n",
       "  <thead>\n",
       "    <tr style=\"text-align: right;\">\n",
       "      <th></th>\n",
       "      <th>A</th>\n",
       "      <th>B</th>\n",
       "      <th>C</th>\n",
       "      <th>y</th>\n",
       "    </tr>\n",
       "  </thead>\n",
       "  <tbody>\n",
       "    <tr>\n",
       "      <th>0</th>\n",
       "      <td>1.0</td>\n",
       "      <td>NaN</td>\n",
       "      <td>11.0</td>\n",
       "      <td>1</td>\n",
       "    </tr>\n",
       "    <tr>\n",
       "      <th>1</th>\n",
       "      <td>2.0</td>\n",
       "      <td>2.0</td>\n",
       "      <td>NaN</td>\n",
       "      <td>2</td>\n",
       "    </tr>\n",
       "    <tr>\n",
       "      <th>2</th>\n",
       "      <td>NaN</td>\n",
       "      <td>3.0</td>\n",
       "      <td>NaN</td>\n",
       "      <td>5</td>\n",
       "    </tr>\n",
       "    <tr>\n",
       "      <th>3</th>\n",
       "      <td>4.0</td>\n",
       "      <td>NaN</td>\n",
       "      <td>14.0</td>\n",
       "      <td>4</td>\n",
       "    </tr>\n",
       "    <tr>\n",
       "      <th>4</th>\n",
       "      <td>5.0</td>\n",
       "      <td>NaN</td>\n",
       "      <td>15.0</td>\n",
       "      <td>5</td>\n",
       "    </tr>\n",
       "    <tr>\n",
       "      <th>5</th>\n",
       "      <td>NaN</td>\n",
       "      <td>6.0</td>\n",
       "      <td>16.0</td>\n",
       "      <td>6</td>\n",
       "    </tr>\n",
       "    <tr>\n",
       "      <th>6</th>\n",
       "      <td>7.0</td>\n",
       "      <td>7.0</td>\n",
       "      <td>17.0</td>\n",
       "      <td>7</td>\n",
       "    </tr>\n",
       "  </tbody>\n",
       "</table>\n",
       "</div>"
      ],
      "text/plain": [
       "     A    B     C  y\n",
       "0  1.0  NaN  11.0  1\n",
       "1  2.0  2.0   NaN  2\n",
       "2  NaN  3.0   NaN  5\n",
       "3  4.0  NaN  14.0  4\n",
       "4  5.0  NaN  15.0  5\n",
       "5  NaN  6.0  16.0  6\n",
       "6  7.0  7.0  17.0  7"
      ]
     },
     "execution_count": 178,
     "metadata": {},
     "output_type": "execute_result"
    }
   ],
   "source": [
    "df_multi_fault[\"y\"] = [1,2,5,4,5,6,7]\n",
    "df_multi_fault\n",
    "\n"
   ]
  },
  {
   "cell_type": "markdown",
   "metadata": {},
   "source": [
    "\n",
    "* **Imputación por Modelo Predictivo:**\n",
    "    - **Descripción:** Este método implica la construcción de un modelo predictivo (como regresión, árboles de decisión o redes neuronales) para estimar valores que faltan basados en otras variables correlacionadas.\n",
    "    - **Cuándo usar:** Es útil cuando las relaciones entre variables son complejas y se pueden capturar mejor a través de modelos de aprendizaje automático.\n",
    "* **Imputación con Deep Learning (Redes Neuronales):**\n",
    "    - **Descripción:** Las técnicas de Deep Learning, como las Redes Neuronales, pueden modelar relaciones complejas y no lineales en los datos y se pueden utilizar para la imputación.\n",
    "    - **Cuándo usar:** Esta técnica es adecuada cuando se tienen grandes volúmenes de datos y las relaciones entre variables son demasiado complejas para métodos tradicionales.\n",
    "* **Imputación de Series Temporales:**\n",
    "    - **Descripción:** Métodos específicos para series temporales, como la interpolación lineal o más compleja (como la interpolación polinómica o spline), o modelos ARIMA para imputar valores faltantes en datos ordenados temporalmente.\n",
    "    - **Cuándo usar:** Estos métodos son apropiados cuando los datos se presentan en secuencias temporales y se espera una coherencia o tendencia a lo largo del tiempo.\n",
    "* **Algoritmos basados en Expectation-Maximization (EM):**\n",
    "    - **Descripción:** EM es un procedimiento iterativo que intenta estimar los valores faltantes maximizando la verosimilitud de los datos observados, bajo ciertas suposiciones estadísticas.\n",
    "    - **Cuándo usar:** EM se utiliza cuando se pueden hacer suposiciones sobre la distribución estadística de los datos, y los datos faltantes son MAR o completamente al azar (MCAR).\n",
    "* **Imputación Generativa Adversarial (GANs):**\n",
    "    - **Descripción:** Las GANs pueden generar datos que son estadísticamente similares a los datos reales y pueden utilizarse para generar imputaciones para valores faltantes.\n",
    "    - **Cuándo usar:** GANs son útiles cuando se necesitan generar datos realistas en contextos donde los datos son altamente complejos y multidimensionales, como imágenes o secuencias de texto.\n",
    "\n",
    "Al elegir un método de imputación, es crucial considerar el contexto de los datos, el mecanismo de datos faltantes, la cantidad de datos faltantes, la capacidad computacional disponible y, lo más importante, cómo el método de imputación podría afectar los resultados del análisis. Además, siempre es una buena práctica validar el rendimiento de la imputación comparando los resultados de diferentes métodos y considerando la interpretación y la aplicabilidad en el contexto de tu problema específico."
   ]
  },
  {
   "cell_type": "markdown",
   "metadata": {},
   "source": [
    "##### Recomendaciones\n",
    "No existe una regla única y universalmente aceptada como la proporción de Pareto para determinar cuándo imputar o eliminar datos en base a un porcentaje específico de valores faltantes. Sin embargo, hay algunas directrices generales que los científicos de datos tienden a seguir, aunque la decisión a menudo depende del contexto específico del análisis, del conjunto de datos en cuestión y de los objetivos del proyecto.\n",
    "\n",
    "Aquí hay algunos puntos a considerar:\n",
    "\n",
    "1. Bajo porcentaje de datos faltantes (digamos, menos del 5%): Si solo un pequeño número de valores está perdido, puede ser aceptable imputar esos valores faltantes utilizando técnicas como la imputación media, mediana o moda, o métodos más avanzados como MICE o KNN, dependiendo de la naturaleza de tus datos.\n",
    "\n",
    "2. Porcentaje moderado de datos faltantes (entre el 5% y el 30%): Con un porcentaje más significativo de datos faltantes, es esencial investigar y entender por qué faltan los datos. Si los datos no están completamente perdidos al azar, la imputación puede introducir sesgos significativos. En estos casos, es posible que desees utilizar técnicas de imputación más avanzadas o modelos que manejen adecuadamente los datos faltantes.\n",
    "\n",
    "3. Alto porcentaje de datos faltantes (más del 30%): Cuando una gran proporción de tus datos está perdida, debes ser extremadamente cauteloso. La eliminación de estas filas/columnas podría resultar en una pérdida significativa de información. La imputación de tantos datos faltantes puede distorsionar completamente tus resultados debido a la gran cantidad de suposiciones que se estarían haciendo. En este escenario, es esencial entender por qué faltan tantos datos y considerar si los datos restantes son suficientemente representativos sin las observaciones faltantes.\n",
    "\n",
    "En cualquier caso, es crucial realizar un análisis exploratorio de datos para entender la naturaleza y el mecanismo de los datos faltantes. Además, si decides proceder con la imputación, es recomendable realizar un análisis de sensibilidad para entender cómo la imputación podría afectar tus resultados.\n",
    "\n",
    "Finalmente, en lugar de adherirse estrictamente a los porcentajes, la decisión de imputar o eliminar debe basarse en una comprensión profunda del conjunto de datos, del contexto del problema y de las implicaciones de perder cierta información. También es vital validar los métodos de imputación utilizando técnicas de validación cruzada o conjuntos de datos de simulación para asegurarse de que cualquier método que elijas no degrade la calidad de tu modelo o análisis."
   ]
  },
  {
   "cell_type": "markdown",
   "metadata": {},
   "source": [
    "### 3.2. Outliers (Valores Atípicos)"
   ]
  },
  {
   "cell_type": "markdown",
   "metadata": {},
   "source": [
    "Los \"outliders\" son valore en el conjunto de datos que se desvían significativamente de los demás. Pueden ser causados por variabilidad en la medición, errores de entrada de datos, o pueden ser válidos pero extremadamente raros"
   ]
  },
  {
   "cell_type": "markdown",
   "metadata": {},
   "source": [
    "#### 3.2.1. Identificación"
   ]
  },
  {
   "cell_type": "markdown",
   "metadata": {},
   "source": [
    "##### 3.2.1.1 Análisis visual"
   ]
  },
  {
   "cell_type": "markdown",
   "metadata": {},
   "source": [
    "Se pueden identificar los outliers a través de herramientas gráficas tales como box plots, scatter plots e histogramas de frecuencia. "
   ]
  },
  {
   "cell_type": "code",
   "execution_count": 100,
   "metadata": {},
   "outputs": [
    {
     "data": {
      "image/png": "[encoded data removed]",
      "text/plain": [
       "<Figure size 1500x500 with 3 Axes>"
      ]
     },
     "metadata": {},
     "output_type": "display_data"
    }
   ],
   "source": [
    "\n",
    "df = pd.DataFrame({'val': np.random.normal(0,1,100)})\n",
    "df.iloc[0] = 10\n",
    "df.iloc[1] = -10\n",
    "\n",
    "# fig, ax = plt.subplots(1,3,figsize = (15,5) ,layout = \"constrained\")\n",
    "def plot_dist(df):\n",
    "    # Boxplot\n",
    "    plt.figure(figsize=(15, 5))\n",
    "    plt.subplot(131)\n",
    "    plt.violinplot(df[\"val\"])\n",
    "    plt.boxplot(df['val'])\n",
    "    plt.title('Boxplot')\n",
    "\n",
    "    # Histograma\n",
    "    plt.subplot(132)\n",
    "    plt.hist(df['val'], bins=20)\n",
    "    plt.title('Histograma')\n",
    "\n",
    "    # Scatter plot\n",
    "    plt.subplot(133)\n",
    "    plt.scatter(range(len(df['val'])), df['val'])\n",
    "    plt.title('Scatter Plot')\n",
    "    plt.show()\n",
    "plot_dist(df)"
   ]
  },
  {
   "cell_type": "markdown",
   "metadata": {},
   "source": [
    "##### 3.2.1.2. Estadísticas descriptivas "
   ]
  },
  {
   "cell_type": "markdown",
   "metadata": {},
   "source": [
    "Se pueden identificar outliers utilizando dos estrategias distintas\n",
    "* Z-score: Hace referencia al número de desviaciones estándar que un valor está lejos de la media. Un valor absoluto de z-score mayor de 3 es comúnmente considerado un outlier. de forma manual el z-score se halla para cada punto de la siguiente manera: \n",
    "$$\n",
    "z = \\frac{X-\\mu}{\\sigma}\n",
    "$$"
   ]
  },
  {
   "cell_type": "code",
   "execution_count": 101,
   "metadata": {},
   "outputs": [
    {
     "data": {
      "text/html": [
       "<div>\n",
       "<style scoped>\n",
       "    .dataframe tbody tr th:only-of-type {\n",
       "        vertical-align: middle;\n",
       "    }\n",
       "\n",
       "    .dataframe tbody tr th {\n",
       "        vertical-align: top;\n",
       "    }\n",
       "\n",
       "    .dataframe thead th {\n",
       "        text-align: right;\n",
       "    }\n",
       "</style>\n",
       "<table border=\"1\" class=\"dataframe\">\n",
       "  <thead>\n",
       "    <tr style=\"text-align: right;\">\n",
       "      <th></th>\n",
       "      <th>val</th>\n",
       "      <th>Z_score</th>\n",
       "    </tr>\n",
       "  </thead>\n",
       "  <tbody>\n",
       "    <tr>\n",
       "      <th>0</th>\n",
       "      <td>10.0</td>\n",
       "      <td>5.867671</td>\n",
       "    </tr>\n",
       "    <tr>\n",
       "      <th>1</th>\n",
       "      <td>-10.0</td>\n",
       "      <td>-5.769906</td>\n",
       "    </tr>\n",
       "  </tbody>\n",
       "</table>\n",
       "</div>"
      ],
      "text/plain": [
       "    val   Z_score\n",
       "0  10.0  5.867671\n",
       "1 -10.0 -5.769906"
      ]
     },
     "execution_count": 101,
     "metadata": {},
     "output_type": "execute_result"
    }
   ],
   "source": [
    "df[\"Z_score\"]=(df[\"val\"]-df[\"val\"].mean())/df[\"val\"].std()\n",
    "df[abs(df[\"Z_score\"])>3]\n"
   ]
  },
  {
   "cell_type": "code",
   "execution_count": 102,
   "metadata": {},
   "outputs": [
    {
     "data": {
      "image/png": "[encoded data removed]",
      "text/plain": [
       "<Figure size 1500x500 with 3 Axes>"
      ]
     },
     "metadata": {},
     "output_type": "display_data"
    }
   ],
   "source": [
    "plot_dist(df[abs(df[\"Z_score\"])<3])"
   ]
  },
  {
   "cell_type": "markdown",
   "metadata": {},
   "source": [
    "* IQR (Rango Intercuartilico): Es la diferencia entre el tercer cuartil (Q3) y el primer cuartil (Q1). Los valores que se encuentran fuera del rango [Q1-1.5\\*IQR , Q3 + 1.5\\*IQR] son considerados outliders"
   ]
  },
  {
   "cell_type": "code",
   "execution_count": 103,
   "metadata": {},
   "outputs": [
    {
     "data": {
      "text/html": [
       "<div>\n",
       "<style scoped>\n",
       "    .dataframe tbody tr th:only-of-type {\n",
       "        vertical-align: middle;\n",
       "    }\n",
       "\n",
       "    .dataframe tbody tr th {\n",
       "        vertical-align: top;\n",
       "    }\n",
       "\n",
       "    .dataframe thead th {\n",
       "        text-align: right;\n",
       "    }\n",
       "</style>\n",
       "<table border=\"1\" class=\"dataframe\">\n",
       "  <thead>\n",
       "    <tr style=\"text-align: right;\">\n",
       "      <th></th>\n",
       "      <th>val</th>\n",
       "      <th>Z_score</th>\n",
       "    </tr>\n",
       "  </thead>\n",
       "  <tbody>\n",
       "    <tr>\n",
       "      <th>0</th>\n",
       "      <td>10.0</td>\n",
       "      <td>5.867671</td>\n",
       "    </tr>\n",
       "    <tr>\n",
       "      <th>1</th>\n",
       "      <td>-10.0</td>\n",
       "      <td>-5.769906</td>\n",
       "    </tr>\n",
       "  </tbody>\n",
       "</table>\n",
       "</div>"
      ],
      "text/plain": [
       "    val   Z_score\n",
       "0  10.0  5.867671\n",
       "1 -10.0 -5.769906"
      ]
     },
     "execution_count": 103,
     "metadata": {},
     "output_type": "execute_result"
    }
   ],
   "source": [
    "Q1 = df[\"val\"].quantile(0.25) \n",
    "Q3 = df[\"val\"].quantile(0.75)\n",
    "\n",
    "IQR = Q3-Q1\n",
    "\n",
    "outliers = df[(df['val'] < (Q1-1.5*IQR))|(df['val'] > (Q3+1.5*IQR))]\n",
    "outliers"
   ]
  },
  {
   "cell_type": "code",
   "execution_count": 104,
   "metadata": {},
   "outputs": [
    {
     "data": {
      "image/png": "[encoded data removed]",
      "text/plain": [
       "<Figure size 1500x500 with 3 Axes>"
      ]
     },
     "metadata": {},
     "output_type": "display_data"
    }
   ],
   "source": [
    "plot_dist(df[(df['val'] >= (Q1-1.5*IQR))&(df['val'] <= (Q3+1.5*IQR))])"
   ]
  },
  {
   "cell_type": "markdown",
   "metadata": {},
   "source": [
    "##### 3.2.1.3. Metodos de agrupamiento\n",
    "DBSCAN HDBSCAN"
   ]
  },
  {
   "cell_type": "markdown",
   "metadata": {},
   "source": [
    "#### 3.2.2. Tratamiento"
   ]
  },
  {
   "cell_type": "markdown",
   "metadata": {},
   "source": [
    "El tratamiento de outliers es una parte fundamental del preprocesamiento de datos, especialmente en el análisis estadístico y de modelos de aprendizaje automático, ya que los outliers pueden distorsionar los resultados. Entre los métodos más frecuentes se encuentran:\n"
   ]
  },
  {
   "cell_type": "markdown",
   "metadata": {},
   "source": [
    "##### 3.2.2.1. Capado"
   ]
  },
  {
   "cell_type": "markdown",
   "metadata": {},
   "source": [
    "Si se sabe que los outliers son errores de medición o datos que no son posibles (por ejemplo, una persona con 200 años en una encuesta), se podría intentar limitar el valor a un cierto \"límite sensato\"."
   ]
  },
  {
   "cell_type": "code",
   "execution_count": 105,
   "metadata": {},
   "outputs": [
    {
     "name": "stderr",
     "output_type": "stream",
     "text": [
      "/tmp/ipykernel_76303/4066934129.py:1: SettingWithCopyWarning: \n",
      "A value is trying to be set on a copy of a slice from a DataFrame\n",
      "\n",
      "See the caveats in the documentation: https://pandas.pydata.org/pandas-docs/stable/user_guide/indexing.html#returning-a-view-versus-a-copy\n",
      "  df_clean[\"Edad\"][3]=380\n"
     ]
    },
    {
     "data": {
      "text/html": [
       "<div>\n",
       "<style scoped>\n",
       "    .dataframe tbody tr th:only-of-type {\n",
       "        vertical-align: middle;\n",
       "    }\n",
       "\n",
       "    .dataframe tbody tr th {\n",
       "        vertical-align: top;\n",
       "    }\n",
       "\n",
       "    .dataframe thead th {\n",
       "        text-align: right;\n",
       "    }\n",
       "</style>\n",
       "<table border=\"1\" class=\"dataframe\">\n",
       "  <thead>\n",
       "    <tr style=\"text-align: right;\">\n",
       "      <th></th>\n",
       "      <th>Nombre</th>\n",
       "      <th>Edad</th>\n",
       "      <th>Ciudad</th>\n",
       "      <th>Codigo Postal</th>\n",
       "      <th>Mayor de 30</th>\n",
       "    </tr>\n",
       "  </thead>\n",
       "  <tbody>\n",
       "    <tr>\n",
       "      <th>0</th>\n",
       "      <td>Juan</td>\n",
       "      <td>32</td>\n",
       "      <td>Bogota</td>\n",
       "      <td>110111</td>\n",
       "      <td>1</td>\n",
       "    </tr>\n",
       "    <tr>\n",
       "      <th>1</th>\n",
       "      <td>Ana</td>\n",
       "      <td>28</td>\n",
       "      <td>Medellin</td>\n",
       "      <td>050021</td>\n",
       "      <td>0</td>\n",
       "    </tr>\n",
       "    <tr>\n",
       "      <th>2</th>\n",
       "      <td>Carlos</td>\n",
       "      <td>45</td>\n",
       "      <td>Cali</td>\n",
       "      <td>760001</td>\n",
       "      <td>1</td>\n",
       "    </tr>\n",
       "    <tr>\n",
       "      <th>3</th>\n",
       "      <td>Maria</td>\n",
       "      <td>380</td>\n",
       "      <td>Barranquilla</td>\n",
       "      <td>080002</td>\n",
       "      <td>1</td>\n",
       "    </tr>\n",
       "  </tbody>\n",
       "</table>\n",
       "</div>"
      ],
      "text/plain": [
       "   Nombre  Edad        Ciudad Codigo Postal  Mayor de 30\n",
       "0    Juan    32        Bogota        110111            1\n",
       "1     Ana    28      Medellin        050021            0\n",
       "2  Carlos    45          Cali        760001            1\n",
       "3   Maria   380  Barranquilla        080002            1"
      ]
     },
     "execution_count": 105,
     "metadata": {},
     "output_type": "execute_result"
    }
   ],
   "source": [
    "df_clean[\"Edad\"][3]=380\n",
    "df_clean"
   ]
  },
  {
   "cell_type": "code",
   "execution_count": 106,
   "metadata": {},
   "outputs": [
    {
     "data": {
      "text/html": [
       "<div>\n",
       "<style scoped>\n",
       "    .dataframe tbody tr th:only-of-type {\n",
       "        vertical-align: middle;\n",
       "    }\n",
       "\n",
       "    .dataframe tbody tr th {\n",
       "        vertical-align: top;\n",
       "    }\n",
       "\n",
       "    .dataframe thead th {\n",
       "        text-align: right;\n",
       "    }\n",
       "</style>\n",
       "<table border=\"1\" class=\"dataframe\">\n",
       "  <thead>\n",
       "    <tr style=\"text-align: right;\">\n",
       "      <th></th>\n",
       "      <th>Nombre</th>\n",
       "      <th>Edad</th>\n",
       "      <th>Ciudad</th>\n",
       "      <th>Codigo Postal</th>\n",
       "      <th>Mayor de 30</th>\n",
       "    </tr>\n",
       "  </thead>\n",
       "  <tbody>\n",
       "    <tr>\n",
       "      <th>0</th>\n",
       "      <td>Juan</td>\n",
       "      <td>32.00</td>\n",
       "      <td>Bogota</td>\n",
       "      <td>110111</td>\n",
       "      <td>1</td>\n",
       "    </tr>\n",
       "    <tr>\n",
       "      <th>1</th>\n",
       "      <td>Ana</td>\n",
       "      <td>28.60</td>\n",
       "      <td>Medellin</td>\n",
       "      <td>050021</td>\n",
       "      <td>0</td>\n",
       "    </tr>\n",
       "    <tr>\n",
       "      <th>2</th>\n",
       "      <td>Carlos</td>\n",
       "      <td>45.00</td>\n",
       "      <td>Cali</td>\n",
       "      <td>760001</td>\n",
       "      <td>1</td>\n",
       "    </tr>\n",
       "    <tr>\n",
       "      <th>3</th>\n",
       "      <td>Maria</td>\n",
       "      <td>329.75</td>\n",
       "      <td>Barranquilla</td>\n",
       "      <td>080002</td>\n",
       "      <td>1</td>\n",
       "    </tr>\n",
       "  </tbody>\n",
       "</table>\n",
       "</div>"
      ],
      "text/plain": [
       "   Nombre    Edad        Ciudad Codigo Postal  Mayor de 30\n",
       "0    Juan   32.00        Bogota        110111            1\n",
       "1     Ana   28.60      Medellin        050021            0\n",
       "2  Carlos   45.00          Cali        760001            1\n",
       "3   Maria  329.75  Barranquilla        080002            1"
      ]
     },
     "execution_count": 106,
     "metadata": {},
     "output_type": "execute_result"
    }
   ],
   "source": [
    "upper_bound = np.percentile(df_clean[\"Edad\"], 95)\n",
    "lower_bound = np.percentile(df_clean[\"Edad\"], 5)\n",
    "\n",
    "df_capped = df_clean.copy()\n",
    "df_capped[\"Edad\"] =np.clip(df_clean[\"Edad\"], lower_bound, upper_bound)\n",
    "df_capped"
   ]
  },
  {
   "cell_type": "code",
   "execution_count": 107,
   "metadata": {},
   "outputs": [
    {
     "data": {
      "text/plain": [
       "173.99999999999955"
      ]
     },
     "metadata": {},
     "output_type": "display_data"
    },
    {
     "data": {
      "text/plain": [
       "18.2"
      ]
     },
     "metadata": {},
     "output_type": "display_data"
    },
    {
     "data": {
      "text/html": [
       "<div>\n",
       "<style scoped>\n",
       "    .dataframe tbody tr th:only-of-type {\n",
       "        vertical-align: middle;\n",
       "    }\n",
       "\n",
       "    .dataframe tbody tr th {\n",
       "        vertical-align: top;\n",
       "    }\n",
       "\n",
       "    .dataframe thead th {\n",
       "        text-align: right;\n",
       "    }\n",
       "</style>\n",
       "<table border=\"1\" class=\"dataframe\">\n",
       "  <thead>\n",
       "    <tr style=\"text-align: right;\">\n",
       "      <th></th>\n",
       "      <th>0</th>\n",
       "    </tr>\n",
       "  </thead>\n",
       "  <tbody>\n",
       "    <tr>\n",
       "      <th>0</th>\n",
       "      <td>30.0</td>\n",
       "    </tr>\n",
       "    <tr>\n",
       "      <th>1</th>\n",
       "      <td>40.0</td>\n",
       "    </tr>\n",
       "    <tr>\n",
       "      <th>2</th>\n",
       "      <td>50.0</td>\n",
       "    </tr>\n",
       "    <tr>\n",
       "      <th>3</th>\n",
       "      <td>20.0</td>\n",
       "    </tr>\n",
       "    <tr>\n",
       "      <th>4</th>\n",
       "      <td>18.2</td>\n",
       "    </tr>\n",
       "    <tr>\n",
       "      <th>5</th>\n",
       "      <td>20.0</td>\n",
       "    </tr>\n",
       "    <tr>\n",
       "      <th>6</th>\n",
       "      <td>19.0</td>\n",
       "    </tr>\n",
       "    <tr>\n",
       "      <th>7</th>\n",
       "      <td>22.0</td>\n",
       "    </tr>\n",
       "    <tr>\n",
       "      <th>8</th>\n",
       "      <td>36.0</td>\n",
       "    </tr>\n",
       "    <tr>\n",
       "      <th>9</th>\n",
       "      <td>35.0</td>\n",
       "    </tr>\n",
       "    <tr>\n",
       "      <th>10</th>\n",
       "      <td>19.0</td>\n",
       "    </tr>\n",
       "    <tr>\n",
       "      <th>11</th>\n",
       "      <td>21.0</td>\n",
       "    </tr>\n",
       "    <tr>\n",
       "      <th>12</th>\n",
       "      <td>174.0</td>\n",
       "    </tr>\n",
       "  </tbody>\n",
       "</table>\n",
       "</div>"
      ],
      "text/plain": [
       "        0\n",
       "0    30.0\n",
       "1    40.0\n",
       "2    50.0\n",
       "3    20.0\n",
       "4    18.2\n",
       "5    20.0\n",
       "6    19.0\n",
       "7    22.0\n",
       "8    36.0\n",
       "9    35.0\n",
       "10   19.0\n",
       "11   21.0\n",
       "12  174.0"
      ]
     },
     "execution_count": 107,
     "metadata": {},
     "output_type": "execute_result"
    }
   ],
   "source": [
    "data = np.array([30,40,50,20,17,20,19,22,36,35,19,21,360])\n",
    "df = pd.DataFrame(data)\n",
    "upper_bound = np.percentile(df, 95)\n",
    "lower_bound = np.percentile(df, 5)\n",
    "\n",
    "display(upper_bound, lower_bound)\n",
    "\n",
    "df_cap = np.clip(df, lower_bound, upper_bound)\n",
    "df_cap"
   ]
  },
  {
   "cell_type": "markdown",
   "metadata": {},
   "source": [
    "##### 3.2.2.2. Transformación\n",
    "Las transformaciónes de datos son técnicas utilizada para modificar la distribución de tus datos, haciéndolos más \"normales\" (gaussianos) y, por lo tanto, más manejables para ciertos tipos de análisis y modelado estadístico. Aquí tienes ejemplos de cómo realizar transformaciones logarítmicas, raíz cuadradasy box-cox"
   ]
  },
  {
   "cell_type": "code",
   "execution_count": 135,
   "metadata": {},
   "outputs": [
    {
     "data": {
      "text/plain": [
       "Text(0.5, 1.0, 'box-cox $\\\\lambda$=-0.29')"
      ]
     },
     "execution_count": 135,
     "metadata": {},
     "output_type": "execute_result"
    },
    {
     "data": {
      "image/png": "[encoded data removed]",
      "text/plain": [
       "<Figure size 1000x1000 with 4 Axes>"
      ]
     },
     "metadata": {},
     "output_type": "display_data"
    }
   ],
   "source": [
    "import numpy as np\n",
    "import matplotlib.pyplot as plt\n",
    "from scipy import stats\n",
    "\n",
    "data = np.array([2,1,2,1,4,3,2,3,5,6,9,15,26,48,100])\n",
    "df = pd.DataFrame(data)\n",
    "data_log_transformed = np.log(df)\n",
    "data_sqrt_transformed = np.sqrt(df)\n",
    "data_boxcox_transformed, lambda_param = stats.boxcox(data)\n",
    "\n",
    "plt.figure(figsize = (10,10))\n",
    "plt.tight_layout()\n",
    "plt.subplot(221)\n",
    "plt.violinplot(df)\n",
    "plt.boxplot(df)\n",
    "plt.scatter(np.ones(len(df)),df)\n",
    "plt.title(\"natural\")\n",
    "plt.subplot(222)\n",
    "plt.violinplot(data_log_transformed)\n",
    "plt.boxplot(data_log_transformed)\n",
    "plt.scatter(np.ones(len(data_log_transformed)),data_log_transformed)\n",
    "\n",
    "plt.title(\"Log\")\n",
    "plt.subplot(223)\n",
    "plt.violinplot(data_sqrt_transformed)\n",
    "plt.boxplot(data_sqrt_transformed)\n",
    "plt.scatter(np.ones(len(data_sqrt_transformed)),data_sqrt_transformed)\n",
    "\n",
    "plt.title(\"sqrt\")\n",
    "plt.subplot(224)\n",
    "plt.violinplot(data_boxcox_transformed)\n",
    "plt.boxplot(data_boxcox_transformed)\n",
    "plt.scatter(np.ones(len(data_boxcox_transformed)),data_boxcox_transformed)\n",
    "\n",
    "plt.title(f\"box-cox $\\lambda$={lambda_param:.2f}\")\n",
    "\n",
    "\n"
   ]
  },
  {
   "cell_type": "markdown",
   "metadata": {},
   "source": [
    "Para el caso de la transformación Box-Cox es una forma de transformar datos no normales en un conjunto de datos normal. La normalidad es una asunción importante en muchos modelos estadísticos, y si los datos no siguen una distribución normal, puede distorsionar los resultados y las conclusiones de estos modelos. La transformación de Box-Cox puede hacer que los procedimientos estadísiticos que dependen de la normalidad sean más robustos. \n",
    "Se define como:\n",
    "\n",
    "$$\n",
    "T(y) = \\begin{cases}\\frac{y^\\lambda-1}{\\lambda}\\quad \\text{si } \\lambda \\ne 0 \\\\ \\log(y) \\quad \\text{si } \\lambda = 0\\end{cases}\n",
    "$$"
   ]
  },
  {
   "cell_type": "markdown",
   "metadata": {},
   "source": [
    "donde:\n",
    "\n",
    "* $T(y)$ es el dato transformado.\n",
    "* $y$ es el dato original (y >0, todos los datos debe ser positivos).\n",
    "* $\\lambda$ es el parámetro de transformación.\n",
    "\n",
    "El objetivo de la transformación es identificar el valor de $\\lambda$ que maximiza la normalidad de los datos. Cuando $\\lambda = 0$, la transformación Box-Cox corresponde a una trasformación logaritmica. Diferentes valores de $\\lambda$ proporcionan diferentes transformaciones: por ejemplo, $\\lambda = 0.5$ corresponde a una transformación de raíz cuadrada y $\\lambda = -1$  corresponde a una transformación reciproca.\n",
    "\n",
    "La selección de $\\lambda$ generalmente se realiza mediante un proceso que busca el valor que maximizará la verosimilitud de los datos transformados siendo normales. La distribución de los datos transformados se compara con la distribución normal a través de la función de verosimilitud, y el valor de $\\lambda$ que da la \"mejor\" correspondencia es seleccionado."
   ]
  },
  {
   "cell_type": "code",
   "execution_count": 138,
   "metadata": {},
   "outputs": [
    {
     "name": "stdout",
     "output_type": "stream",
     "text": [
      "Lambda óptimo: 0.2720537088321698\n"
     ]
    },
    {
     "data": {
      "image/png": "[encoded data removed]",
      "text/plain": [
       "<Figure size 640x480 with 2 Axes>"
      ]
     },
     "metadata": {},
     "output_type": "display_data"
    }
   ],
   "source": [
    "import numpy as np\n",
    "from scipy import stats\n",
    "import matplotlib.pyplot as plt\n",
    "\n",
    "# Generar algunos datos no normales\n",
    "data = np.random.exponential(size=1000)\n",
    "\n",
    "# Transformación de Box-Cox\n",
    "transformed_data, lambda_param = stats.boxcox(data)\n",
    "\n",
    "print(f\"Lambda óptimo: {lambda_param}\")\n",
    "\n",
    "# Graficar los datos originales y los datos transformados\n",
    "fig, ax = plt.subplots(1, 2)\n",
    "\n",
    "# Datos originales\n",
    "sns.histplot(data, kde=True, ax=ax[0], color='blue')\n",
    "ax[0].set_title(\"Datos Originales\")\n",
    "ax[0].set_xlabel(\"x\")\n",
    "ax[0].set_ylabel(\"Densidad\")\n",
    "\n",
    "# Datos transformados\n",
    "sns.histplot(transformed_data, kde=True, ax=ax[1], color='green')\n",
    "ax[1].set_title(f\"Datos Transformados por Box-Cox $\\lambda = {lambda_param:.2f}$\")\n",
    "ax[1].set_xlabel(\"x (transformado)\")\n",
    "ax[1].set_ylabel(\"Densidad\")\n",
    "\n",
    "plt.tight_layout()\n",
    "plt.show()\n"
   ]
  },
  {
   "cell_type": "markdown",
   "metadata": {},
   "source": [
    "Cada una de las transformaciones tienen un efecto diferente en la distribución de tus datos, pero todas tienen a hacer la distribución más normal y reducir el impacto de los outliers.\n",
    "* La **transformación logarítmica:** funciona bien para datos que están sesgados a la derecha y tienen valores positivos.\n",
    "* La **transformación de raíz cuadrada:** es una técnica moderada que es útil cuando tus datos están moderamente sesgados y tienen valores cero o positivos.\n",
    "* La **transformación Box-Cox:** requiere que los datos sean positivos y encuentra un lambda que maxmiza la normalidad de los datos. Es bastante flexible y puede manejar diversas distribuciones."
   ]
  },
  {
   "cell_type": "markdown",
   "metadata": {},
   "source": [
    "### ANEXO WEBSCRAP"
   ]
  },
  {
   "cell_type": "code",
   "execution_count": 11,
   "metadata": {},
   "outputs": [],
   "source": [
    "import requests\n",
    "from bs4 import BeautifulSoup\n",
    "\n",
    "url = \"https://es.wikipedia.org/wiki/Anexo:Hombres_m%C3%A1s_ancianos\"\n",
    "\n",
    "# Realizar la solicitud a la página web\n",
    "response = requests.get(url)\n",
    "soup = BeautifulSoup(response.text, 'html.parser')\n",
    "\n",
    "# Buscar la tabla en el HTML\n",
    "tabla = soup.find('table', {'class': 'wikitable'})\n",
    "\n",
    "# Obtener los encabezados de la tabla\n",
    "encabezados = []\n",
    "for th in tabla.find_all(\"th\"):\n",
    "    encabezados.append(th.text.strip())\n",
    "\n",
    "# Recorrer las filas de la tabla y obtener la información\n",
    "filas = tabla.find_all(\"tr\")\n",
    "i = 0\n",
    "df_edades = pd.DataFrame()\n",
    "for fila in filas[1:]:  # Ignorar la fila de encabezado\n",
    "    i +=1\n",
    "    datos = fila.find_all(\"td\")\n",
    "    datos_fila = [c.text.strip() for c in fila.find_all(\"th\")]\n",
    "    \n",
    "    [datos_fila.append(td.text.strip()) for td in datos]\n",
    "    df_edades[i] = (dict(zip(encabezados, datos_fila)))\n",
    "df_edad = df_edades.transpose()\n",
    "edad_max = int(df_edad.iloc[0][\"Edad alcanzada\"].split(\" \")[0])"
   ]
  },
  {
   "cell_type": "markdown",
   "metadata": {},
   "source": [
    "### ANEXO NLTK"
   ]
  },
  {
   "cell_type": "code",
   "execution_count": 12,
   "metadata": {},
   "outputs": [
    {
     "name": "stdout",
     "output_type": "stream",
     "text": [
      "{'America', 'USA', 'United_States_Army', 'U.S.', 'United_States_of_America', 'Army', 'United_States', 'U._S._Army', 'U.S.A.', 'US_Army', 'the_States', 'US'}\n"
     ]
    }
   ],
   "source": [
    "import nltk\n",
    "from nltk.corpus import wordnet\n",
    "\n",
    "# nltk.download('wordnet')\n",
    "\n",
    "def obtener_sinonimos(word):\n",
    "    sinonimos = set()\n",
    "    for syn in wordnet.synsets(word):\n",
    "        for lemma in syn.lemmas():\n",
    "            sinonimos.add(lemma.name())\n",
    "    return sinonimos\n",
    "\n",
    "palabra = \"USA\"\n",
    "print(obtener_sinonimos(palabra))"
   ]
  }
 ],
 "metadata": {
  "kernelspec": {
   "display_name": "Python 3",
   "language": "python",
   "name": "python3"
  },
  "language_info": {
   "codemirror_mode": {
    "name": "ipython",
    "version": 3
   },
   "file_extension": ".py",
   "mimetype": "text/x-python",
   "name": "python",
   "nbconvert_exporter": "python",
   "pygments_lexer": "ipython3",
   "version": "3.10.8"
  }
 },
 "nbformat": 4,
 "nbformat_minor": 2
}
