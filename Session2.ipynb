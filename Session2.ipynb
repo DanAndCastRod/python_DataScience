{
  "cells": [
    {
      "cell_type": "markdown",
      "metadata": {
        "id": "wCMpyRRty6Oo"
      },
      "source": [
        "## Continuación de control de Flujo en python"
      ]
    },
    {
      "cell_type": "markdown",
      "metadata": {
        "id": "7CrBqXzZy6Ov"
      },
      "source": [
        "### Funciones"
      ]
    },
    {
      "cell_type": "markdown",
      "metadata": {
        "id": "2PcdeGcNy6Ow"
      },
      "source": [
        "Las funciones son bloques de código que se pueden reutilizar y se definen con la palabra clave `def`.\n",
        "\n",
        "Ejemplo:"
      ]
    },
    {
      "cell_type": "code",
      "execution_count": 80,
      "metadata": {
        "id": "HOtAgsv2y6Ox"
      },
      "outputs": [],
      "source": [
        "var1 = []\n",
        "def saludar(nombre, apellido):\n",
        "    \"\"\"\n",
        "    En esta sección se agregan las lineas de código que queremos encapsular dentro de la función\n",
        "    \"\"\"\n",
        "\n",
        "\n",
        "    var1= [1,2,3,4]\n",
        "    resultado = \"Hola \" + nombre +\" \"+apellido + \"!, Un gusto conocerte\"\n",
        "    return resultado\n",
        "\n"
      ]
    },
    {
      "cell_type": "code",
      "execution_count": 78,
      "metadata": {
        "id": "hQxkoI_By6Oz",
        "outputId": "089c4c3d-cc7a-4a18-e3dc-afc0a6d71413",
        "colab": {
          "base_uri": "https://localhost:8080/",
          "height": 36
        }
      },
      "outputs": [
        {
          "output_type": "execute_result",
          "data": {
            "text/plain": [
              "'José'"
            ],
            "application/vnd.google.colaboratory.intrinsic+json": {
              "type": "string"
            }
          },
          "metadata": {},
          "execution_count": 78
        }
      ],
      "source": [
        "Nombre = \"José\"\n",
        "Apellido = \"Suarez\"\n",
        "saludar(Nombre,Apellido)\n"
      ]
    },
    {
      "cell_type": "code",
      "source": [
        "def saludar_arr(arr):\n",
        "  nombre = arr[0]\n",
        "  apellido = arr[2]\n",
        "\n",
        "  resultado = \"Hola \" + nombre +\" \"+apellido\n",
        "  return resultado"
      ],
      "metadata": {
        "id": "N63Qd-dq9FEm"
      },
      "execution_count": 90,
      "outputs": []
    },
    {
      "cell_type": "code",
      "source": [
        "nombre_apellido = [\"josé\",\"calvo\",\"castillo\"]\n",
        "\n",
        "saludar_arr(nombre_apellido)"
      ],
      "metadata": {
        "id": "b-QvGbJP9hNo",
        "outputId": "9b08dcbf-e49e-4b62-97e6-3f0ea0850e78",
        "colab": {
          "base_uri": "https://localhost:8080/",
          "height": 36
        }
      },
      "execution_count": 91,
      "outputs": [
        {
          "output_type": "execute_result",
          "data": {
            "text/plain": [
              "'Hola josé castillo'"
            ],
            "application/vnd.google.colaboratory.intrinsic+json": {
              "type": "string"
            }
          },
          "metadata": {},
          "execution_count": 91
        }
      ]
    },
    {
      "cell_type": "markdown",
      "metadata": {
        "id": "mj4VFQd7y6O0"
      },
      "source": [
        "Ejemplo 2:"
      ]
    },
    {
      "cell_type": "code",
      "execution_count": 49,
      "metadata": {
        "id": "R2zdRnEpy6O1"
      },
      "outputs": [],
      "source": [
        "def sumar(parametro1: int,parametro2:int):\n",
        "    if type(parametro1) == int:\n",
        "      resultado = parametro1+parametro2\n",
        "    else:\n",
        "      resultado = \"no es entero\"\n",
        "    return resultado"
      ]
    },
    {
      "cell_type": "markdown",
      "metadata": {
        "id": "j8KSi95zy6O4"
      },
      "source": [
        "Podemos llamar la función, simplemente usando su nombre y proporcionando los argumentos necesarios."
      ]
    },
    {
      "cell_type": "code",
      "execution_count": 51,
      "metadata": {
        "id": "td0MTRncy6O5",
        "outputId": "c52cbf62-00ca-4455-b6af-a7b190f6622e",
        "colab": {
          "base_uri": "https://localhost:8080/"
        }
      },
      "outputs": [
        {
          "output_type": "execute_result",
          "data": {
            "text/plain": [
              "5"
            ]
          },
          "metadata": {},
          "execution_count": 51
        }
      ],
      "source": [
        "sumar(1,4)"
      ]
    },
    {
      "cell_type": "markdown",
      "metadata": {
        "id": "DQKLOxrsy6O6"
      },
      "source": [
        "Adicionalmente podemos asignar el resultado a una variable y guardarlo para su posterior uso"
      ]
    },
    {
      "cell_type": "code",
      "execution_count": 93,
      "metadata": {
        "id": "5txC2Wziy6O7",
        "outputId": "c520817e-56ed-46ac-bfc1-3dc069cbc5c6",
        "colab": {
          "base_uri": "https://localhost:8080/"
        }
      },
      "outputs": [
        {
          "output_type": "execute_result",
          "data": {
            "text/plain": [
              "18"
            ]
          },
          "metadata": {},
          "execution_count": 93
        }
      ],
      "source": [
        "a = 10\n",
        "b = 8\n",
        "s = sumar(a,b)\n",
        "s"
      ]
    },
    {
      "cell_type": "markdown",
      "metadata": {
        "id": "lGEQILvmy6O8"
      },
      "source": [
        "Las funciones pueden tener argumentos predeterminados, lo que significa que si no se proporciona un valor para ese argumento, se utilizará el valor predeterminado"
      ]
    },
    {
      "cell_type": "code",
      "execution_count": 36,
      "metadata": {
        "id": "bKiuK9ZWy6O8"
      },
      "outputs": [],
      "source": [
        "def salu2(nombre, contenido=26):\n",
        "    contenido = str(contenido)\n",
        "    saludo = \"Hola \" + nombre + \", \" + contenido\n",
        "    return saludo"
      ]
    },
    {
      "cell_type": "code",
      "execution_count": 37,
      "metadata": {
        "id": "XqQsO1gmy6O9",
        "outputId": "bff6e878-6b8a-499d-a6ca-04d490d1556c",
        "colab": {
          "base_uri": "https://localhost:8080/"
        }
      },
      "outputs": [
        {
          "output_type": "stream",
          "name": "stdout",
          "text": [
            "Hola Jhon, 26\n",
            "Hola Luisa, Un gusto verte\n"
          ]
        }
      ],
      "source": [
        "print(salu2(\"Jhon\"))\n",
        "print(salu2(\"Luisa\",\"Un gusto verte\"))"
      ]
    },
    {
      "cell_type": "markdown",
      "metadata": {
        "id": "7P0e-lB8y6O9"
      },
      "source": [
        "#### Formato de cadenas"
      ]
    },
    {
      "cell_type": "markdown",
      "metadata": {
        "id": "KQFLCqf7y6O9"
      },
      "source": [
        "En python, se cuenta con algunas opciones para dar formato a las cadenas de texto entre ellas se encuentran el formato `% string`, `str.format()`, formato con palabras claves y los formatos literales"
      ]
    },
    {
      "cell_type": "markdown",
      "metadata": {
        "id": "bBnTJhDvy6O-"
      },
      "source": [
        "##### Formato `% string`"
      ]
    },
    {
      "cell_type": "markdown",
      "metadata": {
        "id": "qe-T2AGyy6O-"
      },
      "source": [
        "es una de las manera habituales de formatear cadenas en python utilizando el operador `%`"
      ]
    },
    {
      "cell_type": "code",
      "execution_count": 28,
      "metadata": {
        "id": "BN2drbjMy6O-",
        "outputId": "e70392f6-d2df-4bef-a381-2dcac48709cb",
        "colab": {
          "base_uri": "https://localhost:8080/"
        }
      },
      "outputs": [
        {
          "output_type": "stream",
          "name": "stdout",
          "text": [
            "Hola mi nombre es Daniel y tengo 26 años\n"
          ]
        }
      ],
      "source": [
        "Saludo = \"Hola mi nombre es %s y tengo %s años\"\n",
        "persona = (\"Daniel\", 26)\n",
        "\n",
        "print(Saludo%persona)"
      ]
    },
    {
      "cell_type": "markdown",
      "metadata": {
        "id": "7RmfLPg5y6O_"
      },
      "source": [
        "Este correspondía al metodo tradicional de formateo de cadenas. Sin embargo en python 3 se introdo el `str.format()` junto con el formato para literales y las plantillas"
      ]
    },
    {
      "cell_type": "markdown",
      "metadata": {
        "id": "bwI_7UmYy6O_"
      },
      "source": [
        "##### Formato de texto con str.format()"
      ]
    },
    {
      "cell_type": "code",
      "execution_count": 29,
      "metadata": {
        "id": "Tdgt_7kYy6PA",
        "outputId": "cf073a8f-733a-41e1-f557-364e5c8a666c",
        "colab": {
          "base_uri": "https://localhost:8080/",
          "height": 36
        }
      },
      "outputs": [
        {
          "output_type": "execute_result",
          "data": {
            "text/plain": [
              "'Mi nombre es Daniel, y tengo 26 años'"
            ],
            "application/vnd.google.colaboratory.intrinsic+json": {
              "type": "string"
            }
          },
          "metadata": {},
          "execution_count": 29
        }
      ],
      "source": [
        "\"Mi nombre es {}, y tengo {} años\".format(\"Daniel\",26, \"Como estás?\")"
      ]
    },
    {
      "cell_type": "markdown",
      "metadata": {
        "id": "UzNxVBNAy6PB"
      },
      "source": [
        "En la cadena agregamos los marcadores con `{}` donde iran los argumentos junto con dentro del método `.format()`"
      ]
    },
    {
      "cell_type": "markdown",
      "metadata": {
        "id": "0SZCqZ4My6PB"
      },
      "source": [
        "Estos argumentos pueden usarse de forma posicional por lo que podemos agregar el indice de cada argumento para traerlos en otro orden"
      ]
    },
    {
      "cell_type": "code",
      "execution_count": 52,
      "metadata": {
        "id": "1NgfoQkoy6PB",
        "outputId": "1e4da76f-2efc-4b66-d768-744bef989e98",
        "colab": {
          "base_uri": "https://localhost:8080/",
          "height": 36
        }
      },
      "outputs": [
        {
          "output_type": "execute_result",
          "data": {
            "text/plain": [
              "'Hola mi nombre es Daniel, y me encanta tocar Piano y Guitarra'"
            ],
            "application/vnd.google.colaboratory.intrinsic+json": {
              "type": "string"
            }
          },
          "metadata": {},
          "execution_count": 52
        }
      ],
      "source": [
        "\"Hola mi nombre es {0}, y me encanta tocar {2} y {1}\".format(\"Daniel\",\"Guitarra\",\"Piano\")"
      ]
    },
    {
      "cell_type": "markdown",
      "metadata": {
        "id": "MRXGO5P-y6PB"
      },
      "source": [
        "Así como funcionan los argumentos posicionales tambien funcionan los argumentos de **palabras clave**"
      ]
    },
    {
      "cell_type": "code",
      "execution_count": 32,
      "metadata": {
        "id": "G6v7ioncy6PB",
        "outputId": "a36b59ad-a30a-43e3-c19e-1b050bf5534d",
        "colab": {
          "base_uri": "https://localhost:8080/",
          "height": 36
        }
      },
      "outputs": [
        {
          "output_type": "execute_result",
          "data": {
            "text/plain": [
              "'JavaScript es el Mejor lenguaje'"
            ],
            "application/vnd.google.colaboratory.intrinsic+json": {
              "type": "string"
            }
          },
          "metadata": {},
          "execution_count": 32
        }
      ],
      "source": [
        "\"{lenguaje} es el {adjetivo} lenguaje\".format(lenguaje = \"JavaScript\", adjetivo =\"Mejor\")"
      ]
    },
    {
      "cell_type": "markdown",
      "metadata": {
        "id": "OHEvSjBRy6PB"
      },
      "source": [
        "##### Formatos literales (`f-string`)"
      ]
    },
    {
      "cell_type": "markdown",
      "metadata": {
        "id": "iQFXRXe2y6PC"
      },
      "source": [
        "Los literales de cadenas nos permiten introducir expresiones al interior de una cadena y funcionan introduciendo un `f` o `F` para indicar al programa que debe usar `f-string`"
      ]
    },
    {
      "cell_type": "code",
      "execution_count": 94,
      "metadata": {
        "id": "iO6oBvvKy6PC",
        "outputId": "fb74bdb1-3847-4bfb-aff4-cbceae47051b",
        "colab": {
          "base_uri": "https://localhost:8080/"
        }
      },
      "outputs": [
        {
          "output_type": "stream",
          "name": "stdout",
          "text": [
            "Hola José, estamos aprendiendo de formatos\n",
            "El resultado de la suma anterior es: 18\n"
          ]
        }
      ],
      "source": [
        "Nombre = \"José\"\n",
        "print(f\"Hola {Nombre}, estamos aprendiendo de formatos\")\n",
        "print(f\"El resultado de la suma anterior es: {s}\")"
      ]
    },
    {
      "cell_type": "markdown",
      "metadata": {
        "id": "pfaKJQaUy6PC"
      },
      "source": [
        "Con el control de flujo podemos hacer formatos para conjuntos de datos como por ejemplo en diccionarios:"
      ]
    },
    {
      "cell_type": "code",
      "execution_count": 102,
      "metadata": {
        "id": "8XmlnwyRy6PC",
        "outputId": "d1908456-9305-4cca-d3e0-1ae8a2dc83ac",
        "colab": {
          "base_uri": "https://localhost:8080/"
        }
      },
      "outputs": [
        {
          "output_type": "stream",
          "name": "stdout",
          "text": [
            "Estos son los resultados en goles de los equipos en el anterior campeonato\n",
            "El Equipo 1 anotó 20 goles\n",
            "El Equipo 2 anotó 18 goles\n",
            "El Equipo 3 anotó 17 goles\n",
            "El Equipo 4 anotó 15 goles\n"
          ]
        }
      ],
      "source": [
        "Resultados ={\n",
        "    \"Equipo 1\": 20,\n",
        "    \"Equipo 2\": 18,\n",
        "    \"Equipo 3\": 17,\n",
        "    \"Equipo 4\": 15\n",
        "}\n",
        "\n",
        "print(\"Estos son los resultados en goles de los equipos en el anterior campeonato\")\n",
        "for equipo, goles in Resultados.items():\n",
        "    print(f\"El {equipo} anotó {goles} goles\")"
      ]
    },
    {
      "cell_type": "code",
      "source": [
        "Resultados.keys()"
      ],
      "metadata": {
        "id": "Q9AnBIvy-Y3S",
        "outputId": "af7dd949-790a-4cff-dd80-d1a78d4e47fb",
        "colab": {
          "base_uri": "https://localhost:8080/"
        }
      },
      "execution_count": 100,
      "outputs": [
        {
          "output_type": "execute_result",
          "data": {
            "text/plain": [
              "dict_keys(['Equipo 1', 'Equipo 2', 'Equipo 3', 'Equipo 4'])"
            ]
          },
          "metadata": {},
          "execution_count": 100
        }
      ]
    },
    {
      "cell_type": "markdown",
      "metadata": {
        "id": "5Zqrw_tUy6PC"
      },
      "source": [
        "# Manejo de librerías"
      ]
    },
    {
      "cell_type": "markdown",
      "metadata": {
        "id": "ePyHjLTwy6PC"
      },
      "source": [
        "En python, los paquetes y librerías son colecciones de módulos que proporcionan funciones, clases y métodos para realizar diferentes tareas. Estos paquetes ofrecen herramientas y funcionalidades preexistentes para el análisis de datos, visualización, machine learning, entre otros. A continuación, se describen algunas de las librerías más populares"
      ]
    },
    {
      "cell_type": "markdown",
      "metadata": {
        "id": "1R0Zv0pty6PC"
      },
      "source": [
        "1. **NumPy**\n",
        "   \n",
        "   Numpy es una librería que proporciona soporte para trabajar con arrays multidimensionales y matrices, así como una colección de funciones matemáticas para trabajar con estas estructuras.\n",
        "   Es una herramienta fundamental en Data Science para la manipulación numérica y el análisis de los datos."
      ]
    },
    {
      "cell_type": "code",
      "execution_count": 103,
      "metadata": {
        "id": "eBF227WOy6PC",
        "outputId": "89da4c94-cbf4-4bd9-d263-e6c61a0427f6",
        "colab": {
          "base_uri": "https://localhost:8080/"
        }
      },
      "outputs": [
        {
          "output_type": "stream",
          "name": "stdout",
          "text": [
            "Requirement already satisfied: numpy in /usr/local/lib/python3.10/dist-packages (1.23.5)\n"
          ]
        }
      ],
      "source": [
        "!pip install numpy"
      ]
    },
    {
      "cell_type": "markdown",
      "metadata": {
        "id": "AjSYyD2Vy6PD"
      },
      "source": [
        "2. **pandas**\n",
        "   \n",
        "   Pandas es una librería que proporciona estructuras de datos y herramientas de análisis de datos de alto rendimiento y fáciles de usar. Las principales estructuras de datos en pandas son las **Series** y los **DataFrames**, que permiten la manipulación y análisis de datos tabulares."
      ]
    },
    {
      "cell_type": "code",
      "execution_count": 104,
      "metadata": {
        "id": "bnO8uHaxy6PD",
        "outputId": "b97e12dd-96bc-4d94-c138-aa9deb8ae50a",
        "colab": {
          "base_uri": "https://localhost:8080/"
        }
      },
      "outputs": [
        {
          "output_type": "stream",
          "name": "stdout",
          "text": [
            "Requirement already satisfied: pandas in /usr/local/lib/python3.10/dist-packages (1.5.3)\n",
            "Requirement already satisfied: python-dateutil>=2.8.1 in /usr/local/lib/python3.10/dist-packages (from pandas) (2.8.2)\n",
            "Requirement already satisfied: pytz>=2020.1 in /usr/local/lib/python3.10/dist-packages (from pandas) (2023.3)\n",
            "Requirement already satisfied: numpy>=1.21.0 in /usr/local/lib/python3.10/dist-packages (from pandas) (1.23.5)\n",
            "Requirement already satisfied: six>=1.5 in /usr/local/lib/python3.10/dist-packages (from python-dateutil>=2.8.1->pandas) (1.16.0)\n"
          ]
        }
      ],
      "source": [
        "!pip install pandas"
      ]
    },
    {
      "cell_type": "markdown",
      "metadata": {
        "id": "wpejPZbRy6PD"
      },
      "source": [
        "3. **Matplotlib y Seaborn**\n",
        "   \n",
        "   Matplotlib es una librería de visualización que proporciona una variedad de herramientas para crear gráficos 2D y 3D. Seaborn es una librería de visualización basada en Matplotlib que proporciona una interfaz de alto nivel para crear gráficos estadísticos atractivos."
      ]
    },
    {
      "cell_type": "code",
      "execution_count": 112,
      "metadata": {
        "id": "LFcjJk6Py6PI",
        "outputId": "516f75c1-e09c-4626-8e1f-fa9c3cba2894",
        "colab": {
          "base_uri": "https://localhost:8080/"
        }
      },
      "outputs": [
        {
          "output_type": "stream",
          "name": "stdout",
          "text": [
            "Collecting pulp\n",
            "  Downloading PuLP-2.7.0-py3-none-any.whl (14.3 MB)\n",
            "\u001b[2K     \u001b[90m━━━━━━━━━━━━━━━━━━━━━━━━━━━━━━━━━━━━━━━━\u001b[0m \u001b[32m14.3/14.3 MB\u001b[0m \u001b[31m31.8 MB/s\u001b[0m eta \u001b[36m0:00:00\u001b[0m\n",
            "\u001b[?25hInstalling collected packages: pulp\n",
            "Successfully installed pulp-2.7.0\n"
          ]
        }
      ],
      "source": [
        "!pip install pulp"
      ]
    },
    {
      "cell_type": "markdown",
      "metadata": {
        "id": "y5IQkXd4y6PI"
      },
      "source": [
        "4. **Scipy**\n",
        "   \n",
        "   SciPy es una librería que se basa en NumPy y proporciona muchas funciones y herramientas para la matemática, la ciencia y la ingeniería. Incluye módulos de optimización, algebra lineal, integración, interpolación, entre otros."
      ]
    },
    {
      "cell_type": "code",
      "execution_count": null,
      "metadata": {
        "id": "otp2IbOoy6PI",
        "outputId": "6126efa5-6ac2-480a-ba4b-8af410a0c0f4"
      },
      "outputs": [
        {
          "name": "stdout",
          "output_type": "stream",
          "text": [
            "Defaulting to user installation because normal site-packages is not writeable\n",
            "Requirement already satisfied: scipy in /home/dancastarod/.local/lib/python3.11/site-packages (1.11.2)\n",
            "Requirement already satisfied: numpy<1.28.0,>=1.21.6 in /home/dancastarod/.local/lib/python3.11/site-packages (from scipy) (1.25.2)\n"
          ]
        }
      ],
      "source": [
        "!pip install scipy"
      ]
    },
    {
      "cell_type": "markdown",
      "metadata": {
        "id": "OOUnrKzFy6PJ"
      },
      "source": [
        "5. **scikit-learn**\n",
        "   \n",
        "   Scikit-learn es una librería de machine learning que proporciona herramientas simples y eficientes para la minería de datos y el análisis de datos. Incluye algoritmos de clasificación, regresión, clustering, reducción de dimensionalidad, entre otros."
      ]
    },
    {
      "cell_type": "code",
      "execution_count": null,
      "metadata": {
        "id": "Mc1Qxln7y6PJ",
        "outputId": "a2c27a20-155f-4922-f7bd-cb7e2bc8cdc3"
      },
      "outputs": [
        {
          "name": "stdout",
          "output_type": "stream",
          "text": [
            "Defaulting to user installation because normal site-packages is not writeable\n",
            "Collecting scikit-learn\n",
            "  Obtaining dependency information for scikit-learn from https://files.pythonhosted.org/packages/1f/ad/9799aabeabcb9a293c87b6f96cc78655b8abc7d35560cd99007093b5d445/scikit_learn-1.3.0-cp311-cp311-manylinux_2_17_x86_64.manylinux2014_x86_64.whl.metadata\n",
            "  Downloading scikit_learn-1.3.0-cp311-cp311-manylinux_2_17_x86_64.manylinux2014_x86_64.whl.metadata (11 kB)\n",
            "Requirement already satisfied: numpy>=1.17.3 in /home/dancastarod/.local/lib/python3.11/site-packages (from scikit-learn) (1.25.2)\n",
            "Requirement already satisfied: scipy>=1.5.0 in /home/dancastarod/.local/lib/python3.11/site-packages (from scikit-learn) (1.11.2)\n",
            "Requirement already satisfied: joblib>=1.1.1 in /home/dancastarod/.local/lib/python3.11/site-packages (from scikit-learn) (1.3.2)\n",
            "Collecting threadpoolctl>=2.0.0 (from scikit-learn)\n",
            "  Obtaining dependency information for threadpoolctl>=2.0.0 from https://files.pythonhosted.org/packages/81/12/fd4dea011af9d69e1cad05c75f3f7202cdcbeac9b712eea58ca779a72865/threadpoolctl-3.2.0-py3-none-any.whl.metadata\n",
            "  Downloading threadpoolctl-3.2.0-py3-none-any.whl.metadata (10.0 kB)\n",
            "Downloading scikit_learn-1.3.0-cp311-cp311-manylinux_2_17_x86_64.manylinux2014_x86_64.whl (10.9 MB)\n",
            "\u001b[2K   \u001b[90m━━━━━━━━━━━━━━━━━━━━━━━━━━━━━━━━━━━━━━━━\u001b[0m \u001b[32m10.9/10.9 MB\u001b[0m \u001b[31m1.6 MB/s\u001b[0m eta \u001b[36m0:00:00\u001b[0m00:01\u001b[0m00:01\u001b[0mm\n",
            "\u001b[?25hDownloading threadpoolctl-3.2.0-py3-none-any.whl (15 kB)\n",
            "Installing collected packages: threadpoolctl, scikit-learn\n",
            "Successfully installed scikit-learn-1.3.0 threadpoolctl-3.2.0\n"
          ]
        }
      ],
      "source": [
        "!pip install scikit-learn"
      ]
    },
    {
      "cell_type": "markdown",
      "metadata": {
        "id": "YdozTB8Ly6PJ"
      },
      "source": [
        "6. **Statsmodels**\n",
        "   \n",
        "   Statsmodels es una librería que proporciona clases y funciones para la estimación de modelos estadísticos. Incluye pruebas de hipótesis, análisis de regresión, análisis de series temporales, entre otros."
      ]
    },
    {
      "cell_type": "code",
      "execution_count": null,
      "metadata": {
        "id": "S1mcNWc3y6PJ",
        "outputId": "8464ff3f-63d7-4325-e31b-afea36a191c0"
      },
      "outputs": [
        {
          "name": "stdout",
          "output_type": "stream",
          "text": [
            "Defaulting to user installation because normal site-packages is not writeable\n",
            "Requirement already satisfied: statsmodels in /home/dancastarod/.local/lib/python3.11/site-packages (0.14.0)\n",
            "Requirement already satisfied: numpy>=1.18 in /home/dancastarod/.local/lib/python3.11/site-packages (from statsmodels) (1.25.2)\n",
            "Requirement already satisfied: scipy!=1.9.2,>=1.4 in /home/dancastarod/.local/lib/python3.11/site-packages (from statsmodels) (1.11.2)\n",
            "Requirement already satisfied: pandas>=1.0 in /home/dancastarod/.local/lib/python3.11/site-packages (from statsmodels) (2.0.3)\n",
            "Requirement already satisfied: patsy>=0.5.2 in /home/dancastarod/.local/lib/python3.11/site-packages (from statsmodels) (0.5.3)\n",
            "Requirement already satisfied: packaging>=21.3 in /home/dancastarod/.local/lib/python3.11/site-packages (from statsmodels) (23.1)\n",
            "Requirement already satisfied: python-dateutil>=2.8.2 in /home/dancastarod/.local/lib/python3.11/site-packages (from pandas>=1.0->statsmodels) (2.8.2)\n",
            "Requirement already satisfied: pytz>=2020.1 in /home/dancastarod/.local/lib/python3.11/site-packages (from pandas>=1.0->statsmodels) (2023.3)\n",
            "Requirement already satisfied: tzdata>=2022.1 in /home/dancastarod/.local/lib/python3.11/site-packages (from pandas>=1.0->statsmodels) (2023.3)\n",
            "Requirement already satisfied: six in /home/dancastarod/.local/lib/python3.11/site-packages (from patsy>=0.5.2->statsmodels) (1.16.0)\n"
          ]
        }
      ],
      "source": [
        "!pip install statsmodels"
      ]
    },
    {
      "cell_type": "markdown",
      "metadata": {
        "id": "V43RkIKiy6PJ"
      },
      "source": [
        "7. **TensorFlow y Keras**\n",
        "   \n",
        "   TensorFlow es una plataforma de código abierto para machine learning. Keras es una interfaz de alto nivel para TensorFlow que proporciona una forma más simple y rápida de construir y entrenar modelos de machine learning."
      ]
    },
    {
      "cell_type": "code",
      "execution_count": 108,
      "metadata": {
        "id": "ijRLXaely6PJ",
        "outputId": "149deba8-35d4-4562-8520-2e8868eeb161",
        "colab": {
          "base_uri": "https://localhost:8080/"
        }
      },
      "outputs": [
        {
          "output_type": "stream",
          "name": "stdout",
          "text": [
            "Requirement already satisfied: tensorflow in /usr/local/lib/python3.10/dist-packages (2.12.0)\n",
            "Requirement already satisfied: keras in /usr/local/lib/python3.10/dist-packages (2.12.0)\n",
            "Requirement already satisfied: absl-py>=1.0.0 in /usr/local/lib/python3.10/dist-packages (from tensorflow) (1.4.0)\n",
            "Requirement already satisfied: astunparse>=1.6.0 in /usr/local/lib/python3.10/dist-packages (from tensorflow) (1.6.3)\n",
            "Requirement already satisfied: flatbuffers>=2.0 in /usr/local/lib/python3.10/dist-packages (from tensorflow) (23.5.26)\n",
            "Requirement already satisfied: gast<=0.4.0,>=0.2.1 in /usr/local/lib/python3.10/dist-packages (from tensorflow) (0.4.0)\n",
            "Requirement already satisfied: google-pasta>=0.1.1 in /usr/local/lib/python3.10/dist-packages (from tensorflow) (0.2.0)\n",
            "Requirement already satisfied: grpcio<2.0,>=1.24.3 in /usr/local/lib/python3.10/dist-packages (from tensorflow) (1.57.0)\n",
            "Requirement already satisfied: h5py>=2.9.0 in /usr/local/lib/python3.10/dist-packages (from tensorflow) (3.9.0)\n",
            "Requirement already satisfied: jax>=0.3.15 in /usr/local/lib/python3.10/dist-packages (from tensorflow) (0.4.14)\n",
            "Requirement already satisfied: libclang>=13.0.0 in /usr/local/lib/python3.10/dist-packages (from tensorflow) (16.0.6)\n",
            "Requirement already satisfied: numpy<1.24,>=1.22 in /usr/local/lib/python3.10/dist-packages (from tensorflow) (1.23.5)\n",
            "Requirement already satisfied: opt-einsum>=2.3.2 in /usr/local/lib/python3.10/dist-packages (from tensorflow) (3.3.0)\n",
            "Requirement already satisfied: packaging in /usr/local/lib/python3.10/dist-packages (from tensorflow) (23.1)\n",
            "Requirement already satisfied: protobuf!=4.21.0,!=4.21.1,!=4.21.2,!=4.21.3,!=4.21.4,!=4.21.5,<5.0.0dev,>=3.20.3 in /usr/local/lib/python3.10/dist-packages (from tensorflow) (3.20.3)\n",
            "Requirement already satisfied: setuptools in /usr/local/lib/python3.10/dist-packages (from tensorflow) (67.7.2)\n",
            "Requirement already satisfied: six>=1.12.0 in /usr/local/lib/python3.10/dist-packages (from tensorflow) (1.16.0)\n",
            "Requirement already satisfied: tensorboard<2.13,>=2.12 in /usr/local/lib/python3.10/dist-packages (from tensorflow) (2.12.3)\n",
            "Requirement already satisfied: tensorflow-estimator<2.13,>=2.12.0 in /usr/local/lib/python3.10/dist-packages (from tensorflow) (2.12.0)\n",
            "Requirement already satisfied: termcolor>=1.1.0 in /usr/local/lib/python3.10/dist-packages (from tensorflow) (2.3.0)\n",
            "Requirement already satisfied: typing-extensions>=3.6.6 in /usr/local/lib/python3.10/dist-packages (from tensorflow) (4.7.1)\n",
            "Requirement already satisfied: wrapt<1.15,>=1.11.0 in /usr/local/lib/python3.10/dist-packages (from tensorflow) (1.14.1)\n",
            "Requirement already satisfied: tensorflow-io-gcs-filesystem>=0.23.1 in /usr/local/lib/python3.10/dist-packages (from tensorflow) (0.33.0)\n",
            "Requirement already satisfied: wheel<1.0,>=0.23.0 in /usr/local/lib/python3.10/dist-packages (from astunparse>=1.6.0->tensorflow) (0.41.2)\n",
            "Requirement already satisfied: ml-dtypes>=0.2.0 in /usr/local/lib/python3.10/dist-packages (from jax>=0.3.15->tensorflow) (0.2.0)\n",
            "Requirement already satisfied: scipy>=1.7 in /usr/local/lib/python3.10/dist-packages (from jax>=0.3.15->tensorflow) (1.10.1)\n",
            "Requirement already satisfied: google-auth<3,>=1.6.3 in /usr/local/lib/python3.10/dist-packages (from tensorboard<2.13,>=2.12->tensorflow) (2.17.3)\n",
            "Requirement already satisfied: google-auth-oauthlib<1.1,>=0.5 in /usr/local/lib/python3.10/dist-packages (from tensorboard<2.13,>=2.12->tensorflow) (1.0.0)\n",
            "Requirement already satisfied: markdown>=2.6.8 in /usr/local/lib/python3.10/dist-packages (from tensorboard<2.13,>=2.12->tensorflow) (3.4.4)\n",
            "Requirement already satisfied: requests<3,>=2.21.0 in /usr/local/lib/python3.10/dist-packages (from tensorboard<2.13,>=2.12->tensorflow) (2.31.0)\n",
            "Requirement already satisfied: tensorboard-data-server<0.8.0,>=0.7.0 in /usr/local/lib/python3.10/dist-packages (from tensorboard<2.13,>=2.12->tensorflow) (0.7.1)\n",
            "Requirement already satisfied: werkzeug>=1.0.1 in /usr/local/lib/python3.10/dist-packages (from tensorboard<2.13,>=2.12->tensorflow) (2.3.7)\n",
            "Requirement already satisfied: cachetools<6.0,>=2.0.0 in /usr/local/lib/python3.10/dist-packages (from google-auth<3,>=1.6.3->tensorboard<2.13,>=2.12->tensorflow) (5.3.1)\n",
            "Requirement already satisfied: pyasn1-modules>=0.2.1 in /usr/local/lib/python3.10/dist-packages (from google-auth<3,>=1.6.3->tensorboard<2.13,>=2.12->tensorflow) (0.3.0)\n",
            "Requirement already satisfied: rsa<5,>=3.1.4 in /usr/local/lib/python3.10/dist-packages (from google-auth<3,>=1.6.3->tensorboard<2.13,>=2.12->tensorflow) (4.9)\n",
            "Requirement already satisfied: requests-oauthlib>=0.7.0 in /usr/local/lib/python3.10/dist-packages (from google-auth-oauthlib<1.1,>=0.5->tensorboard<2.13,>=2.12->tensorflow) (1.3.1)\n",
            "Requirement already satisfied: charset-normalizer<4,>=2 in /usr/local/lib/python3.10/dist-packages (from requests<3,>=2.21.0->tensorboard<2.13,>=2.12->tensorflow) (3.2.0)\n",
            "Requirement already satisfied: idna<4,>=2.5 in /usr/local/lib/python3.10/dist-packages (from requests<3,>=2.21.0->tensorboard<2.13,>=2.12->tensorflow) (3.4)\n",
            "Requirement already satisfied: urllib3<3,>=1.21.1 in /usr/local/lib/python3.10/dist-packages (from requests<3,>=2.21.0->tensorboard<2.13,>=2.12->tensorflow) (2.0.4)\n",
            "Requirement already satisfied: certifi>=2017.4.17 in /usr/local/lib/python3.10/dist-packages (from requests<3,>=2.21.0->tensorboard<2.13,>=2.12->tensorflow) (2023.7.22)\n",
            "Requirement already satisfied: MarkupSafe>=2.1.1 in /usr/local/lib/python3.10/dist-packages (from werkzeug>=1.0.1->tensorboard<2.13,>=2.12->tensorflow) (2.1.3)\n",
            "Requirement already satisfied: pyasn1<0.6.0,>=0.4.6 in /usr/local/lib/python3.10/dist-packages (from pyasn1-modules>=0.2.1->google-auth<3,>=1.6.3->tensorboard<2.13,>=2.12->tensorflow) (0.5.0)\n",
            "Requirement already satisfied: oauthlib>=3.0.0 in /usr/local/lib/python3.10/dist-packages (from requests-oauthlib>=0.7.0->google-auth-oauthlib<1.1,>=0.5->tensorboard<2.13,>=2.12->tensorflow) (3.2.2)\n"
          ]
        }
      ],
      "source": [
        "!pip install tensorflow keras"
      ]
    },
    {
      "cell_type": "markdown",
      "metadata": {
        "id": "tDxOiC4By6PK"
      },
      "source": [
        "8. **NLTK y SpaCy**\n",
        "   \n",
        "   NLTK (Natural Lenguage Toolkit) y SpaCy son librerías para el procesamiento del lenguaje natural (NLP). Proporcionan herramientas y bibliotecas de Python para trabajar con datos de texto y realizar tareas como tokenización, etiquetado de partes del discurso, análisis de sentimiento, entre otros."
      ]
    },
    {
      "cell_type": "code",
      "execution_count": 107,
      "metadata": {
        "id": "6aG3fNnFy6PK",
        "outputId": "31e62a74-ab7c-47e8-e439-e0250c2ff371",
        "colab": {
          "base_uri": "https://localhost:8080/"
        }
      },
      "outputs": [
        {
          "output_type": "stream",
          "name": "stdout",
          "text": [
            "Requirement already satisfied: NLTK in /usr/local/lib/python3.10/dist-packages (3.8.1)\n",
            "Requirement already satisfied: spacy in /usr/local/lib/python3.10/dist-packages (3.6.1)\n",
            "Requirement already satisfied: click in /usr/local/lib/python3.10/dist-packages (from NLTK) (8.1.7)\n",
            "Requirement already satisfied: joblib in /usr/local/lib/python3.10/dist-packages (from NLTK) (1.3.2)\n",
            "Requirement already satisfied: regex>=2021.8.3 in /usr/local/lib/python3.10/dist-packages (from NLTK) (2023.6.3)\n",
            "Requirement already satisfied: tqdm in /usr/local/lib/python3.10/dist-packages (from NLTK) (4.66.1)\n",
            "Requirement already satisfied: spacy-legacy<3.1.0,>=3.0.11 in /usr/local/lib/python3.10/dist-packages (from spacy) (3.0.12)\n",
            "Requirement already satisfied: spacy-loggers<2.0.0,>=1.0.0 in /usr/local/lib/python3.10/dist-packages (from spacy) (1.0.4)\n",
            "Requirement already satisfied: murmurhash<1.1.0,>=0.28.0 in /usr/local/lib/python3.10/dist-packages (from spacy) (1.0.9)\n",
            "Requirement already satisfied: cymem<2.1.0,>=2.0.2 in /usr/local/lib/python3.10/dist-packages (from spacy) (2.0.7)\n",
            "Requirement already satisfied: preshed<3.1.0,>=3.0.2 in /usr/local/lib/python3.10/dist-packages (from spacy) (3.0.8)\n",
            "Requirement already satisfied: thinc<8.2.0,>=8.1.8 in /usr/local/lib/python3.10/dist-packages (from spacy) (8.1.12)\n",
            "Requirement already satisfied: wasabi<1.2.0,>=0.9.1 in /usr/local/lib/python3.10/dist-packages (from spacy) (1.1.2)\n",
            "Requirement already satisfied: srsly<3.0.0,>=2.4.3 in /usr/local/lib/python3.10/dist-packages (from spacy) (2.4.7)\n",
            "Requirement already satisfied: catalogue<2.1.0,>=2.0.6 in /usr/local/lib/python3.10/dist-packages (from spacy) (2.0.9)\n",
            "Requirement already satisfied: typer<0.10.0,>=0.3.0 in /usr/local/lib/python3.10/dist-packages (from spacy) (0.9.0)\n",
            "Requirement already satisfied: pathy>=0.10.0 in /usr/local/lib/python3.10/dist-packages (from spacy) (0.10.2)\n",
            "Requirement already satisfied: smart-open<7.0.0,>=5.2.1 in /usr/local/lib/python3.10/dist-packages (from spacy) (6.3.0)\n",
            "Requirement already satisfied: numpy>=1.15.0 in /usr/local/lib/python3.10/dist-packages (from spacy) (1.23.5)\n",
            "Requirement already satisfied: requests<3.0.0,>=2.13.0 in /usr/local/lib/python3.10/dist-packages (from spacy) (2.31.0)\n",
            "Requirement already satisfied: pydantic!=1.8,!=1.8.1,<3.0.0,>=1.7.4 in /usr/local/lib/python3.10/dist-packages (from spacy) (2.2.1)\n",
            "Requirement already satisfied: jinja2 in /usr/local/lib/python3.10/dist-packages (from spacy) (3.1.2)\n",
            "Requirement already satisfied: setuptools in /usr/local/lib/python3.10/dist-packages (from spacy) (67.7.2)\n",
            "Requirement already satisfied: packaging>=20.0 in /usr/local/lib/python3.10/dist-packages (from spacy) (23.1)\n",
            "Requirement already satisfied: langcodes<4.0.0,>=3.2.0 in /usr/local/lib/python3.10/dist-packages (from spacy) (3.3.0)\n",
            "Requirement already satisfied: annotated-types>=0.4.0 in /usr/local/lib/python3.10/dist-packages (from pydantic!=1.8,!=1.8.1,<3.0.0,>=1.7.4->spacy) (0.5.0)\n",
            "Requirement already satisfied: pydantic-core==2.6.1 in /usr/local/lib/python3.10/dist-packages (from pydantic!=1.8,!=1.8.1,<3.0.0,>=1.7.4->spacy) (2.6.1)\n",
            "Requirement already satisfied: typing-extensions>=4.6.1 in /usr/local/lib/python3.10/dist-packages (from pydantic!=1.8,!=1.8.1,<3.0.0,>=1.7.4->spacy) (4.7.1)\n",
            "Requirement already satisfied: charset-normalizer<4,>=2 in /usr/local/lib/python3.10/dist-packages (from requests<3.0.0,>=2.13.0->spacy) (3.2.0)\n",
            "Requirement already satisfied: idna<4,>=2.5 in /usr/local/lib/python3.10/dist-packages (from requests<3.0.0,>=2.13.0->spacy) (3.4)\n",
            "Requirement already satisfied: urllib3<3,>=1.21.1 in /usr/local/lib/python3.10/dist-packages (from requests<3.0.0,>=2.13.0->spacy) (2.0.4)\n",
            "Requirement already satisfied: certifi>=2017.4.17 in /usr/local/lib/python3.10/dist-packages (from requests<3.0.0,>=2.13.0->spacy) (2023.7.22)\n",
            "Requirement already satisfied: blis<0.8.0,>=0.7.8 in /usr/local/lib/python3.10/dist-packages (from thinc<8.2.0,>=8.1.8->spacy) (0.7.10)\n",
            "Requirement already satisfied: confection<1.0.0,>=0.0.1 in /usr/local/lib/python3.10/dist-packages (from thinc<8.2.0,>=8.1.8->spacy) (0.1.1)\n",
            "Requirement already satisfied: MarkupSafe>=2.0 in /usr/local/lib/python3.10/dist-packages (from jinja2->spacy) (2.1.3)\n"
          ]
        }
      ],
      "source": [
        "!pip install NLTK spacy"
      ]
    },
    {
      "cell_type": "markdown",
      "metadata": {
        "id": "Ddbaa8Way6PK"
      },
      "source": [
        "9. **Beautiful Soup y Scrapy**\n",
        "    \n",
        "    Beautiful soup y Scrapy son librerías para el web scarpping. Permiten extraer datos de páginas web y convertirlos en una forma últil y estructurada"
      ]
    },
    {
      "cell_type": "code",
      "execution_count": null,
      "metadata": {
        "id": "gLgXfKaiy6PK",
        "outputId": "80a72086-663a-4fad-b565-c79b39c7af66"
      },
      "outputs": [
        {
          "name": "stdout",
          "output_type": "stream",
          "text": [
            "Defaulting to user installation because normal site-packages is not writeable\n",
            "Requirement already satisfied: beautifulsoup4 in /home/dancastarod/.local/lib/python3.11/site-packages (4.12.2)\n",
            "Requirement already satisfied: scrapy in /home/dancastarod/.local/lib/python3.11/site-packages (2.10.1)\n",
            "Requirement already satisfied: soupsieve>1.2 in /home/dancastarod/.local/lib/python3.11/site-packages (from beautifulsoup4) (2.4.1)\n",
            "Requirement already satisfied: Twisted<23.8.0,>=18.9.0 in /home/dancastarod/.local/lib/python3.11/site-packages (from scrapy) (22.10.0)\n",
            "Requirement already satisfied: cryptography>=36.0.0 in /home/dancastarod/.local/lib/python3.11/site-packages (from scrapy) (41.0.3)\n",
            "Requirement already satisfied: cssselect>=0.9.1 in /home/dancastarod/.local/lib/python3.11/site-packages (from scrapy) (1.2.0)\n",
            "Requirement already satisfied: itemloaders>=1.0.1 in /home/dancastarod/.local/lib/python3.11/site-packages (from scrapy) (1.1.0)\n",
            "Requirement already satisfied: parsel>=1.5.0 in /home/dancastarod/.local/lib/python3.11/site-packages (from scrapy) (1.8.1)\n",
            "Requirement already satisfied: pyOpenSSL>=21.0.0 in /home/dancastarod/.local/lib/python3.11/site-packages (from scrapy) (23.2.0)\n",
            "Requirement already satisfied: queuelib>=1.4.2 in /home/dancastarod/.local/lib/python3.11/site-packages (from scrapy) (1.6.2)\n",
            "Requirement already satisfied: service-identity>=18.1.0 in /home/dancastarod/.local/lib/python3.11/site-packages (from scrapy) (23.1.0)\n",
            "Requirement already satisfied: w3lib>=1.17.0 in /home/dancastarod/.local/lib/python3.11/site-packages (from scrapy) (2.1.2)\n",
            "Requirement already satisfied: zope.interface>=5.1.0 in /home/dancastarod/.local/lib/python3.11/site-packages (from scrapy) (6.0)\n",
            "Requirement already satisfied: protego>=0.1.15 in /home/dancastarod/.local/lib/python3.11/site-packages (from scrapy) (0.3.0)\n",
            "Requirement already satisfied: itemadapter>=0.1.0 in /home/dancastarod/.local/lib/python3.11/site-packages (from scrapy) (0.8.0)\n",
            "Requirement already satisfied: setuptools in /home/dancastarod/.local/lib/python3.11/site-packages (from scrapy) (68.1.2)\n",
            "Requirement already satisfied: packaging in /home/dancastarod/.local/lib/python3.11/site-packages (from scrapy) (23.1)\n",
            "Requirement already satisfied: tldextract in /home/dancastarod/.local/lib/python3.11/site-packages (from scrapy) (3.4.4)\n",
            "Requirement already satisfied: lxml>=4.4.1 in /home/dancastarod/.local/lib/python3.11/site-packages (from scrapy) (4.9.3)\n",
            "Requirement already satisfied: PyDispatcher>=2.0.5 in /home/dancastarod/.local/lib/python3.11/site-packages (from scrapy) (2.0.7)\n",
            "Requirement already satisfied: cffi>=1.12 in /home/dancastarod/.local/lib/python3.11/site-packages (from cryptography>=36.0.0->scrapy) (1.15.1)\n",
            "Requirement already satisfied: jmespath>=0.9.5 in /home/dancastarod/.local/lib/python3.11/site-packages (from itemloaders>=1.0.1->scrapy) (1.0.1)\n",
            "Requirement already satisfied: attrs>=19.1.0 in /home/dancastarod/.local/lib/python3.11/site-packages (from service-identity>=18.1.0->scrapy) (23.1.0)\n",
            "Requirement already satisfied: pyasn1 in /home/dancastarod/.local/lib/python3.11/site-packages (from service-identity>=18.1.0->scrapy) (0.5.0)\n",
            "Requirement already satisfied: pyasn1-modules in /home/dancastarod/.local/lib/python3.11/site-packages (from service-identity>=18.1.0->scrapy) (0.3.0)\n",
            "Requirement already satisfied: constantly>=15.1 in /home/dancastarod/.local/lib/python3.11/site-packages (from Twisted<23.8.0,>=18.9.0->scrapy) (15.1.0)\n",
            "Requirement already satisfied: incremental>=21.3.0 in /home/dancastarod/.local/lib/python3.11/site-packages (from Twisted<23.8.0,>=18.9.0->scrapy) (22.10.0)\n",
            "Requirement already satisfied: Automat>=0.8.0 in /home/dancastarod/.local/lib/python3.11/site-packages (from Twisted<23.8.0,>=18.9.0->scrapy) (22.10.0)\n",
            "Requirement already satisfied: hyperlink>=17.1.1 in /home/dancastarod/.local/lib/python3.11/site-packages (from Twisted<23.8.0,>=18.9.0->scrapy) (21.0.0)\n",
            "Requirement already satisfied: typing-extensions>=3.6.5 in /home/dancastarod/.local/lib/python3.11/site-packages (from Twisted<23.8.0,>=18.9.0->scrapy) (4.7.1)\n",
            "Requirement already satisfied: idna in /home/dancastarod/.local/lib/python3.11/site-packages (from tldextract->scrapy) (3.4)\n",
            "Requirement already satisfied: requests>=2.1.0 in /home/dancastarod/.local/lib/python3.11/site-packages (from tldextract->scrapy) (2.31.0)\n",
            "Requirement already satisfied: requests-file>=1.4 in /home/dancastarod/.local/lib/python3.11/site-packages (from tldextract->scrapy) (1.5.1)\n",
            "Requirement already satisfied: filelock>=3.0.8 in /home/dancastarod/.local/lib/python3.11/site-packages (from tldextract->scrapy) (3.12.3)\n",
            "Requirement already satisfied: six in /home/dancastarod/.local/lib/python3.11/site-packages (from Automat>=0.8.0->Twisted<23.8.0,>=18.9.0->scrapy) (1.16.0)\n",
            "Requirement already satisfied: pycparser in /home/dancastarod/.local/lib/python3.11/site-packages (from cffi>=1.12->cryptography>=36.0.0->scrapy) (2.21)\n",
            "Requirement already satisfied: charset-normalizer<4,>=2 in /home/dancastarod/.local/lib/python3.11/site-packages (from requests>=2.1.0->tldextract->scrapy) (3.2.0)\n",
            "Requirement already satisfied: urllib3<3,>=1.21.1 in /home/dancastarod/.local/lib/python3.11/site-packages (from requests>=2.1.0->tldextract->scrapy) (1.26.16)\n",
            "Requirement already satisfied: certifi>=2017.4.17 in /home/dancastarod/.local/lib/python3.11/site-packages (from requests>=2.1.0->tldextract->scrapy) (2023.7.22)\n"
          ]
        }
      ],
      "source": [
        "!pip install beautifulsoup4 scrapy"
      ]
    },
    {
      "cell_type": "code",
      "source": [
        "!pip install sqlalchemy pyodbc"
      ],
      "metadata": {
        "id": "b5LHkqq1MuzD",
        "outputId": "e088685b-7cf6-48c4-9333-384b0f94d878",
        "colab": {
          "base_uri": "https://localhost:8080/"
        }
      },
      "execution_count": 110,
      "outputs": [
        {
          "output_type": "stream",
          "name": "stdout",
          "text": [
            "Requirement already satisfied: sqlalchemy in /usr/local/lib/python3.10/dist-packages (2.0.20)\n",
            "Collecting pyodbc\n",
            "  Downloading pyodbc-4.0.39-cp310-cp310-manylinux_2_17_x86_64.manylinux2014_x86_64.whl (343 kB)\n",
            "\u001b[2K     \u001b[90m━━━━━━━━━━━━━━━━━━━━━━━━━━━━━━━━━━━━━━━\u001b[0m \u001b[32m343.5/343.5 kB\u001b[0m \u001b[31m3.3 MB/s\u001b[0m eta \u001b[36m0:00:00\u001b[0m\n",
            "\u001b[?25hRequirement already satisfied: typing-extensions>=4.2.0 in /usr/local/lib/python3.10/dist-packages (from sqlalchemy) (4.7.1)\n",
            "Requirement already satisfied: greenlet!=0.4.17 in /usr/local/lib/python3.10/dist-packages (from sqlalchemy) (2.0.2)\n",
            "Installing collected packages: pyodbc\n",
            "Successfully installed pyodbc-4.0.39\n"
          ]
        }
      ]
    }
  ],
  "metadata": {
    "kernelspec": {
      "display_name": "Python 3",
      "language": "python",
      "name": "python3"
    },
    "language_info": {
      "codemirror_mode": {
        "name": "ipython",
        "version": 3
      },
      "file_extension": ".py",
      "mimetype": "text/x-python",
      "name": "python",
      "nbconvert_exporter": "python",
      "pygments_lexer": "ipython3",
      "version": "3.11.4"
    },
    "orig_nbformat": 4,
    "colab": {
      "provenance": []
    }
  },
  "nbformat": 4,
  "nbformat_minor": 0
}