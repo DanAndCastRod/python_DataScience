{
 "cells": [
  {
   "cell_type": "markdown",
   "metadata": {},
   "source": [
    "## Continuación de control de Flujo en python"
   ]
  },
  {
   "cell_type": "markdown",
   "metadata": {},
   "source": [
    "### Funciones"
   ]
  },
  {
   "cell_type": "markdown",
   "metadata": {},
   "source": [
    "Las funciones son bloques de código que se pueden reutilizar y se definen con la palabra clave `def`.\n",
    "\n",
    "Ejemplo:"
   ]
  },
  {
   "cell_type": "code",
   "execution_count": 5,
   "metadata": {},
   "outputs": [],
   "source": [
    "def saludar(nombre):\n",
    "    \"\"\"\n",
    "    En esta sección se agregan las lineas de código que queremos encapsular dentro de la función\n",
    "    \"\"\"\n",
    "    resultado = \"Hola \" + nombre + \"!, Un gusto conocerte\"\n",
    "    return resultado\n",
    "\n"
   ]
  },
  {
   "cell_type": "code",
   "execution_count": 8,
   "metadata": {},
   "outputs": [
    {
     "data": {
      "text/plain": [
       "'Hola José!, Un gusto conocerte'"
      ]
     },
     "execution_count": 8,
     "metadata": {},
     "output_type": "execute_result"
    }
   ],
   "source": [
    "saludar(\"José\")"
   ]
  },
  {
   "cell_type": "markdown",
   "metadata": {},
   "source": [
    "Ejemplo 2:"
   ]
  },
  {
   "cell_type": "code",
   "execution_count": 9,
   "metadata": {},
   "outputs": [],
   "source": [
    "def sumar(parametro1,parametro2):\n",
    "    resultado = parametro1+parametro2\n",
    "    return resultado"
   ]
  },
  {
   "cell_type": "markdown",
   "metadata": {},
   "source": [
    "Podemos llamar la función, simplemente usando su nombre y proporcionando los argumentos necesarios."
   ]
  },
  {
   "cell_type": "code",
   "execution_count": 11,
   "metadata": {},
   "outputs": [
    {
     "data": {
      "text/plain": [
       "5"
      ]
     },
     "execution_count": 11,
     "metadata": {},
     "output_type": "execute_result"
    }
   ],
   "source": [
    "sumar(1,4)"
   ]
  },
  {
   "cell_type": "markdown",
   "metadata": {},
   "source": [
    "Adicionalmente podemos asignar el resultado a una variable y guardarlo para su posterior uso"
   ]
  },
  {
   "cell_type": "code",
   "execution_count": 45,
   "metadata": {},
   "outputs": [
    {
     "data": {
      "text/plain": [
       "18"
      ]
     },
     "execution_count": 45,
     "metadata": {},
     "output_type": "execute_result"
    }
   ],
   "source": [
    "a = 10\n",
    "b = 8\n",
    "s = sumar(a,b)\n",
    "s"
   ]
  },
  {
   "cell_type": "markdown",
   "metadata": {},
   "source": [
    "Las funciones pueden tener argumentos predeterminados, lo que significa que si no se proporciona un valor para ese argumento, se utilizará el valor predeterminado"
   ]
  },
  {
   "cell_type": "code",
   "execution_count": 46,
   "metadata": {},
   "outputs": [],
   "source": [
    "def salu2(nombre, contenido=\"¿Cómo estás?\"):\n",
    "    saludo = \"Hola \" + nombre + \", \" + contenido\n",
    "    return saludo"
   ]
  },
  {
   "cell_type": "code",
   "execution_count": 50,
   "metadata": {},
   "outputs": [
    {
     "name": "stdout",
     "output_type": "stream",
     "text": [
      "Hola Jhon, ¿Cómo estás?\n",
      "Hola Luisa, Un gusto verte\n"
     ]
    }
   ],
   "source": [
    "print(salu2(\"Jhon\"))\n",
    "print(salu2(\"Luisa\",\"Un gusto verte\"))"
   ]
  },
  {
   "cell_type": "markdown",
   "metadata": {},
   "source": [
    "#### Formato de cadenas"
   ]
  },
  {
   "cell_type": "markdown",
   "metadata": {},
   "source": [
    "En python, se cuenta con algunas opciones para dar formato a las cadenas de texto entre ellas se encuentran el formato `% string`, `str.format()`, formato con palabras claves y los formatos literales"
   ]
  },
  {
   "cell_type": "markdown",
   "metadata": {},
   "source": [
    "##### Formato `% string`"
   ]
  },
  {
   "cell_type": "markdown",
   "metadata": {},
   "source": [
    "es una de las manera habituales de formatear cadenas en python utilizando el operador `%`"
   ]
  },
  {
   "cell_type": "code",
   "execution_count": 54,
   "metadata": {},
   "outputs": [
    {
     "name": "stdout",
     "output_type": "stream",
     "text": [
      "Hola mi nombre es Daniel y tengo 26 años\n"
     ]
    }
   ],
   "source": [
    "Saludo = \"Hola mi nombre es %s y tengo %s años\"\n",
    "persona = (\"Daniel\", 26)\n",
    "\n",
    "print(Saludo%persona)"
   ]
  },
  {
   "cell_type": "markdown",
   "metadata": {},
   "source": [
    "Este correspondía al metodo tradicional de formateo de cadenas. Sin embargo en python 3 se introdo el `str.format()` junto con el formato para literales y las plantillas"
   ]
  },
  {
   "cell_type": "markdown",
   "metadata": {},
   "source": [
    "##### Formato de texto con str.format()"
   ]
  },
  {
   "cell_type": "code",
   "execution_count": 57,
   "metadata": {},
   "outputs": [
    {
     "data": {
      "text/plain": [
       "'Mi nombre es Daniel, y tengo 26 años'"
      ]
     },
     "execution_count": 57,
     "metadata": {},
     "output_type": "execute_result"
    }
   ],
   "source": [
    "\"Mi nombre es {}, y tengo {} años\".format(\"Daniel\",26)"
   ]
  },
  {
   "cell_type": "markdown",
   "metadata": {},
   "source": [
    "En la cadena agregamos los marcadores con `{}` donde iran los argumentos junto con dentro del método `.format()`"
   ]
  },
  {
   "cell_type": "markdown",
   "metadata": {},
   "source": [
    "Estos argumentos pueden usarse de forma posicional por lo que podemos agregar el indice de cada argumento para traerlos en otro orden"
   ]
  },
  {
   "cell_type": "code",
   "execution_count": 62,
   "metadata": {},
   "outputs": [
    {
     "data": {
      "text/plain": [
       "'Hola mi nombre es Daniel, y me encanta tocar Piano y Guitarra'"
      ]
     },
     "execution_count": 62,
     "metadata": {},
     "output_type": "execute_result"
    }
   ],
   "source": [
    "\"Hola mi nombre es {0}, y me encanta tocar {2} y {1}\".format(\"Daniel\",\"Guitarra\",\"Piano\")"
   ]
  },
  {
   "cell_type": "markdown",
   "metadata": {},
   "source": [
    "Así como funcionan los argumentos posicionales tambien funcionan los argumentos de **palabras clave**"
   ]
  },
  {
   "cell_type": "code",
   "execution_count": 65,
   "metadata": {},
   "outputs": [
    {
     "data": {
      "text/plain": [
       "'Python es el Mejor lenguaje'"
      ]
     },
     "execution_count": 65,
     "metadata": {},
     "output_type": "execute_result"
    }
   ],
   "source": [
    "\"{lenguaje} es el {adjetivo} lenguaje\".format(lenguaje = \"Python\", adjetivo =\"Mejor\")"
   ]
  },
  {
   "cell_type": "markdown",
   "metadata": {},
   "source": [
    "##### Formatos literales (`f-string`)"
   ]
  },
  {
   "cell_type": "markdown",
   "metadata": {},
   "source": [
    "Los literales de cadenas nos permiten introducir expresiones al interior de una cadena y funcionan introduciendo un `f` o `F` para indicar al programa que debe usar `f-string`"
   ]
  },
  {
   "cell_type": "code",
   "execution_count": 69,
   "metadata": {},
   "outputs": [
    {
     "name": "stdout",
     "output_type": "stream",
     "text": [
      " Hola José, estamos aprendiendo de formatos\n"
     ]
    }
   ],
   "source": [
    "Nombre = \"José\"\n",
    "print(f\" Hola {Nombre}, estamos aprendiendo de formatos\")"
   ]
  },
  {
   "cell_type": "markdown",
   "metadata": {},
   "source": [
    "Con el control de flujo podemos hacer formatos para conjuntos de datos como por ejemplo en diccionarios:"
   ]
  },
  {
   "cell_type": "code",
   "execution_count": 73,
   "metadata": {},
   "outputs": [
    {
     "name": "stdout",
     "output_type": "stream",
     "text": [
      "Estos son los resultados en goles de los equipos en el anterior campeonato\n",
      "El Equipo 1 anotó 20 goles\n",
      "El Equipo 2 anotó 18 goles\n",
      "El Equipo 3 anotó 17 goles\n",
      "El Equipo 4 anotó 15 goles\n"
     ]
    }
   ],
   "source": [
    "Resultados ={\n",
    "    \"Equipo 1\": 20,\n",
    "    \"Equipo 2\": 18,\n",
    "    \"Equipo 3\": 17,\n",
    "    \"Equipo 4\": 15\n",
    "}\n",
    "\n",
    "print(\"Estos son los resultados en goles de los equipos en el anterior campeonato\")\n",
    "for equipo, goles in Resultados.items():\n",
    "    print(f\"El {equipo} anotó {goles} goles\")"
   ]
  }
 ],
 "metadata": {
  "kernelspec": {
   "display_name": "Python 3",
   "language": "python",
   "name": "python3"
  },
  "language_info": {
   "codemirror_mode": {
    "name": "ipython",
    "version": 3
   },
   "file_extension": ".py",
   "mimetype": "text/x-python",
   "name": "python",
   "nbconvert_exporter": "python",
   "pygments_lexer": "ipython3",
   "version": "3.11.4"
  },
  "orig_nbformat": 4
 },
 "nbformat": 4,
 "nbformat_minor": 2
}
