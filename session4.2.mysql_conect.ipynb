{
 "cells": [
  {
   "cell_type": "markdown",
   "metadata": {},
   "source": [
    "## Conecciones con pandas y MySQL\n",
    "\n",
    "Generalmente en las organizaciones los datos se encuentran en Bases de datos que pueden ser estructuradas (MySQL, MariaDB, SQL Server, PostgreSQL, etc) y no estructuradas (MongoDB, Dynamo DB, etc), en la sesion de hoy trabajaremos con Conecciones a MySQL"
   ]
  },
  {
   "cell_type": "markdown",
   "metadata": {},
   "source": [
    "<img src = https://www.scylladb.com/wp-content/uploads/nosql-design-principles-diagram.png>"
   ]
  },
  {
   "cell_type": "code",
   "execution_count": 3,
   "metadata": {},
   "outputs": [
    {
     "name": "stdout",
     "output_type": "stream",
     "text": [
      "Defaulting to user installation because normal site-packages is not writeable\n",
      "Collecting mysql-connector-python\n",
      "  Obtaining dependency information for mysql-connector-python from https://files.pythonhosted.org/packages/55/8e/1270601b42d40c4fb0191fd9043430889510bdbc711c482b12e6f66099e2/mysql_connector_python-8.1.0-cp311-cp311-manylinux_2_17_x86_64.whl.metadata\n",
      "  Downloading mysql_connector_python-8.1.0-cp311-cp311-manylinux_2_17_x86_64.whl.metadata (2.0 kB)\n",
      "Collecting protobuf<=4.21.12,>=4.21.1 (from mysql-connector-python)\n",
      "  Downloading protobuf-4.21.12-cp37-abi3-manylinux2014_x86_64.whl (409 kB)\n",
      "\u001b[2K     \u001b[90m━━━━━━━━━━━━━━━━━━━━━━━━━━━━━━━━━━━━━━━\u001b[0m \u001b[32m409.8/409.8 kB\u001b[0m \u001b[31m6.7 MB/s\u001b[0m eta \u001b[36m0:00:00\u001b[0ma \u001b[36m0:00:01\u001b[0m\n",
      "\u001b[?25hDownloading mysql_connector_python-8.1.0-cp311-cp311-manylinux_2_17_x86_64.whl (27.5 MB)\n",
      "\u001b[2K   \u001b[90m━━━━━━━━━━━━━━━━━━━━━━━━━━━━━━━━━━━━━━━━\u001b[0m \u001b[32m27.5/27.5 MB\u001b[0m \u001b[31m37.5 MB/s\u001b[0m eta \u001b[36m0:00:00\u001b[0m00:01\u001b[0m00:01\u001b[0m\n",
      "\u001b[?25hInstalling collected packages: protobuf, mysql-connector-python\n",
      "  Attempting uninstall: protobuf\n",
      "    Found existing installation: protobuf 4.24.2\n",
      "    Uninstalling protobuf-4.24.2:\n",
      "      Successfully uninstalled protobuf-4.24.2\n",
      "\u001b[31mERROR: pip's dependency resolver does not currently take into account all the packages that are installed. This behaviour is the source of the following dependency conflicts.\n",
      "tensorflow 2.13.0 requires typing-extensions<4.6.0,>=3.6.6, but you have typing-extensions 4.7.1 which is incompatible.\u001b[0m\u001b[31m\n",
      "\u001b[0mSuccessfully installed mysql-connector-python-8.1.0 protobuf-4.21.12\n"
     ]
    }
   ],
   "source": [
    "!pip install mysql-connector-python"
   ]
  },
  {
   "cell_type": "code",
   "execution_count": 14,
   "metadata": {},
   "outputs": [
    {
     "name": "stdout",
     "output_type": "stream",
     "text": [
      "Connected to MySQL server\n"
     ]
    },
    {
     "name": "stderr",
     "output_type": "stream",
     "text": [
      "/tmp/ipykernel_16259/2769882810.py:18: UserWarning: pandas only supports SQLAlchemy connectable (engine/connection) or database string URI or sqlite3 DBAPI2 connection. Other DBAPI2 objects are not tested. Please consider using SQLAlchemy.\n",
      "  df = pd.read_sql(\"SELECT*FROM Ejercicio1\",connection)\n"
     ]
    }
   ],
   "source": [
    "import mysql.connector\n",
    "import pandas as pd\n",
    "# Define the connection string (assuming a typical localhost setup for demonstration)\n",
    "connection_string = {\n",
    "    'user' : 'doadmin',\n",
    "    'password' : 'AVNS_A6UuLOJnpuLq914_QvD',\n",
    "    'host' : 'test-db-python-datascience-gaope-do-user-13295890-0.b.db.ondigitalocean.com',\n",
    "    'port' : 25060,\n",
    "    'database' :'Ejercicio'\n",
    "}\n",
    "\n",
    "# Establish the connection\n",
    "connection = mysql.connector.connect(**connection_string)\n",
    "\n",
    "# Check if connection is established\n",
    "if connection.is_connected():\n",
    "    print(\"Connected to MySQL server\")\n",
    "    df = pd.read_sql(\"SELECT*FROM Ejercicio1\",connection)\n",
    "    connection.close()\n",
    "else:\n",
    "    print(\"Failed to connect\")"
   ]
  },
  {
   "cell_type": "code",
   "execution_count": 17,
   "metadata": {},
   "outputs": [
    {
     "data": {
      "text/html": [
       "<div>\n",
       "<style scoped>\n",
       "    .dataframe tbody tr th:only-of-type {\n",
       "        vertical-align: middle;\n",
       "    }\n",
       "\n",
       "    .dataframe tbody tr th {\n",
       "        vertical-align: top;\n",
       "    }\n",
       "\n",
       "    .dataframe thead th {\n",
       "        text-align: right;\n",
       "    }\n",
       "</style>\n",
       "<table border=\"1\" class=\"dataframe\">\n",
       "  <thead>\n",
       "    <tr style=\"text-align: right;\">\n",
       "      <th></th>\n",
       "      <th>ID_Venta</th>\n",
       "      <th>Categoria</th>\n",
       "      <th>Hora_Dia</th>\n",
       "      <th>Unidades_Vendidas</th>\n",
       "      <th>Ingresos</th>\n",
       "    </tr>\n",
       "  </thead>\n",
       "  <tbody>\n",
       "    <tr>\n",
       "      <th>0</th>\n",
       "      <td>1</td>\n",
       "      <td>Electrónica</td>\n",
       "      <td>Tarde</td>\n",
       "      <td>15</td>\n",
       "      <td>317.000</td>\n",
       "    </tr>\n",
       "    <tr>\n",
       "      <th>1</th>\n",
       "      <td>2</td>\n",
       "      <td>Muebles</td>\n",
       "      <td>Noche</td>\n",
       "      <td>17</td>\n",
       "      <td>441.845</td>\n",
       "    </tr>\n",
       "    <tr>\n",
       "      <th>2</th>\n",
       "      <td>3</td>\n",
       "      <td>Ropa</td>\n",
       "      <td>Mañana</td>\n",
       "      <td>2</td>\n",
       "      <td>397.534</td>\n",
       "    </tr>\n",
       "    <tr>\n",
       "      <th>3</th>\n",
       "      <td>4</td>\n",
       "      <td>Electrónica</td>\n",
       "      <td>Mañana</td>\n",
       "      <td>9</td>\n",
       "      <td>291.439</td>\n",
       "    </tr>\n",
       "    <tr>\n",
       "      <th>4</th>\n",
       "      <td>5</td>\n",
       "      <td>Muebles</td>\n",
       "      <td>Noche</td>\n",
       "      <td>1</td>\n",
       "      <td>370.833</td>\n",
       "    </tr>\n",
       "    <tr>\n",
       "      <th>...</th>\n",
       "      <td>...</td>\n",
       "      <td>...</td>\n",
       "      <td>...</td>\n",
       "      <td>...</td>\n",
       "      <td>...</td>\n",
       "    </tr>\n",
       "    <tr>\n",
       "      <th>95</th>\n",
       "      <td>96</td>\n",
       "      <td>Electrónica</td>\n",
       "      <td>Tarde</td>\n",
       "      <td>7</td>\n",
       "      <td>237.442</td>\n",
       "    </tr>\n",
       "    <tr>\n",
       "      <th>96</th>\n",
       "      <td>97</td>\n",
       "      <td>Alimentos</td>\n",
       "      <td>Tarde</td>\n",
       "      <td>8</td>\n",
       "      <td>415.549</td>\n",
       "    </tr>\n",
       "    <tr>\n",
       "      <th>97</th>\n",
       "      <td>98</td>\n",
       "      <td>Muebles</td>\n",
       "      <td>Mañana</td>\n",
       "      <td>19</td>\n",
       "      <td>264.549</td>\n",
       "    </tr>\n",
       "    <tr>\n",
       "      <th>98</th>\n",
       "      <td>99</td>\n",
       "      <td>Ropa</td>\n",
       "      <td>Mañana</td>\n",
       "      <td>12</td>\n",
       "      <td>243.709</td>\n",
       "    </tr>\n",
       "    <tr>\n",
       "      <th>99</th>\n",
       "      <td>100</td>\n",
       "      <td>Electrónica</td>\n",
       "      <td>Mañana</td>\n",
       "      <td>18</td>\n",
       "      <td>259.800</td>\n",
       "    </tr>\n",
       "  </tbody>\n",
       "</table>\n",
       "<p>100 rows × 5 columns</p>\n",
       "</div>"
      ],
      "text/plain": [
       "    ID_Venta    Categoria Hora_Dia  Unidades_Vendidas  Ingresos\n",
       "0          1  Electrónica    Tarde                 15   317.000\n",
       "1          2      Muebles    Noche                 17   441.845\n",
       "2          3         Ropa   Mañana                  2   397.534\n",
       "3          4  Electrónica   Mañana                  9   291.439\n",
       "4          5      Muebles    Noche                  1   370.833\n",
       "..       ...          ...      ...                ...       ...\n",
       "95        96  Electrónica    Tarde                  7   237.442\n",
       "96        97    Alimentos    Tarde                  8   415.549\n",
       "97        98      Muebles   Mañana                 19   264.549\n",
       "98        99         Ropa   Mañana                 12   243.709\n",
       "99       100  Electrónica   Mañana                 18   259.800\n",
       "\n",
       "[100 rows x 5 columns]"
      ]
     },
     "execution_count": 17,
     "metadata": {},
     "output_type": "execute_result"
    }
   ],
   "source": []
  }
 ],
 "metadata": {
  "kernelspec": {
   "display_name": "Python 3",
   "language": "python",
   "name": "python3"
  },
  "language_info": {
   "codemirror_mode": {
    "name": "ipython",
    "version": 3
   },
   "file_extension": ".py",
   "mimetype": "text/x-python",
   "name": "python",
   "nbconvert_exporter": "python",
   "pygments_lexer": "ipython3",
   "version": "3.11.5"
  },
  "orig_nbformat": 4
 },
 "nbformat": 4,
 "nbformat_minor": 2
}
