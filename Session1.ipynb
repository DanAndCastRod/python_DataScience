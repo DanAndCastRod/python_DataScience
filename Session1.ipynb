{
 "cells": [
  {
   "cell_type": "markdown",
   "metadata": {},
   "source": [
    "# Introducción a Python y su Ecosistema"
   ]
  },
  {
   "cell_type": "markdown",
   "metadata": {},
   "source": [
    "## ¿Qué es Python?\n",
    "\n",
    "Python es un lenguaje de programación de alto nivel, interpretado y orientado a objetos, que es ampliamente utilizado para una variedad de aplicaciones. Es conocido por su simplicidad y legibilidad, lo que lo hace perfecto para principiantes y para prototipos rápidos. Además, Python tiene una amplia gama de librerías y marcos que lo hacen adecuado para proyectos de ciencia de datos, desarrollo web, automatización, entre otros.\n",
    "\n",
    "## Historia de Python\n",
    "\n",
    "Python fue creado por Guido van Rossum y fue lanzado por primera vez en 1991. El nombre \"Python\" proviene del grupo de comediantes británicos \"Monty Python\", del cual Guido era fan. Python ha evolucionado a lo largo de los años y ha tenido varias versiones importantes, siendo la versión 3.x la actualmente recomendada y utilizada.\n",
    "\n",
    "## Filosofía de Python\n",
    "\n",
    "Python se rige por una filosofía que prioriza la legibilidad y la simplicidad del código. Esto se refleja en el \"Zen de Python\", que es una colección de 19 aforismos que capturan la esencia de la filosofía de Python. Algunos de estos aforismos son \"Bello es mejor que feo\", \"Explícito es mejor que implícito\" y \"En la cara de la ambigüedad, rechaza la tentación de adivinar\".\n",
    "\n",
    "## Ecosistema de Python\n",
    "\n",
    "Python tiene un ecosistema vibrante compuesto por una comunidad activa de desarrolladores, una amplia gama de librerías y herramientas de terceros, así como una variedad de marcos y plataformas que facilitan el desarrollo de aplicaciones en diferentes dominios. Algunos de los componentes clave del ecosistema de Python incluyen:\n",
    "\n",
    "- **PIP (Package Installer for Python):** Herramienta que permite instalar y administrar paquetes de Python.\n",
    "- **PyPI (Python Package Index):** Repositorio en línea de paquetes de Python que están disponibles para su instalación.\n",
    "- **Librerías y Marcos:** Python tiene muchas librerías y marcos que amplían sus capacidades en áreas como la ciencia de datos (NumPy, pandas, scikit-learn), desarrollo web (Django, Flask), automatización (Selenium, Automate) y más.\n",
    "- **Entornos Virtuales:** Herramientas como virtualenv y conda permiten crear entornos virtuales para aislar las dependencias de proyectos específicos.\n",
    "- **IDEs (Entornos de Desarrollo Integrado):** Herramientas como PyCharm, Visual Studio Code y Jupyter Notebook ofrecen características avanzadas para el desarrollo en Python.\n",
    "- **Comunidad:** Python cuenta con una comunidad activa y diversa que contribuye con código abierto, organiza eventos y conferencias, y ofrece recursos para aprender y colaborar.\n",
    "\n",
    "En resumen, Python es un lenguaje de programación versátil y poderoso con un ecosistema rico que lo hace adecuado para una amplia variedad de aplicaciones. La combinación de su simplicidad, legibilidad y comunidad activa hacen que Python sea una excelente opción para aprender a programar y para desarrollar proyectos en múltiples dominios."
   ]
  },
  {
   "cell_type": "markdown",
   "metadata": {},
   "source": [
    "# Sintaxis básica de Python"
   ]
  },
  {
   "cell_type": "markdown",
   "metadata": {},
   "source": [
    "## 1. Indentación\n",
    "\n",
    "Python utiliza espacios en blanco (espacios o tabulaciones) para indicar bloques de código. No hay llaves `{}` como en otros lenguajes de programación.\n",
    "\n",
    "## 2. Comentarios\n",
    "\n"
   ]
  },
  {
   "cell_type": "markdown",
   "metadata": {},
   "source": [
    "- Comentarios en una sola línea: "
   ]
  },
  {
   "cell_type": "code",
   "execution_count": null,
   "metadata": {},
   "outputs": [],
   "source": [
    "# Esto es un comentario"
   ]
  },
  {
   "cell_type": "markdown",
   "metadata": {},
   "source": [
    "* Comentarios en multiples líneas:"
   ]
  },
  {
   "cell_type": "code",
   "execution_count": null,
   "metadata": {},
   "outputs": [],
   "source": [
    "'''\n",
    "Este es un comentario\n",
    "que ocupa varias\n",
    "líneas\n",
    "'''"
   ]
  },
  {
   "cell_type": "markdown",
   "metadata": {},
   "source": [
    "## 3. Nombres de variables\n",
    "En Python, los nombres de las variables deben comenzar con una letra o un guion bajo _, seguido de letras, números o guiones bajos. No puede comenzar con un número ni debe contener caracteres especiales."
   ]
  },
  {
   "cell_type": "markdown",
   "metadata": {},
   "source": [
    "# Tipos de Datos en python"
   ]
  },
  {
   "cell_type": "markdown",
   "metadata": {},
   "source": [
    "1. **Entero (`int`)**: Representa a los numeros enteros\n",
    "   \n",
    "    Ejemplo:"
   ]
  },
  {
   "cell_type": "code",
   "execution_count": 1,
   "metadata": {},
   "outputs": [],
   "source": [
    "x = 5\n",
    "y = -2"
   ]
  },
  {
   "cell_type": "markdown",
   "metadata": {},
   "source": [
    "2. **Flotante(`float`)**: Representa a los numero reales\n",
    "\n",
    "    Ejemplo:\n",
    "    "
   ]
  },
  {
   "cell_type": "code",
   "execution_count": 2,
   "metadata": {},
   "outputs": [],
   "source": [
    "a = 5.5\n",
    "b = -3.14"
   ]
  },
  {
   "cell_type": "markdown",
   "metadata": {},
   "source": [
    "3. **Booleano(`bool`):** Representa los valores verdaderos o falsos:\n",
    "   \n",
    "   Ejemplo:\n"
   ]
  },
  {
   "cell_type": "code",
   "execution_count": 3,
   "metadata": {},
   "outputs": [],
   "source": [
    "verdadero = True\n",
    "falso = False"
   ]
  },
  {
   "cell_type": "markdown",
   "metadata": {},
   "source": [
    "4. **Cadena(`str`):** Representa una secuencia de caracteres.\n",
    "   \n",
    "    Ejemplo:"
   ]
  },
  {
   "cell_type": "code",
   "execution_count": 4,
   "metadata": {},
   "outputs": [],
   "source": [
    "saludo = 'Hola'\n",
    "mundo = 'Mundo'"
   ]
  },
  {
   "cell_type": "markdown",
   "metadata": {},
   "source": [
    "5. **Lista(`list`):** Representa una colección ordenada de elementos.\n",
    "    \n",
    "    Ejemplo:\n"
   ]
  },
  {
   "cell_type": "code",
   "execution_count": 5,
   "metadata": {},
   "outputs": [],
   "source": [
    "numeros = [1,2,3]\n",
    "letras = ['a','b','c']"
   ]
  },
  {
   "cell_type": "markdown",
   "metadata": {},
   "source": [
    "6. **Tupla(`tuple`)**:"
   ]
  }
 ],
 "metadata": {
  "kernelspec": {
   "display_name": "Python 3",
   "language": "python",
   "name": "python3"
  },
  "language_info": {
   "codemirror_mode": {
    "name": "ipython",
    "version": 3
   },
   "file_extension": ".py",
   "mimetype": "text/x-python",
   "name": "python",
   "nbconvert_exporter": "python",
   "pygments_lexer": "ipython3",
   "version": "3.8.10"
  },
  "orig_nbformat": 4
 },
 "nbformat": 4,
 "nbformat_minor": 2
}
