{
 "cells": [
  {
   "cell_type": "markdown",
   "metadata": {},
   "source": [
    "# Introducción a Python y su Ecosistema"
   ]
  },
  {
   "cell_type": "markdown",
   "metadata": {},
   "source": [
    "## ¿Qué es Python?\n",
    "\n",
    "Python es un lenguaje de programación de alto nivel, interpretado y orientado a objetos, que es ampliamente utilizado para una variedad de aplicaciones. Es conocido por su simplicidad y legibilidad, lo que lo hace perfecto para principiantes y para prototipos rápidos. Además, Python tiene una amplia gama de librerías y marcos que lo hacen adecuado para proyectos de ciencia de datos, desarrollo web, automatización, entre otros.\n",
    "\n",
    "## Historia de Python\n",
    "\n",
    "Python fue creado por Guido van Rossum y fue lanzado por primera vez en 1991. El nombre \"Python\" proviene del grupo de comediantes británicos \"Monty Python\", del cual Guido era fan. Python ha evolucionado a lo largo de los años y ha tenido varias versiones importantes, siendo la versión 3.x la actualmente recomendada y utilizada.\n",
    "\n",
    "## Filosofía de Python\n",
    "\n",
    "Python se rige por una filosofía que prioriza la legibilidad y la simplicidad del código. Esto se refleja en el \"Zen de Python\", que es una colección de 19 aforismos que capturan la esencia de la filosofía de Python. Algunos de estos aforismos son \"Bello es mejor que feo\", \"Explícito es mejor que implícito\" y \"En la cara de la ambigüedad, rechaza la tentación de adivinar\".\n",
    "\n",
    "## Ecosistema de Python\n",
    "\n",
    "Python tiene un ecosistema vibrante compuesto por una comunidad activa de desarrolladores, una amplia gama de librerías y herramientas de terceros, así como una variedad de marcos y plataformas que facilitan el desarrollo de aplicaciones en diferentes dominios. Algunos de los componentes clave del ecosistema de Python incluyen:\n",
    "\n",
    "- **PIP (Package Installer for Python):** Herramienta que permite instalar y administrar paquetes de Python.\n",
    "- **PyPI (Python Package Index):** Repositorio en línea de paquetes de Python que están disponibles para su instalación.\n",
    "- **Librerías y Marcos:** Python tiene muchas librerías y marcos que amplían sus capacidades en áreas como la ciencia de datos (NumPy, pandas, scikit-learn), desarrollo web (Django, Flask), automatización (Selenium, Automate) y más.\n",
    "- **Entornos Virtuales:** Herramientas como virtualenv y conda permiten crear entornos virtuales para aislar las dependencias de proyectos específicos.\n",
    "- **IDEs (Entornos de Desarrollo Integrado):** Herramientas como PyCharm, Visual Studio Code y Jupyter Notebook ofrecen características avanzadas para el desarrollo en Python.\n",
    "- **Comunidad:** Python cuenta con una comunidad activa y diversa que contribuye con código abierto, organiza eventos y conferencias, y ofrece recursos para aprender y colaborar.\n",
    "\n",
    "En resumen, Python es un lenguaje de programación versátil y poderoso con un ecosistema rico que lo hace adecuado para una amplia variedad de aplicaciones. La combinación de su simplicidad, legibilidad y comunidad activa hacen que Python sea una excelente opción para aprender a programar y para desarrollar proyectos en múltiples dominios."
   ]
  },
  {
   "cell_type": "markdown",
   "metadata": {},
   "source": [
    "# Sintaxis básica de Python"
   ]
  },
  {
   "cell_type": "markdown",
   "metadata": {},
   "source": [
    "## 1. Indentación\n",
    "\n",
    "Python utiliza espacios en blanco (espacios o tabulaciones) para indicar bloques de código. No hay llaves `{}` como en otros lenguajes de programación.\n",
    "\n",
    "## 2. Comentarios\n",
    "\n"
   ]
  },
  {
   "cell_type": "markdown",
   "metadata": {},
   "source": [
    "- Comentarios en una sola línea: "
   ]
  },
  {
   "cell_type": "code",
   "execution_count": 19,
   "metadata": {},
   "outputs": [
    {
     "name": "stdout",
     "output_type": "stream",
     "text": [
      "1\n"
     ]
    }
   ],
   "source": [
    "# Esto es un comentario\n"
   ]
  },
  {
   "cell_type": "markdown",
   "metadata": {},
   "source": [
    "* Comentarios en multiples líneas:"
   ]
  },
  {
   "cell_type": "code",
   "execution_count": 21,
   "metadata": {},
   "outputs": [],
   "source": [
    "'''\n",
    "Este es un comentario\n",
    "que ocupa varias\n",
    "líneas\n",
    "'''\n",
    "\n",
    "A = 1"
   ]
  },
  {
   "cell_type": "markdown",
   "metadata": {},
   "source": [
    "## 3. Nombres de variables\n",
    "En Python, los nombres de las variables deben comenzar con una letra o un guion bajo _, seguido de letras, números o guiones bajos. No puede comenzar con un número ni debe contener caracteres especiales."
   ]
  },
  {
   "cell_type": "markdown",
   "metadata": {},
   "source": [
    "# Tipos de Datos en python"
   ]
  },
  {
   "cell_type": "markdown",
   "metadata": {},
   "source": [
    "1. **Entero (`int`)**: Representa a los numeros enteros\n",
    "   \n",
    "    Ejemplo:"
   ]
  },
  {
   "cell_type": "code",
   "execution_count": 27,
   "metadata": {},
   "outputs": [],
   "source": [
    "x = 5\n",
    "y = -2"
   ]
  },
  {
   "cell_type": "markdown",
   "metadata": {},
   "source": [
    "2. **Flotante(`float`)**: Representa a los numero reales\n",
    "\n",
    "    Ejemplo:\n",
    "    "
   ]
  },
  {
   "cell_type": "code",
   "execution_count": 2,
   "metadata": {},
   "outputs": [],
   "source": [
    "a = 5.5\n",
    "b = -3.14"
   ]
  },
  {
   "cell_type": "markdown",
   "metadata": {},
   "source": [
    "3. **Booleano(`bool`):** Representa los valores verdaderos o falsos:\n",
    "   \n",
    "   Ejemplo:\n"
   ]
  },
  {
   "cell_type": "code",
   "execution_count": 30,
   "metadata": {},
   "outputs": [
    {
     "data": {
      "text/plain": [
       "0"
      ]
     },
     "execution_count": 30,
     "metadata": {},
     "output_type": "execute_result"
    }
   ],
   "source": [
    "verdadero = True\n",
    "falso = False"
   ]
  },
  {
   "cell_type": "markdown",
   "metadata": {},
   "source": [
    "4. **Cadena(`str`):** Representa una secuencia de caracteres.\n",
    "   \n",
    "    Ejemplo:"
   ]
  },
  {
   "cell_type": "code",
   "execution_count": 58,
   "metadata": {},
   "outputs": [
    {
     "data": {
      "text/plain": [
       "5"
      ]
     },
     "execution_count": 58,
     "metadata": {},
     "output_type": "execute_result"
    }
   ],
   "source": [
    "saludo = 'Hola'\n",
    "mundo = 'Mundo'"
   ]
  },
  {
   "cell_type": "markdown",
   "metadata": {},
   "source": [
    "5. **Lista(`list`):** Representa una colección ordenada de elementos.\n",
    "    \n",
    "    Ejemplo:\n"
   ]
  },
  {
   "cell_type": "code",
   "execution_count": 37,
   "metadata": {},
   "outputs": [
    {
     "data": {
      "text/plain": [
       "[1, 5, 3]"
      ]
     },
     "execution_count": 37,
     "metadata": {},
     "output_type": "execute_result"
    }
   ],
   "source": [
    "numeros = [1,2,3]\n",
    "letras = ['a','b','c']"
   ]
  },
  {
   "cell_type": "markdown",
   "metadata": {},
   "source": [
    "6. **Tupla(`tuple`):** Representa una colección ordenada e **inmutable** de elementos\n",
    "\n",
    "    Ejemplo:"
   ]
  },
  {
   "cell_type": "code",
   "execution_count": 59,
   "metadata": {},
   "outputs": [],
   "source": [
    "valores = (1,2,3)"
   ]
  },
  {
   "cell_type": "markdown",
   "metadata": {},
   "source": [
    "7. **Diccionario(`dict`):** Representa una colección no ordenada de pares clave-valor.\n",
    "\n",
    "    Ejemplo:"
   ]
  },
  {
   "cell_type": "code",
   "execution_count": 57,
   "metadata": {},
   "outputs": [
    {
     "data": {
      "text/plain": [
       "2"
      ]
     },
     "execution_count": 57,
     "metadata": {},
     "output_type": "execute_result"
    }
   ],
   "source": [
    "persona = {'nombres': {\"nombre1\":\"juan\",\"nombre2\":\"Ricardo\"}, 'edad':30}\n",
    "len(persona['nombres'])"
   ]
  },
  {
   "cell_type": "markdown",
   "metadata": {},
   "source": [
    "8. **Conjunto(`set`):** Representa una colección no ordenada y sin elementos repetidos\n",
    "\n",
    "    Ejemplo:"
   ]
  },
  {
   "cell_type": "code",
   "execution_count": 43,
   "metadata": {},
   "outputs": [
    {
     "data": {
      "text/plain": [
       "{1, 2, 3, 4}"
      ]
     },
     "execution_count": 43,
     "metadata": {},
     "output_type": "execute_result"
    }
   ],
   "source": [
    "unicos = {1,2,3,3,1,4,2}"
   ]
  },
  {
   "cell_type": "markdown",
   "metadata": {},
   "source": [
    "# Operadores en Python"
   ]
  },
  {
   "cell_type": "markdown",
   "metadata": {},
   "source": [
    "### 1. Operadores aritméticos"
   ]
  },
  {
   "cell_type": "markdown",
   "metadata": {},
   "source": [
    "* Suma `+`\n",
    "* Resta `-`\n",
    "* Multiplicación `*`\n",
    "* División `/`\n",
    "* División entera `//`\n",
    "* Módulo `%`\n",
    "* Potenciación `**`"
   ]
  },
  {
   "cell_type": "code",
   "execution_count": 66,
   "metadata": {},
   "outputs": [
    {
     "name": "stdout",
     "output_type": "stream",
     "text": [
      "5 2\n",
      "división entera: 2\n",
      "modulo: 1\n"
     ]
    },
    {
     "data": {
      "text/plain": [
       "8"
      ]
     },
     "execution_count": 66,
     "metadata": {},
     "output_type": "execute_result"
    }
   ],
   "source": [
    "x = 5\n",
    "y = 2\n",
    "print(x,y)\n",
    "z = x // y\n",
    "print(\"división entera:\",z)\n",
    "print(\"modulo:\",x % y)\n",
    "\n",
    "2**3"
   ]
  },
  {
   "cell_type": "markdown",
   "metadata": {},
   "source": [
    "### 2. Operadores de comparación\n"
   ]
  },
  {
   "cell_type": "markdown",
   "metadata": {},
   "source": [
    "* Igualdad `==`\n",
    "* Desigualdad `!=`\n",
    "* Menor que `<`\n",
    "* Menor o Igual que `<=`\n",
    "* Mayor que `>`\n",
    "* Mayor o Igual que `>=`"
   ]
  },
  {
   "cell_type": "code",
   "execution_count": 75,
   "metadata": {},
   "outputs": [
    {
     "data": {
      "text/plain": [
       "False"
      ]
     },
     "execution_count": 75,
     "metadata": {},
     "output_type": "execute_result"
    }
   ],
   "source": [
    "y = ''\n",
    "x == y"
   ]
  },
  {
   "cell_type": "markdown",
   "metadata": {},
   "source": [
    "### 3. Operadores lógicos"
   ]
  },
  {
   "cell_type": "markdown",
   "metadata": {},
   "source": [
    "* Y lógico `and`\n",
    "* O lógico `or`\n",
    "* No lógico `not`"
   ]
  },
  {
   "cell_type": "code",
   "execution_count": 77,
   "metadata": {},
   "outputs": [
    {
     "data": {
      "text/plain": [
       "False"
      ]
     },
     "execution_count": 77,
     "metadata": {},
     "output_type": "execute_result"
    }
   ],
   "source": [
    "y = 0\n",
    "(x > 2) and (y > 4) or (x < 3)"
   ]
  },
  {
   "cell_type": "markdown",
   "metadata": {},
   "source": [
    "### 4. Operadores de asignación"
   ]
  },
  {
   "cell_type": "markdown",
   "metadata": {},
   "source": [
    "* Asignación `=`\n",
    "* Suma y asignación `+=`\n",
    "* Resta y asignación `-=`\n",
    "* Multiplicación y asignación `*=`\n",
    "* División y asignación `/=`\n",
    "* Modulo y asginación `%=`\n",
    "* Potenciación y asignación `**=` \n"
   ]
  },
  {
   "cell_type": "code",
   "execution_count": 86,
   "metadata": {},
   "outputs": [
    {
     "name": "stdout",
     "output_type": "stream",
     "text": [
      "10\n"
     ]
    }
   ],
   "source": [
    "print(x + 1)\n",
    "y = ''\n",
    "x = x + 1\n",
    "x += 1\n",
    "y+= 'texto'"
   ]
  },
  {
   "cell_type": "code",
   "execution_count": 88,
   "metadata": {},
   "outputs": [],
   "source": [
    "y += ' texto2'"
   ]
  },
  {
   "cell_type": "code",
   "execution_count": 89,
   "metadata": {},
   "outputs": [
    {
     "data": {
      "text/plain": [
       "'texto texto2'"
      ]
     },
     "execution_count": 89,
     "metadata": {},
     "output_type": "execute_result"
    }
   ],
   "source": [
    "y"
   ]
  },
  {
   "cell_type": "markdown",
   "metadata": {},
   "source": [
    "### 5. Operadores de identidad"
   ]
  },
  {
   "cell_type": "markdown",
   "metadata": {},
   "source": [
    "* Es `is`\n",
    "* No es `is not`"
   ]
  },
  {
   "cell_type": "code",
   "execution_count": 93,
   "metadata": {},
   "outputs": [
    {
     "data": {
      "text/plain": [
       "1.0"
      ]
     },
     "execution_count": 93,
     "metadata": {},
     "output_type": "execute_result"
    }
   ],
   "source": [
    "x is y\n",
    "x1 = 1/1\n",
    "x2 = 1\n",
    "\n",
    "x1 is x2\n",
    "x1"
   ]
  },
  {
   "cell_type": "code",
   "execution_count": 94,
   "metadata": {},
   "outputs": [
    {
     "data": {
      "text/plain": [
       "True"
      ]
     },
     "execution_count": 94,
     "metadata": {},
     "output_type": "execute_result"
    }
   ],
   "source": [
    "x1 == x2"
   ]
  },
  {
   "cell_type": "markdown",
   "metadata": {},
   "source": [
    "### 6. Operadores de membresía"
   ]
  },
  {
   "cell_type": "markdown",
   "metadata": {},
   "source": [
    "* Está en `in`\n",
    "* No está en `not in`"
   ]
  },
  {
   "cell_type": "code",
   "execution_count": 97,
   "metadata": {},
   "outputs": [
    {
     "data": {
      "text/plain": [
       "True"
      ]
     },
     "execution_count": 97,
     "metadata": {},
     "output_type": "execute_result"
    }
   ],
   "source": [
    "lista = [1, 2, 3, 4, 5]\n",
    "1 in lista\n",
    "\n",
    "textos = ['casa','carro','perro']\n",
    "\n",
    "'perro' in textos"
   ]
  },
  {
   "cell_type": "code",
   "execution_count": 98,
   "metadata": {},
   "outputs": [
    {
     "data": {
      "text/plain": [
       "True"
      ]
     },
     "execution_count": 98,
     "metadata": {},
     "output_type": "execute_result"
    }
   ],
   "source": [
    "'r' in 'perro'"
   ]
  },
  {
   "cell_type": "markdown",
   "metadata": {},
   "source": [
    "# Control de flujo"
   ]
  },
  {
   "cell_type": "markdown",
   "metadata": {},
   "source": [
    "### 1. Condicionales"
   ]
  },
  {
   "cell_type": "markdown",
   "metadata": {},
   "source": [
    "En python, los condicionales se utilizan para tomar decisiones en el código. La sintaxis básica es la siguiente:"
   ]
  },
  {
   "cell_type": "code",
   "execution_count": 1,
   "metadata": {},
   "outputs": [
    {
     "name": "stdout",
     "output_type": "stream",
     "text": [
      "Guau!\n"
     ]
    }
   ],
   "source": [
    "Animal = \"Perro\"\n",
    "\n",
    "if Animal == \"Gato\":\n",
    "    print(\"Miau!\")\n",
    "elif Animal == \"Perro\":\n",
    "    print(\"Guau!\")\n",
    "else:\n",
    "    print(\"Cuack!\")"
   ]
  },
  {
   "cell_type": "markdown",
   "metadata": {},
   "source": [
    "El código que acabamos de ver funciona con las instrucciones `if`, `elif` y `else` Intentando evaluar varios casos de asignación a la misma variable, cuando se quiere evaluar muchos casos para la misma variable lo mejor es usar las `match` y `case` de la siguiente manera. "
   ]
  },
  {
   "cell_type": "code",
   "execution_count": 4,
   "metadata": {},
   "outputs": [
    {
     "name": "stdout",
     "output_type": "stream",
     "text": [
      "Miau!\n"
     ]
    }
   ],
   "source": [
    "Animal = \"Gato\"\n",
    "match Animal:\n",
    "    case \"Gato\":\n",
    "        print(\"Miau!\")\n",
    "    case \"Perro\":\n",
    "        print(\"Guau!\")\n",
    "    case _:\n",
    "        print(\"Cuack\")"
   ]
  },
  {
   "cell_type": "markdown",
   "metadata": {},
   "source": [
    "**PD:** Cabe aclara que las instrucciones `match` y `case` solo existen a partir de la versión `Python 3.10.x` por lo que es probable que en versiones de kernel anterior no funcione correctamente."
   ]
  },
  {
   "cell_type": "markdown",
   "metadata": {},
   "source": [
    "### 2. Bucles"
   ]
  },
  {
   "cell_type": "markdown",
   "metadata": {},
   "source": [
    "En python hay dos tipos principales de bucles: `for` y `while`"
   ]
  },
  {
   "cell_type": "markdown",
   "metadata": {},
   "source": [
    "* Bucle `for`"
   ]
  },
  {
   "cell_type": "code",
   "execution_count": 5,
   "metadata": {},
   "outputs": [
    {
     "data": {
      "text/plain": [
       "[(1, ':', '0'),\n",
       " ('23', ':', 12),\n",
       " (4, ':', 302),\n",
       " (5, ':', 32),\n",
       " (6, ':', 10),\n",
       " (75, ':', 45),\n",
       " (4, ':', 5),\n",
       " (3, ':', 0),\n",
       " (2, ':', 1),\n",
       " (1, ':', 0)]"
      ]
     },
     "execution_count": 5,
     "metadata": {},
     "output_type": "execute_result"
    }
   ],
   "source": [
    "Lista = [1,\"23\",4,5,6,75,4,3,2,1]\n",
    "Lista2 = [\"0\",12,302,32,10,45,5,0,1,0]\n",
    "Lista3 = []\n",
    "for i,j in enumerate(Lista):\n",
    "    Lista3.append((j,\":\",Lista2[i]))\n",
    "\n",
    "# comprehension\n",
    "Lista3 = [(j,\":\",Lista2[i]) for i,j in enumerate(Lista)] \n",
    "Lista3"
   ]
  },
  {
   "cell_type": "markdown",
   "metadata": {},
   "source": [
    "* Bucle `while`: Ejecuta código mientras la condición sea verdadera."
   ]
  },
  {
   "cell_type": "code",
   "execution_count": 6,
   "metadata": {},
   "outputs": [
    {
     "name": "stdout",
     "output_type": "stream",
     "text": [
      "5\n",
      "5\n",
      "5\n",
      "5\n",
      "5\n",
      "5\n",
      "5\n",
      "5\n",
      "5\n",
      "5\n"
     ]
    }
   ],
   "source": [
    "j = 10\n",
    "k = 5\n",
    "l = 15\n",
    "while j > k: #condición a evaluar\n",
    "    print(k)\n",
    "    l -=1\n",
    "    if l == k: # otra condición del flujo\n",
    "        break \n",
    "    "
   ]
  }
 ],
 "metadata": {
  "kernelspec": {
   "display_name": "Python 3",
   "language": "python",
   "name": "python3"
  },
  "language_info": {
   "codemirror_mode": {
    "name": "ipython",
    "version": 3
   },
   "file_extension": ".py",
   "mimetype": "text/x-python",
   "name": "python",
   "nbconvert_exporter": "python",
   "pygments_lexer": "ipython3",
   "version": "3.11.4"
  },
  "orig_nbformat": 4
 },
 "nbformat": 4,
 "nbformat_minor": 2
}
