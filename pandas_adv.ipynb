{
 "cells": [
  {
   "cell_type": "markdown",
   "metadata": {},
   "source": [
    "## Analisis temporal"
   ]
  },
  {
   "cell_type": "code",
   "execution_count": 2,
   "metadata": {},
   "outputs": [],
   "source": [
    "import pandas as pd"
   ]
  },
  {
   "cell_type": "markdown",
   "metadata": {},
   "source": [
    "* **Conversión de fechas**: Pandas permite convertir cadenas de texto a objetos de tiempo con facilidad.\n",
    "\n",
    "* **Resampling**: Cambiar la frecuencia de tus datos de tiempo."
   ]
  },
  {
   "cell_type": "code",
   "execution_count": 3,
   "metadata": {},
   "outputs": [],
   "source": [
    "# Conversión de fechas\n",
    "df = pd.DataFrame({'date': ['2021-01-01', '2021-01-02', '2021-01-03'], 'value': [1, 2, 3]})\n",
    "df['date'] = pd.to_datetime(df['date'])\n",
    "\n",
    "# Resampling\n",
    "df.set_index('date', inplace=True)\n",
    "df_resampled = df.resample('M').sum()  # Suma mensual"
   ]
  },
  {
   "cell_type": "markdown",
   "metadata": {},
   "source": [
    "## Operaciones con texto"
   ]
  },
  {
   "cell_type": "markdown",
   "metadata": {},
   "source": [
    "* Split: Dividir una columna de texto en varias columnas.\n",
    "\n",
    "* Replace: Reemplazar texto en una columna."
   ]
  },
  {
   "cell_type": "code",
   "execution_count": 7,
   "metadata": {},
   "outputs": [],
   "source": [
    "# Split\n",
    "df = pd.DataFrame({'name': ['John Smith', 'Jane Doe']})\n",
    "df[['first_name', 'last_name']] = df['name'].str.split(' ', expand=True)\n",
    "\n",
    "# Replace\n",
    "df['first_name'] = df['first_name'].str.replace('John', 'Jon')"
   ]
  },
  {
   "cell_type": "markdown",
   "metadata": {},
   "source": [
    "## Fusión y Combinación"
   ]
  },
  {
   "cell_type": "markdown",
   "metadata": {},
   "source": [
    "\n",
    "* Merge: Combinar dos DataFrames basados en una columna en común.\n",
    "\n",
    "* Concat: Concatenar dos DataFrames vertical u horizontalmente.\n",
    "\n",
    "* Join: Realizar joins tipo SQL en DataFrames."
   ]
  },
  {
   "cell_type": "code",
   "execution_count": 16,
   "metadata": {},
   "outputs": [],
   "source": [
    "# Merge\n",
    "df1 = pd.DataFrame({'key': ['A', 'B'], 'value1': [1, 2]})\n",
    "df2 = pd.DataFrame({'key': ['A', 'B'], 'value2': [3, 4]})\n",
    "merged_df = pd.merge(df1, df2, on='key')\n",
    "\n",
    "# Concat\n",
    "concat_df = pd.concat([df1, df2], axis=0)\n"
   ]
  },
  {
   "cell_type": "markdown",
   "metadata": {},
   "source": [
    "## Manipulación de Índices"
   ]
  },
  {
   "cell_type": "markdown",
   "metadata": {},
   "source": [
    "\n",
    "* Set Index: Establecer una columna como índice.\n",
    "\n",
    "* Reset Index: Restablecer el índice del DataFrame.\n",
    "\n",
    "* Multi-Index: Usar múltiples niveles de índice."
   ]
  },
  {
   "cell_type": "code",
   "execution_count": 14,
   "metadata": {},
   "outputs": [
    {
     "data": {
      "text/html": [
       "<div>\n",
       "<style scoped>\n",
       "    .dataframe tbody tr th:only-of-type {\n",
       "        vertical-align: middle;\n",
       "    }\n",
       "\n",
       "    .dataframe tbody tr th {\n",
       "        vertical-align: top;\n",
       "    }\n",
       "\n",
       "    .dataframe thead th {\n",
       "        text-align: right;\n",
       "    }\n",
       "</style>\n",
       "<table border=\"1\" class=\"dataframe\">\n",
       "  <thead>\n",
       "    <tr style=\"text-align: right;\">\n",
       "      <th></th>\n",
       "      <th>value1</th>\n",
       "    </tr>\n",
       "    <tr>\n",
       "      <th>key</th>\n",
       "      <th></th>\n",
       "    </tr>\n",
       "  </thead>\n",
       "  <tbody>\n",
       "    <tr>\n",
       "      <th>A</th>\n",
       "      <td>1</td>\n",
       "    </tr>\n",
       "    <tr>\n",
       "      <th>B</th>\n",
       "      <td>2</td>\n",
       "    </tr>\n",
       "  </tbody>\n",
       "</table>\n",
       "</div>"
      ],
      "text/plain": [
       "     value1\n",
       "key        \n",
       "A         1\n",
       "B         2"
      ]
     },
     "execution_count": 14,
     "metadata": {},
     "output_type": "execute_result"
    }
   ],
   "source": [
    "# Set Index\n",
    "df1.set_index('key', inplace=True)\n",
    "\n",
    "# Reset Index\n",
    "df.reset_index(inplace=True)"
   ]
  },
  {
   "cell_type": "markdown",
   "metadata": {},
   "source": [
    "## Transformación de Datos\n"
   ]
  },
  {
   "cell_type": "markdown",
   "metadata": {},
   "source": [
    "* Map y Apply: Aplicar funciones a elementos o columnas del DataFrame.\n",
    "\n",
    "* Pivot Tables: Crear tablas dinámicas."
   ]
  },
  {
   "cell_type": "code",
   "execution_count": null,
   "metadata": {},
   "outputs": [],
   "source": [
    "# Map y Apply\n",
    "df['value1_squared'] = df['value1'].map(lambda x: x ** 2)\n",
    "df['value1_doubled'] = df['value1'].apply(lambda x: x * 2)\n",
    "\n",
    "# Pivot Tables\n",
    "pivot_df = pd.pivot_table(df, values='value1', columns='key')\n"
   ]
  },
  {
   "cell_type": "markdown",
   "metadata": {},
   "source": [
    "## Visualización"
   ]
  },
  {
   "cell_type": "markdown",
   "metadata": {},
   "source": [
    "\n",
    "Pandas tiene integración con Matplotlib, permitiéndote visualizar tus DataFrames con facilidad."
   ]
  },
  {
   "cell_type": "code",
   "execution_count": 21,
   "metadata": {},
   "outputs": [
    {
     "data": {
      "text/plain": [
       "<Axes: xlabel='key'>"
      ]
     },
     "execution_count": 21,
     "metadata": {},
     "output_type": "execute_result"
    },
    {
     "data": {
      "image/png": "[encoded data removed]",
      "text/plain": [
       "<Figure size 640x480 with 1 Axes>"
      ]
     },
     "metadata": {},
     "output_type": "display_data"
    }
   ],
   "source": [
    "# Usando Pandas para visualizar\n",
    "df1.plot(kind='bar', x='key', y='value1')\n"
   ]
  },
  {
   "cell_type": "markdown",
   "metadata": {},
   "source": [
    "## Estadísticas Avanzadas"
   ]
  },
  {
   "cell_type": "markdown",
   "metadata": {},
   "source": [
    "\n",
    "Correlación: Encontrar la correlación entre las columnas.\n",
    "\n",
    "Covarianza: Calcular la covarianza entre las columnas."
   ]
  },
  {
   "cell_type": "code",
   "execution_count": null,
   "metadata": {},
   "outputs": [],
   "source": [
    "# Correlación\n",
    "correlation = df.corr()\n",
    "\n",
    "# Covarianza\n",
    "covariance = df.cov()\n"
   ]
  }
 ],
 "metadata": {
  "kernelspec": {
   "display_name": "Python 3",
   "language": "python",
   "name": "python3"
  },
  "language_info": {
   "codemirror_mode": {
    "name": "ipython",
    "version": 3
   },
   "file_extension": ".py",
   "mimetype": "text/x-python",
   "name": "python",
   "nbconvert_exporter": "python",
   "pygments_lexer": "ipython3",
   "version": "3.11.5"
  },
  "orig_nbformat": 4
 },
 "nbformat": 4,
 "nbformat_minor": 2
}
