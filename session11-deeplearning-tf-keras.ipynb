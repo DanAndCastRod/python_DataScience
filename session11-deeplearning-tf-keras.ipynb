{
 "cells": [
  {
   "cell_type": "markdown",
   "metadata": {},
   "source": [
    "# Introducción al Deep Learning con tensorflow y keras"
   ]
  },
  {
   "cell_type": "markdown",
   "metadata": {},
   "source": [
    "El deep learning es una rama del aprendizaje automático que utiliza redes neuronales artificiales para parender grandes cantidades de datos. Estas redes neuronales se inspiran en el funcionamiento del cerebro humano y pueden realizar tareas complejas como reconocimiento de imagénes, procesamineto de lenguaje natural o generación de contenido. El deep learning se basa en el aprendizaje no supervisado, es decir, que no necesita datos etiquetados para entrenarse, sino que extrae las características relevantes de forma automática. Algunos ejemplos de aplicaciones de deep learning son los asistentes virtuales, los coches autonomos o la detección de enfermedades."
   ]
  },
  {
   "cell_type": "markdown",
   "metadata": {},
   "source": [
    "## Objetivos\n",
    "1. **Entender los fundamentos del deeplearning:** Comprensión de los conceptos básicos y la teoría detrás de las redes neuronales profundas incluyendo la arquitectura de las redes, funciones de activación y proceso de entrenamiento y backpropagation.\n",
    "2. **Desarrollar Habilidades Prácticas con TensorFlow y Keras:** Implementar, entrenar y evaluar modelos de deep learning utilizando las bibliotecas de TensorFlow y Keras.\n",
    "3. **Experimentar con el ajuste de modelos:** Aprender a ajustar hiperparámetros y mejorar el rendimiento de los modelos de deep learning, así como a implementar técnicas para evitar el overfitting.\n",
    "4. **Analizar y Visualizar los Resultados:** Desarrollar la capacidad de interpretar los resultados  obtenidos a trabés del entrenamiento de modelos, utilizando herramientas como Tensor Board y otras técnicas de visualización."
   ]
  },
  {
   "cell_type": "markdown",
   "metadata": {},
   "source": [
    "## ¿Qué es el Deep Learning?\n",
    "El Deep Learning es un subcampo del Machine Learning que se centra en algoritmos inspirados en la estructura y función del cerebro llamados redes neuronales artificiales. En esencia, el Deep Learning utiliza una composición de múltiples capas de unidades de procesamiento neuronal, que pueden aprender represantaciones de datos con múltiples niveles de abstracción. Estas técnicas han llevado a avance significativos en tareas de reconocimineto de voz, visión por computadora, procesamiento del lenguaje natural y audio, entre otros.\n",
    "\n",
    "El término \"Deep\" en Deep Learning se refiere a la cantidad de capas a través de las cuales pasa la información en una red neuronal. Cuanto más profunda es la red (es decir, más capas), más compleja puede ser la comprensión de los datos, ya que cada capa construye y refina las representaciones proporcionadas por las capas anteriores. Las capas intermedias se denominan comúnmente capas ocultas, y cada capa transforma sus entradas en un espacio más abstracto y compuesto. Una red de deep learning será capaz de aprender a realizar tareas de clasificación o predicción directamente a partir de los datos en bruto."
   ]
  },
  {
   "cell_type": "markdown",
   "metadata": {},
   "source": [
    "![Imagen](https://www.percepcioneseconomicas.cl/wp-content/uploads/2021/11/0-_hYyiOx7O2-GJflR.png)"
   ]
  },
  {
   "cell_type": "markdown",
   "metadata": {},
   "source": [
    "### Diferencias y similitudes con el Machine Learning Tradicional\n",
    "\n",
    "* **Similitudes:**\n",
    "  * Ambos, Machine Learning y Deep Learning, involucran alimentación de datos a un modelo para que este aprenda realizar tareas específicas.\n",
    "  * Utilizan datos y técnicas de entrenamiento basadas en el aprendizaje supervisado y no supervisado\n",
    "  * Requieren una división de datos en conjuntos de entrenamiento, validación y prueba para desarrollar y validar modelos predictivos.\n",
    "* **Diferencias:**\n",
    "  * **Modelado de características (Featuring engineering):** En el machine learning tradicional, a menudo se requiere una cuidadosa ingeniería de características para mejorar la calidad de los modelos, mientras que el Deep Learning intenta aprender automáticamente las características de alto nivel a partir de los datos.\n",
    "  * **Capacidad computacional:** Deep Learning generalmente requiere una mayor capacidad de cómputo y grandes volúmenes de datos para entrenar modelos efectivos, mientras que muchos algoritmos de Machine Learning pueden trabajar con menos datos y en hardware menos potente.\n",
    "  * **Interpretabilidad:** Los modelos de Machine Learning como los árboles de decisión o la regresión lineal pueden ser más fáciles de interpretar que las redes neuronales profundas, que son a menudo consideradas como \"cajas negras\" debido a su complejidad."
   ]
  },
  {
   "cell_type": "markdown",
   "metadata": {},
   "source": [
    "### Aplicaciones y ejemplos\n",
    "* **Visión por Computadora:** Reconocimiento facial en fotografías, diagnóstico médico a partir de imagenes, vehículos autónomos que interpretan su entorno visual.\n",
    "* **Procesamiento del Lenguaje Natural (NLP):** Traducción automática, como Google Translate, generación de texto y asistentes de voz inteligentes (ejemplo, Siri o Alexa).\n",
    "* **Reconocimiento de Voz:** Transcripción automática de voz a texto, sistemas de respuesta de voz interactiva"
   ]
  },
  {
   "cell_type": "markdown",
   "metadata": {},
   "source": [
    "## Introducción A TensorFlow y Keras"
   ]
  },
  {
   "cell_type": "markdown",
   "metadata": {},
   "source": [
    "### Historia y desarollo"
   ]
  },
  {
   "cell_type": "markdown",
   "metadata": {},
   "source": [
    "### Ventajas y desventajas"
   ]
  },
  {
   "cell_type": "markdown",
   "metadata": {},
   "source": [
    "### Ejemplo de codigo sencillo"
   ]
  },
  {
   "cell_type": "markdown",
   "metadata": {},
   "source": [
    "# Conceptos Básicos"
   ]
  },
  {
   "cell_type": "markdown",
   "metadata": {},
   "source": [
    "## Redes Neuronales"
   ]
  },
  {
   "cell_type": "markdown",
   "metadata": {},
   "source": [
    "### Estructura y componentes"
   ]
  },
  {
   "cell_type": "markdown",
   "metadata": {},
   "source": [
    "### Funciones de activación"
   ]
  },
  {
   "cell_type": "markdown",
   "metadata": {},
   "source": [
    "### Proceso de feedforward"
   ]
  },
  {
   "cell_type": "markdown",
   "metadata": {},
   "source": [
    "## Proceso de entrenamiento"
   ]
  },
  {
   "cell_type": "markdown",
   "metadata": {},
   "source": [
    "### Back propagation y descenso del gradiente"
   ]
  },
  {
   "cell_type": "markdown",
   "metadata": {},
   "source": [
    "### Función de pérdida"
   ]
  },
  {
   "cell_type": "markdown",
   "metadata": {},
   "source": [
    "### Optimizadores"
   ]
  },
  {
   "cell_type": "markdown",
   "metadata": {},
   "source": [
    "## Regularización y Prevención del Overfitting"
   ]
  },
  {
   "cell_type": "markdown",
   "metadata": {},
   "source": [
    "### Tecnicas de regularización: Dropout, L1/L2 regularization"
   ]
  },
  {
   "cell_type": "markdown",
   "metadata": {},
   "source": [
    "### Importancia del conjunto de validación."
   ]
  },
  {
   "cell_type": "markdown",
   "metadata": {},
   "source": [
    "### Early stopping."
   ]
  },
  {
   "cell_type": "markdown",
   "metadata": {},
   "source": []
  }
 ],
 "metadata": {
  "language_info": {
   "name": "python"
  }
 },
 "nbformat": 4,
 "nbformat_minor": 2
}
